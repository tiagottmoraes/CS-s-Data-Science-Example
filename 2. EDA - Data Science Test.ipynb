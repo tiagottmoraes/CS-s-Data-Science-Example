{
 "cells": [
  {
   "cell_type": "markdown",
   "metadata": {},
   "source": [
    "<left>\n",
    "    <a href=img><img src = \"https://github.com/tiagottmoraes/CS-s-Data-Science-Test/blob/main/Misc/1c86bfb3-cab0-4255-99bf-24c5488d888a-1632765661247.png?raw=true\" width=\"400\"  />\n",
    "</left>"
   ]
  },
  {
   "cell_type": "markdown",
   "metadata": {},
   "source": [
    "###### Developed by Tiago Moraes (09.02.2022)"
   ]
  },
  {
   "cell_type": "markdown",
   "metadata": {},
   "source": [
    "# Data Science Test - Part II\n",
    "\n",
    "----\n",
    "\n",
    "The following notebooks presents the complete dataset analysis, exploration and pre-processing steps required to implement a tailored machine learning model designed to **predict the total minutes** ('total_minutes' label) it takes to a shopper to complete a given order.\n",
    "\n",
    "For that, **3 different notebooks** were prepared for each task, as following:\n",
    "\n",
    "- **[1. ETL process notebook:](#https://github.com/tiagottmoraes/CS-s-Data-Science-Test/blob/main/ETL.ipynb)** Complete ETL (data wrangling) process of the provided datasets, including feature engineering, feature transformations, and data standardizations, necessary to carry out all the statistics tests necessaries in the next phase;\n",
    "\n",
    "- **[2. EDA notebook:](#https://github.com/tiagottmoraes/CS-s-Data-Science-Test/blob/main/ETL.ipynb)** Statistical exploration and understanding of the pre-processed dataset. Needed to define the best machine learning strategy for the target Label;\n",
    "\n",
    "- **[3. Machine Learning Model development notebook:](#https://github.com/tiagottmoraes/CS-s-Data-Science-Test/blob/main/ETL.ipynb)** Build, train and test a ML model that takes in the process the dataset, generates a model and deploy it with unseen data to generate predictions (\"total_minutes\" label)\n",
    "<br />\n",
    "<br />\n",
    "\n",
    "This notebook catches up from the previous one (1.ETL - Data Science Test.ipynb) and uses the processed file throughout the entire exploratory data analysis"
   ]
  },
  {
   "cell_type": "markdown",
   "metadata": {},
   "source": [
    "# 2. EDA process - Analytical and statistical data exploration\n",
    "\n",
    "\n",
    "----"
   ]
  },
  {
   "cell_type": "markdown",
   "metadata": {},
   "source": [
    "## 1. Importing necessary modules and data"
   ]
  },
  {
   "cell_type": "code",
   "execution_count": 17,
   "metadata": {},
   "outputs": [],
   "source": [
    "import pandas as pd\n",
    "import numpy as np\n",
    "import matplotlib.pyplot as plt\n",
    "%matplotlib inline\n",
    "import seaborn as sns\n",
    "import folium\n",
    "from geopy.geocoders import Nominatim"
   ]
  },
  {
   "cell_type": "markdown",
   "metadata": {},
   "source": [
    "### 1.1 Loading dataset \"df_TRAIN.csv\" obtained from the ETL notebook"
   ]
  },
  {
   "cell_type": "markdown",
   "metadata": {},
   "source": [
    "After loading the df_TRAIN.csv into a dataframe called **df_EDA**, let's look at the first five rows using the `head()` function:"
   ]
  },
  {
   "cell_type": "code",
   "execution_count": 2,
   "metadata": {},
   "outputs": [
    {
     "data": {
      "text/html": [
       "<div>\n",
       "<style scoped>\n",
       "    .dataframe tbody tr th:only-of-type {\n",
       "        vertical-align: middle;\n",
       "    }\n",
       "\n",
       "    .dataframe tbody tr th {\n",
       "        vertical-align: top;\n",
       "    }\n",
       "\n",
       "    .dataframe thead th {\n",
       "        text-align: right;\n",
       "    }\n",
       "</style>\n",
       "<table border=\"1\" class=\"dataframe\">\n",
       "  <thead>\n",
       "    <tr style=\"text-align: right;\">\n",
       "      <th></th>\n",
       "      <th>Unnamed: 0</th>\n",
       "      <th>order_id</th>\n",
       "      <th>store_branch_id</th>\n",
       "      <th>shopper_id</th>\n",
       "      <th>on_demand</th>\n",
       "      <th>seniority</th>\n",
       "      <th>order_size</th>\n",
       "      <th>found_rate</th>\n",
       "      <th>picking_speed</th>\n",
       "      <th>accepted_rate</th>\n",
       "      <th>rating</th>\n",
       "      <th>distance_km</th>\n",
       "      <th>total_minutes</th>\n",
       "    </tr>\n",
       "  </thead>\n",
       "  <tbody>\n",
       "    <tr>\n",
       "      <th>0</th>\n",
       "      <td>0</td>\n",
       "      <td>e750294655c2c7c34d83cc3181c09de4</td>\n",
       "      <td>65ded5353c5ee48d0b7d48c591b8f430</td>\n",
       "      <td>e63bc83a1a952fa2b3cc9d558fb943cf</td>\n",
       "      <td>1</td>\n",
       "      <td>I</td>\n",
       "      <td>19</td>\n",
       "      <td>0.9024</td>\n",
       "      <td>1.30</td>\n",
       "      <td>0.92</td>\n",
       "      <td>4.76</td>\n",
       "      <td>1.818407</td>\n",
       "      <td>67.684264</td>\n",
       "    </tr>\n",
       "    <tr>\n",
       "      <th>1</th>\n",
       "      <td>1</td>\n",
       "      <td>3bb5d9adb3ecac1925b60d5d26a510c4</td>\n",
       "      <td>65ded5353c5ee48d0b7d48c591b8f430</td>\n",
       "      <td>e63bc83a1a952fa2b3cc9d558fb943cf</td>\n",
       "      <td>1</td>\n",
       "      <td>I</td>\n",
       "      <td>34</td>\n",
       "      <td>0.9024</td>\n",
       "      <td>1.30</td>\n",
       "      <td>0.92</td>\n",
       "      <td>4.76</td>\n",
       "      <td>0.961885</td>\n",
       "      <td>160.336211</td>\n",
       "    </tr>\n",
       "    <tr>\n",
       "      <th>2</th>\n",
       "      <td>2</td>\n",
       "      <td>b838eea64cf24dde0a78ce1feb84ca7c</td>\n",
       "      <td>65ded5353c5ee48d0b7d48c591b8f430</td>\n",
       "      <td>cb5ef07d15fb3981eeb6e0011bc80163</td>\n",
       "      <td>0</td>\n",
       "      <td>I</td>\n",
       "      <td>72</td>\n",
       "      <td>0.8909</td>\n",
       "      <td>1.17</td>\n",
       "      <td>0.96</td>\n",
       "      <td>5.00</td>\n",
       "      <td>1.653246</td>\n",
       "      <td>122.239210</td>\n",
       "    </tr>\n",
       "    <tr>\n",
       "      <th>3</th>\n",
       "      <td>3</td>\n",
       "      <td>2c85303190a77493348b0b827232f4d6</td>\n",
       "      <td>65ded5353c5ee48d0b7d48c591b8f430</td>\n",
       "      <td>ca54a789a8dc54742710490e25df9844</td>\n",
       "      <td>0</td>\n",
       "      <td>I</td>\n",
       "      <td>80</td>\n",
       "      <td>0.8462</td>\n",
       "      <td>1.11</td>\n",
       "      <td>0.96</td>\n",
       "      <td>4.96</td>\n",
       "      <td>0.695847</td>\n",
       "      <td>133.113926</td>\n",
       "    </tr>\n",
       "    <tr>\n",
       "      <th>4</th>\n",
       "      <td>4</td>\n",
       "      <td>e606cc26b843c312df82a29d1f8d4372</td>\n",
       "      <td>65ded5353c5ee48d0b7d48c591b8f430</td>\n",
       "      <td>362e274d254be8fae76396b8f10a7fd5</td>\n",
       "      <td>0</td>\n",
       "      <td>M</td>\n",
       "      <td>29</td>\n",
       "      <td>0.8138</td>\n",
       "      <td>1.89</td>\n",
       "      <td>0.84</td>\n",
       "      <td>4.68</td>\n",
       "      <td>3.316783</td>\n",
       "      <td>94.734479</td>\n",
       "    </tr>\n",
       "  </tbody>\n",
       "</table>\n",
       "</div>"
      ],
      "text/plain": [
       "   Unnamed: 0                          order_id  \\\n",
       "0           0  e750294655c2c7c34d83cc3181c09de4   \n",
       "1           1  3bb5d9adb3ecac1925b60d5d26a510c4   \n",
       "2           2  b838eea64cf24dde0a78ce1feb84ca7c   \n",
       "3           3  2c85303190a77493348b0b827232f4d6   \n",
       "4           4  e606cc26b843c312df82a29d1f8d4372   \n",
       "\n",
       "                    store_branch_id                        shopper_id  \\\n",
       "0  65ded5353c5ee48d0b7d48c591b8f430  e63bc83a1a952fa2b3cc9d558fb943cf   \n",
       "1  65ded5353c5ee48d0b7d48c591b8f430  e63bc83a1a952fa2b3cc9d558fb943cf   \n",
       "2  65ded5353c5ee48d0b7d48c591b8f430  cb5ef07d15fb3981eeb6e0011bc80163   \n",
       "3  65ded5353c5ee48d0b7d48c591b8f430  ca54a789a8dc54742710490e25df9844   \n",
       "4  65ded5353c5ee48d0b7d48c591b8f430  362e274d254be8fae76396b8f10a7fd5   \n",
       "\n",
       "   on_demand seniority  order_size  found_rate  picking_speed  accepted_rate  \\\n",
       "0          1         I          19      0.9024           1.30           0.92   \n",
       "1          1         I          34      0.9024           1.30           0.92   \n",
       "2          0         I          72      0.8909           1.17           0.96   \n",
       "3          0         I          80      0.8462           1.11           0.96   \n",
       "4          0         M          29      0.8138           1.89           0.84   \n",
       "\n",
       "   rating  distance_km  total_minutes  \n",
       "0    4.76     1.818407      67.684264  \n",
       "1    4.76     0.961885     160.336211  \n",
       "2    5.00     1.653246     122.239210  \n",
       "3    4.96     0.695847     133.113926  \n",
       "4    4.68     3.316783      94.734479  "
      ]
     },
     "execution_count": 2,
     "metadata": {},
     "output_type": "execute_result"
    }
   ],
   "source": [
    "filename_EDA = \"https://raw.githubusercontent.com/tiagottmoraes/CS-s-Data-Science-Test/main/data/df_TRAIN.csv\"\n",
    "df_EDA = pd.read_csv(filename_EDA)\n",
    "df_EDA.head()"
   ]
  },
  {
   "cell_type": "code",
   "execution_count": 3,
   "metadata": {},
   "outputs": [],
   "source": [
    "#removing the first column (\"Unnamed: 0\")\n",
    "df_EDA.drop(['Unnamed: 0'], axis = 1, inplace = True)"
   ]
  },
  {
   "cell_type": "code",
   "execution_count": 12,
   "metadata": {},
   "outputs": [
    {
     "data": {
      "text/html": [
       "<div>\n",
       "<style scoped>\n",
       "    .dataframe tbody tr th:only-of-type {\n",
       "        vertical-align: middle;\n",
       "    }\n",
       "\n",
       "    .dataframe tbody tr th {\n",
       "        vertical-align: top;\n",
       "    }\n",
       "\n",
       "    .dataframe thead th {\n",
       "        text-align: right;\n",
       "    }\n",
       "</style>\n",
       "<table border=\"1\" class=\"dataframe\">\n",
       "  <thead>\n",
       "    <tr style=\"text-align: right;\">\n",
       "      <th></th>\n",
       "      <th>on_demand</th>\n",
       "      <th>order_size</th>\n",
       "      <th>found_rate</th>\n",
       "      <th>picking_speed</th>\n",
       "      <th>accepted_rate</th>\n",
       "      <th>rating</th>\n",
       "      <th>distance_km</th>\n",
       "      <th>total_minutes</th>\n",
       "    </tr>\n",
       "  </thead>\n",
       "  <tbody>\n",
       "    <tr>\n",
       "      <th>count</th>\n",
       "      <td>7983.000000</td>\n",
       "      <td>7983.000000</td>\n",
       "      <td>7983.000000</td>\n",
       "      <td>7983.000000</td>\n",
       "      <td>7983.000000</td>\n",
       "      <td>7983.000000</td>\n",
       "      <td>7983.000000</td>\n",
       "      <td>7983.000000</td>\n",
       "    </tr>\n",
       "    <tr>\n",
       "      <th>mean</th>\n",
       "      <td>0.454591</td>\n",
       "      <td>19.830640</td>\n",
       "      <td>0.863376</td>\n",
       "      <td>1.689766</td>\n",
       "      <td>0.916663</td>\n",
       "      <td>4.850866</td>\n",
       "      <td>2.885621</td>\n",
       "      <td>81.152277</td>\n",
       "    </tr>\n",
       "    <tr>\n",
       "      <th>std</th>\n",
       "      <td>0.497965</td>\n",
       "      <td>16.512362</td>\n",
       "      <td>0.029568</td>\n",
       "      <td>0.630342</td>\n",
       "      <td>0.097248</td>\n",
       "      <td>0.126150</td>\n",
       "      <td>1.831026</td>\n",
       "      <td>34.705843</td>\n",
       "    </tr>\n",
       "    <tr>\n",
       "      <th>min</th>\n",
       "      <td>0.000000</td>\n",
       "      <td>1.000000</td>\n",
       "      <td>0.737300</td>\n",
       "      <td>0.650000</td>\n",
       "      <td>0.240000</td>\n",
       "      <td>3.880000</td>\n",
       "      <td>0.076566</td>\n",
       "      <td>11.969489</td>\n",
       "    </tr>\n",
       "    <tr>\n",
       "      <th>25%</th>\n",
       "      <td>0.000000</td>\n",
       "      <td>7.000000</td>\n",
       "      <td>0.846800</td>\n",
       "      <td>1.260000</td>\n",
       "      <td>0.880000</td>\n",
       "      <td>4.800000</td>\n",
       "      <td>1.587437</td>\n",
       "      <td>55.301119</td>\n",
       "    </tr>\n",
       "    <tr>\n",
       "      <th>50%</th>\n",
       "      <td>0.000000</td>\n",
       "      <td>16.000000</td>\n",
       "      <td>0.865200</td>\n",
       "      <td>1.520000</td>\n",
       "      <td>0.960000</td>\n",
       "      <td>4.880000</td>\n",
       "      <td>2.500813</td>\n",
       "      <td>74.752992</td>\n",
       "    </tr>\n",
       "    <tr>\n",
       "      <th>75%</th>\n",
       "      <td>1.000000</td>\n",
       "      <td>28.000000</td>\n",
       "      <td>0.883350</td>\n",
       "      <td>2.000000</td>\n",
       "      <td>1.000000</td>\n",
       "      <td>4.960000</td>\n",
       "      <td>3.907589</td>\n",
       "      <td>100.302939</td>\n",
       "    </tr>\n",
       "    <tr>\n",
       "      <th>max</th>\n",
       "      <td>1.000000</td>\n",
       "      <td>145.000000</td>\n",
       "      <td>0.971000</td>\n",
       "      <td>7.040000</td>\n",
       "      <td>1.000000</td>\n",
       "      <td>5.000000</td>\n",
       "      <td>16.631580</td>\n",
       "      <td>304.190303</td>\n",
       "    </tr>\n",
       "  </tbody>\n",
       "</table>\n",
       "</div>"
      ],
      "text/plain": [
       "         on_demand   order_size   found_rate  picking_speed  accepted_rate  \\\n",
       "count  7983.000000  7983.000000  7983.000000    7983.000000    7983.000000   \n",
       "mean      0.454591    19.830640     0.863376       1.689766       0.916663   \n",
       "std       0.497965    16.512362     0.029568       0.630342       0.097248   \n",
       "min       0.000000     1.000000     0.737300       0.650000       0.240000   \n",
       "25%       0.000000     7.000000     0.846800       1.260000       0.880000   \n",
       "50%       0.000000    16.000000     0.865200       1.520000       0.960000   \n",
       "75%       1.000000    28.000000     0.883350       2.000000       1.000000   \n",
       "max       1.000000   145.000000     0.971000       7.040000       1.000000   \n",
       "\n",
       "            rating  distance_km  total_minutes  \n",
       "count  7983.000000  7983.000000    7983.000000  \n",
       "mean      4.850866     2.885621      81.152277  \n",
       "std       0.126150     1.831026      34.705843  \n",
       "min       3.880000     0.076566      11.969489  \n",
       "25%       4.800000     1.587437      55.301119  \n",
       "50%       4.880000     2.500813      74.752992  \n",
       "75%       4.960000     3.907589     100.302939  \n",
       "max       5.000000    16.631580     304.190303  "
      ]
     },
     "execution_count": 12,
     "metadata": {},
     "output_type": "execute_result"
    }
   ],
   "source": [
    "#checking overall data statistics\n",
    "df_EDA.describe(include=['int64', 'float64'])"
   ]
  },
  {
   "cell_type": "markdown",
   "metadata": {},
   "source": [
    "## 2. Statistical tests\n"
   ]
  },
  {
   "cell_type": "markdown",
   "metadata": {},
   "source": [
    "The following EDA was carried out using 3 distinct analysis: <br>\n",
    "- A. Correlation Test\n",
    "- B. Skewness Test\n",
    "- C. Variance Test"
   ]
  },
  {
   "cell_type": "code",
   "execution_count": 14,
   "metadata": {},
   "outputs": [
    {
     "data": {
      "text/plain": [
       "total_minutes    1.000000\n",
       "order_size       0.585021\n",
       "distance_km      0.139457\n",
       "picking_speed    0.080071\n",
       "accepted_rate   -0.020568\n",
       "rating          -0.020735\n",
       "found_rate      -0.108025\n",
       "on_demand       -0.263293\n",
       "Name: total_minutes, dtype: float64"
      ]
     },
     "execution_count": 14,
     "metadata": {},
     "output_type": "execute_result"
    }
   ],
   "source": [
    "df_EDA.corr()['total_minutes'].sort_values(ascending=False)"
   ]
  },
  {
   "cell_type": "code",
   "execution_count": 15,
   "metadata": {},
   "outputs": [
    {
     "data": {
      "text/plain": [
       "<AxesSubplot:>"
      ]
     },
     "execution_count": 15,
     "metadata": {},
     "output_type": "execute_result"
    },
    {
     "data": {
      "image/png": "[encoded data removed]",
      "text/plain": [
       "<Figure size 1080x648 with 2 Axes>"
      ]
     },
     "metadata": {
      "needs_background": "light"
     },
     "output_type": "display_data"
    }
   ],
   "source": [
    "plt.figure(figsize = (15,9))\n",
    "mask=np.triu(df_EDA.corr())\n",
    "sns.heatmap(df_EDA.corr(), mask=mask, annot=True, cmap='OrRd')"
   ]
  },
  {
   "cell_type": "markdown",
   "metadata": {},
   "source": [
    "## 3. Spatial Analysis"
   ]
  },
  {
   "cell_type": "markdown",
   "metadata": {},
   "source": [
    "Since we have coordinates for both stores and delivery locations, let's take a quick look how they are scattered in the map using the folium library."
   ]
  },
  {
   "cell_type": "code",
   "execution_count": 18,
   "metadata": {},
   "outputs": [
    {
     "name": "stdout",
     "output_type": "stream",
     "text": [
      "The geograpical coordinate of Santiago are -33.4377756, -70.6504502.\n"
     ]
    }
   ],
   "source": [
    "#Fetching spatial data from the web\n",
    "address = 'Santiago, Chile' #just an example to extract the coordinates\n",
    "\n",
    "geolocator = Nominatim(user_agent=\"st_explorer\")\n",
    "location = geolocator.geocode(address)\n",
    "latitude = location.latitude\n",
    "longitude = location.longitude\n",
    "print('The geograpical coordinate of Santiago are {}, {}.'.format(latitude, longitude))"
   ]
  },
  {
   "cell_type": "code",
   "execution_count": null,
   "metadata": {},
   "outputs": [],
   "source": [
    "# create map of Santiago using latitude and longitude values\n",
    "map_santiago = folium.Map(location=[latitude, longitude], zoom_start=10)\n",
    "\n",
    "# add markers to the map\n",
    "for lat, lng, in zip(df_EDA['store_lat'], df_EDA['store_long']):\n",
    "    folium.CircleMarker(\n",
    "        [lat, lng],\n",
    "        radius=5,\n",
    "        color='blue',\n",
    "        fill=True,\n",
    "        fill_color='#3186cc',\n",
    "        fill_opacity=0.7,\n",
    "        parse_html=False).add_to(map_santiago)  \n",
    "    \n",
    "for lat, lng, in zip(df_EDA['delivery_lat'], df_EDA['delivery_long']):\n",
    "    folium.CircleMarker(\n",
    "        [lat, lng],\n",
    "        radius=5,\n",
    "        color='red',\n",
    "        fill=True,\n",
    "        fill_color='#3186cc',\n",
    "        fill_opacity=0.7,\n",
    "        parse_html=False).add_to(map_santiago) \n",
    "    \n",
    "map_santiago"
   ]
  }
 ],
 "metadata": {
  "interpreter": {
   "hash": "bf3288ed2828b036a6ff4392f25b55c2f5c8bcbe78b3cbd29a21ec407b552697"
  },
  "kernelspec": {
   "display_name": "Python 3.9.7 64-bit",
   "language": "python",
   "name": "python3"
  },
  "language_info": {
   "codemirror_mode": {
    "name": "ipython",
    "version": 3
   },
   "file_extension": ".py",
   "mimetype": "text/x-python",
   "name": "python",
   "nbconvert_exporter": "python",
   "pygments_lexer": "ipython3",
   "version": "3.9.7"
  },
  "orig_nbformat": 4
 },
 "nbformat": 4,
 "nbformat_minor": 2
}
