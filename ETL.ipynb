{
 "cells": [
  {
   "cell_type": "code",
   "execution_count": 48,
   "metadata": {},
   "outputs": [],
   "source": [
    "import pandas as pd\n",
    "import numpy as np\n",
    "import matplotlib.pyplot as plt\n",
    "from sklearn.model_selection import train_test_split\n",
    "from sklearn.linear_model import LinearRegression\n",
    "from sklearn.metrics import mean_squared_error\n",
    "from sklearn.metrics import r2_score\n",
    "import seaborn as sns\n",
    "import os\n",
    "import sys"
   ]
  },
  {
   "cell_type": "code",
   "execution_count": 52,
   "metadata": {},
   "outputs": [
    {
     "data": {
      "text/html": [
       "<div>\n",
       "<style scoped>\n",
       "    .dataframe tbody tr th:only-of-type {\n",
       "        vertical-align: middle;\n",
       "    }\n",
       "\n",
       "    .dataframe tbody tr th {\n",
       "        vertical-align: top;\n",
       "    }\n",
       "\n",
       "    .dataframe thead th {\n",
       "        text-align: right;\n",
       "    }\n",
       "</style>\n",
       "<table border=\"1\" class=\"dataframe\">\n",
       "  <thead>\n",
       "    <tr style=\"text-align: right;\">\n",
       "      <th></th>\n",
       "      <th>order_id</th>\n",
       "      <th>product_id</th>\n",
       "      <th>quantity</th>\n",
       "      <th>buy_unit</th>\n",
       "    </tr>\n",
       "  </thead>\n",
       "  <tbody>\n",
       "    <tr>\n",
       "      <th>97153</th>\n",
       "      <td>d76b2db240676d97eb83226b38080a1b</td>\n",
       "      <td>d941f7183f6331a2c7d59cf1333e93c6</td>\n",
       "      <td>2.000</td>\n",
       "      <td>UN</td>\n",
       "    </tr>\n",
       "    <tr>\n",
       "      <th>159214</th>\n",
       "      <td>f7507e7fdc2b9720607e93833d3300a3</td>\n",
       "      <td>9b4c496c006368b399b000baa3b0ae18</td>\n",
       "      <td>2.201</td>\n",
       "      <td>KG</td>\n",
       "    </tr>\n",
       "    <tr>\n",
       "      <th>113219</th>\n",
       "      <td>e2809ee88ebefd4f195d593f6e4b81c4</td>\n",
       "      <td>a3bfa246d20a8d5f6ea97a4aa0f8781d</td>\n",
       "      <td>1.000</td>\n",
       "      <td>UN</td>\n",
       "    </tr>\n",
       "  </tbody>\n",
       "</table>\n",
       "</div>"
      ],
      "text/plain": [
       "                                order_id                        product_id  \\\n",
       "97153   d76b2db240676d97eb83226b38080a1b  d941f7183f6331a2c7d59cf1333e93c6   \n",
       "159214  f7507e7fdc2b9720607e93833d3300a3  9b4c496c006368b399b000baa3b0ae18   \n",
       "113219  e2809ee88ebefd4f195d593f6e4b81c4  a3bfa246d20a8d5f6ea97a4aa0f8781d   \n",
       "\n",
       "        quantity buy_unit  \n",
       "97153      2.000       UN  \n",
       "159214     2.201       KG  \n",
       "113219     1.000       UN  "
      ]
     },
     "execution_count": 52,
     "metadata": {},
     "output_type": "execute_result"
    }
   ],
   "source": [
    "## Order_products\n",
    "filename_ordprod = \"https://raw.githubusercontent.com/tiagottmoraes/Cornershop-s-Data-Science-Test/main/data/order_products.csv?token=GHSAT0AAAAAABOPI7H3MLEWOP67JFG2MFOOYQBLYWA\"\n",
    "df_ordprod = pd.read_csv(filename_ordprod)\n",
    "df_ordprod.sample(3)\n"
   ]
  },
  {
   "cell_type": "code",
   "execution_count": 63,
   "metadata": {},
   "outputs": [
    {
     "name": "stdout",
     "output_type": "stream",
     "text": [
      "order_id\n",
      "False    198500\n",
      "Name: order_id, dtype: int64\n",
      "\n",
      "product_id\n",
      "False    198500\n",
      "Name: product_id, dtype: int64\n",
      "\n",
      "quantity\n",
      "False    198500\n",
      "Name: quantity, dtype: int64\n",
      "\n",
      "buy_unit\n",
      "False    198500\n",
      "Name: buy_unit, dtype: int64\n",
      "\n"
     ]
    }
   ],
   "source": [
    "missing_data_order = df_ordprod.isnull()\n",
    "for column in missing_data_order.columns.values.tolist():\n",
    "    print(column)\n",
    "    print(missing_data_order[column].value_counts())\n",
    "    print(\"\")"
   ]
  },
  {
   "cell_type": "code",
   "execution_count": 53,
   "metadata": {},
   "outputs": [
    {
     "data": {
      "text/html": [
       "<div>\n",
       "<style scoped>\n",
       "    .dataframe tbody tr th:only-of-type {\n",
       "        vertical-align: middle;\n",
       "    }\n",
       "\n",
       "    .dataframe tbody tr th {\n",
       "        vertical-align: top;\n",
       "    }\n",
       "\n",
       "    .dataframe thead th {\n",
       "        text-align: right;\n",
       "    }\n",
       "</style>\n",
       "<table border=\"1\" class=\"dataframe\">\n",
       "  <thead>\n",
       "    <tr style=\"text-align: right;\">\n",
       "      <th></th>\n",
       "      <th>shopper_id</th>\n",
       "      <th>seniority</th>\n",
       "      <th>found_rate</th>\n",
       "      <th>picking_speed</th>\n",
       "      <th>accepted_rate</th>\n",
       "      <th>rating</th>\n",
       "    </tr>\n",
       "  </thead>\n",
       "  <tbody>\n",
       "    <tr>\n",
       "      <th>2721</th>\n",
       "      <td>20ce71b6db2ec854931df3f2f3354b8e</td>\n",
       "      <td>6c90661e6d2c7579f5ce337c3391dbb9</td>\n",
       "      <td>0.8491</td>\n",
       "      <td>1.60</td>\n",
       "      <td>1.00</td>\n",
       "      <td>5.00</td>\n",
       "    </tr>\n",
       "    <tr>\n",
       "      <th>1504</th>\n",
       "      <td>e333525119a0802de20cdea9a7d8e767</td>\n",
       "      <td>41dc7c9e385c4d2b6c1f7836973951bf</td>\n",
       "      <td>0.8193</td>\n",
       "      <td>2.25</td>\n",
       "      <td>1.00</td>\n",
       "      <td>4.88</td>\n",
       "    </tr>\n",
       "    <tr>\n",
       "      <th>1923</th>\n",
       "      <td>604a74c7e290f8e62552f9f2e738f06b</td>\n",
       "      <td>6c90661e6d2c7579f5ce337c3391dbb9</td>\n",
       "      <td>0.8941</td>\n",
       "      <td>1.25</td>\n",
       "      <td>0.88</td>\n",
       "      <td>4.88</td>\n",
       "    </tr>\n",
       "  </tbody>\n",
       "</table>\n",
       "</div>"
      ],
      "text/plain": [
       "                            shopper_id                         seniority  \\\n",
       "2721  20ce71b6db2ec854931df3f2f3354b8e  6c90661e6d2c7579f5ce337c3391dbb9   \n",
       "1504  e333525119a0802de20cdea9a7d8e767  41dc7c9e385c4d2b6c1f7836973951bf   \n",
       "1923  604a74c7e290f8e62552f9f2e738f06b  6c90661e6d2c7579f5ce337c3391dbb9   \n",
       "\n",
       "      found_rate  picking_speed  accepted_rate  rating  \n",
       "2721      0.8491           1.60           1.00    5.00  \n",
       "1504      0.8193           2.25           1.00    4.88  \n",
       "1923      0.8941           1.25           0.88    4.88  "
      ]
     },
     "execution_count": 53,
     "metadata": {},
     "output_type": "execute_result"
    }
   ],
   "source": [
    "## Shopper\n",
    "filename_shop = \"https://raw.githubusercontent.com/tiagottmoraes/Cornershop-s-Data-Science-Test/main/data/shoppers.csv?token=GHSAT0AAAAAABOPI7H2UGR2NWFIPRYHHKGWYQBLZ7Q\"\n",
    "df_shop = pd.read_csv(filename_shop)\n",
    "df_shop.sample(3)"
   ]
  },
  {
   "cell_type": "code",
   "execution_count": 62,
   "metadata": {},
   "outputs": [
    {
     "name": "stdout",
     "output_type": "stream",
     "text": [
      "shopper_id\n",
      "False    2864\n",
      "Name: shopper_id, dtype: int64\n",
      "\n",
      "seniority\n",
      "False    2864\n",
      "Name: seniority, dtype: int64\n",
      "\n",
      "found_rate\n",
      "False    2763\n",
      "True      101\n",
      "Name: found_rate, dtype: int64\n",
      "\n",
      "picking_speed\n",
      "False    2864\n",
      "Name: picking_speed, dtype: int64\n",
      "\n",
      "accepted_rate\n",
      "False    2837\n",
      "True       27\n",
      "Name: accepted_rate, dtype: int64\n",
      "\n",
      "rating\n",
      "False    2780\n",
      "True       84\n",
      "Name: rating, dtype: int64\n",
      "\n"
     ]
    }
   ],
   "source": [
    "missing_data_order = df_shop.isnull()\n",
    "for column in missing_data_order.columns.values.tolist():\n",
    "    print(column)\n",
    "    print(missing_data_order[column].value_counts())\n",
    "    print(\"\")"
   ]
  },
  {
   "cell_type": "code",
   "execution_count": 54,
   "metadata": {},
   "outputs": [
    {
     "data": {
      "text/html": [
       "<div>\n",
       "<style scoped>\n",
       "    .dataframe tbody tr th:only-of-type {\n",
       "        vertical-align: middle;\n",
       "    }\n",
       "\n",
       "    .dataframe tbody tr th {\n",
       "        vertical-align: top;\n",
       "    }\n",
       "\n",
       "    .dataframe thead th {\n",
       "        text-align: right;\n",
       "    }\n",
       "</style>\n",
       "<table border=\"1\" class=\"dataframe\">\n",
       "  <thead>\n",
       "    <tr style=\"text-align: right;\">\n",
       "      <th></th>\n",
       "      <th>store_branch_id</th>\n",
       "      <th>store_id</th>\n",
       "      <th>lat</th>\n",
       "      <th>lng</th>\n",
       "    </tr>\n",
       "  </thead>\n",
       "  <tbody>\n",
       "    <tr>\n",
       "      <th>377</th>\n",
       "      <td>4462bf0ddbe0d0da40e1e828ebebeb11</td>\n",
       "      <td>f718499c1c8cef6730f9fd03c8125cab</td>\n",
       "      <td>-33.400867</td>\n",
       "      <td>-70.594175</td>\n",
       "    </tr>\n",
       "    <tr>\n",
       "      <th>313</th>\n",
       "      <td>b0bef4c9a6e50d43880191492d4fc827</td>\n",
       "      <td>a8e864d04c95572d1aece099af852d0a</td>\n",
       "      <td>-33.351164</td>\n",
       "      <td>-70.510430</td>\n",
       "    </tr>\n",
       "    <tr>\n",
       "      <th>388</th>\n",
       "      <td>3871bd64012152bfb53fdf04b401193f</td>\n",
       "      <td>c4ca4238a0b923820dcc509a6f75849b</td>\n",
       "      <td>-33.451695</td>\n",
       "      <td>-70.692160</td>\n",
       "    </tr>\n",
       "  </tbody>\n",
       "</table>\n",
       "</div>"
      ],
      "text/plain": [
       "                      store_branch_id                          store_id  \\\n",
       "377  4462bf0ddbe0d0da40e1e828ebebeb11  f718499c1c8cef6730f9fd03c8125cab   \n",
       "313  b0bef4c9a6e50d43880191492d4fc827  a8e864d04c95572d1aece099af852d0a   \n",
       "388  3871bd64012152bfb53fdf04b401193f  c4ca4238a0b923820dcc509a6f75849b   \n",
       "\n",
       "           lat        lng  \n",
       "377 -33.400867 -70.594175  \n",
       "313 -33.351164 -70.510430  \n",
       "388 -33.451695 -70.692160  "
      ]
     },
     "execution_count": 54,
     "metadata": {},
     "output_type": "execute_result"
    }
   ],
   "source": [
    "## Store\n",
    "filename_store = \"https://raw.githubusercontent.com/tiagottmoraes/Cornershop-s-Data-Science-Test/main/data/storebranch.csv?token=GHSAT0AAAAAABOPI7H364D7QLOMEDWNNKECYQBL3AA\"\n",
    "df_store = pd.read_csv(filename_store)\n",
    "df_store.sample(3)"
   ]
  },
  {
   "cell_type": "code",
   "execution_count": 61,
   "metadata": {},
   "outputs": [
    {
     "name": "stdout",
     "output_type": "stream",
     "text": [
      "store_branch_id\n",
      "False    476\n",
      "Name: store_branch_id, dtype: int64\n",
      "\n",
      "store_id\n",
      "False    476\n",
      "Name: store_id, dtype: int64\n",
      "\n",
      "lat\n",
      "False    476\n",
      "Name: lat, dtype: int64\n",
      "\n",
      "lng\n",
      "False    476\n",
      "Name: lng, dtype: int64\n",
      "\n"
     ]
    }
   ],
   "source": [
    "missing_data_order = df_store.isnull()\n",
    "for column in missing_data_order.columns.values.tolist():\n",
    "    print(column)\n",
    "    print(missing_data_order[column].value_counts())\n",
    "    print(\"\")"
   ]
  },
  {
   "cell_type": "code",
   "execution_count": 55,
   "metadata": {},
   "outputs": [
    {
     "data": {
      "text/html": [
       "<div>\n",
       "<style scoped>\n",
       "    .dataframe tbody tr th:only-of-type {\n",
       "        vertical-align: middle;\n",
       "    }\n",
       "\n",
       "    .dataframe tbody tr th {\n",
       "        vertical-align: top;\n",
       "    }\n",
       "\n",
       "    .dataframe thead th {\n",
       "        text-align: right;\n",
       "    }\n",
       "</style>\n",
       "<table border=\"1\" class=\"dataframe\">\n",
       "  <thead>\n",
       "    <tr style=\"text-align: right;\">\n",
       "      <th></th>\n",
       "      <th>order_id</th>\n",
       "      <th>lat</th>\n",
       "      <th>lng</th>\n",
       "      <th>promised_time</th>\n",
       "      <th>on_demand</th>\n",
       "      <th>shopper_id</th>\n",
       "      <th>store_branch_id</th>\n",
       "      <th>total_minutes</th>\n",
       "    </tr>\n",
       "  </thead>\n",
       "  <tbody>\n",
       "    <tr>\n",
       "      <th>5795</th>\n",
       "      <td>438c479771f12905489067bf1fff7e23</td>\n",
       "      <td>-33.416225</td>\n",
       "      <td>-70.566432</td>\n",
       "      <td>2019-10-19 16:00:00+00:00</td>\n",
       "      <td>False</td>\n",
       "      <td>720a71d3aef8aaa3a23297c52aa3ebb3</td>\n",
       "      <td>f50a6c02a3fc5a3a5d4d9391f05f3efc</td>\n",
       "      <td>39.648512</td>\n",
       "    </tr>\n",
       "    <tr>\n",
       "      <th>5834</th>\n",
       "      <td>c65222c1b166f2592454fb33c08c13e4</td>\n",
       "      <td>-33.412699</td>\n",
       "      <td>-70.576941</td>\n",
       "      <td>2019-10-19 19:00:00+00:00</td>\n",
       "      <td>False</td>\n",
       "      <td>2783c94b04196ea23109611dc56d6bc2</td>\n",
       "      <td>1f0e3dad99908345f7439f8ffabdffc4</td>\n",
       "      <td>158.868917</td>\n",
       "    </tr>\n",
       "    <tr>\n",
       "      <th>1414</th>\n",
       "      <td>6a9e435e24d640328206a97080a13795</td>\n",
       "      <td>-33.427659</td>\n",
       "      <td>-70.605131</td>\n",
       "      <td>2019-10-19 01:00:00+00:00</td>\n",
       "      <td>False</td>\n",
       "      <td>fa514581fd5eb2b23df6156b8b1228a9</td>\n",
       "      <td>5751ec3e9a4feab575962e78e006250d</td>\n",
       "      <td>62.059937</td>\n",
       "    </tr>\n",
       "  </tbody>\n",
       "</table>\n",
       "</div>"
      ],
      "text/plain": [
       "                              order_id        lat        lng  \\\n",
       "5795  438c479771f12905489067bf1fff7e23 -33.416225 -70.566432   \n",
       "5834  c65222c1b166f2592454fb33c08c13e4 -33.412699 -70.576941   \n",
       "1414  6a9e435e24d640328206a97080a13795 -33.427659 -70.605131   \n",
       "\n",
       "                  promised_time  on_demand                        shopper_id  \\\n",
       "5795  2019-10-19 16:00:00+00:00      False  720a71d3aef8aaa3a23297c52aa3ebb3   \n",
       "5834  2019-10-19 19:00:00+00:00      False  2783c94b04196ea23109611dc56d6bc2   \n",
       "1414  2019-10-19 01:00:00+00:00      False  fa514581fd5eb2b23df6156b8b1228a9   \n",
       "\n",
       "                       store_branch_id  total_minutes  \n",
       "5795  f50a6c02a3fc5a3a5d4d9391f05f3efc      39.648512  \n",
       "5834  1f0e3dad99908345f7439f8ffabdffc4     158.868917  \n",
       "1414  5751ec3e9a4feab575962e78e006250d      62.059937  "
      ]
     },
     "execution_count": 55,
     "metadata": {},
     "output_type": "execute_result"
    }
   ],
   "source": [
    "## ORDERS - LABEL\n",
    "filename_ORDER = \"https://raw.githubusercontent.com/tiagottmoraes/Cornershop-s-Data-Science-Test/main/data/orders.csv?token=GHSAT0AAAAAABOPI7H2YJSMYIOKU7X7FYNCYQBL3QQ\"\n",
    "df_ORDER = pd.read_csv(filename_ORDER)\n",
    "df_ORDER.sample(3)"
   ]
  },
  {
   "cell_type": "code",
   "execution_count": 60,
   "metadata": {},
   "outputs": [
    {
     "name": "stdout",
     "output_type": "stream",
     "text": [
      "order_id\n",
      "False    10000\n",
      "Name: order_id, dtype: int64\n",
      "\n",
      "lat\n",
      "False    10000\n",
      "Name: lat, dtype: int64\n",
      "\n",
      "lng\n",
      "False    10000\n",
      "Name: lng, dtype: int64\n",
      "\n",
      "promised_time\n",
      "False    10000\n",
      "Name: promised_time, dtype: int64\n",
      "\n",
      "on_demand\n",
      "False    10000\n",
      "Name: on_demand, dtype: int64\n",
      "\n",
      "shopper_id\n",
      "False    10000\n",
      "Name: shopper_id, dtype: int64\n",
      "\n",
      "store_branch_id\n",
      "False    10000\n",
      "Name: store_branch_id, dtype: int64\n",
      "\n",
      "total_minutes\n",
      "False    8000\n",
      "True     2000\n",
      "Name: total_minutes, dtype: int64\n",
      "\n"
     ]
    }
   ],
   "source": [
    "missing_data_order = df_ORDER.isnull()\n",
    "for column in missing_data_order.columns.values.tolist():\n",
    "    print(column)\n",
    "    print(missing_data_order[column].value_counts())\n",
    "    print(\"\")"
   ]
  },
  {
   "cell_type": "code",
   "execution_count": null,
   "metadata": {},
   "outputs": [],
   "source": []
  }
 ],
 "metadata": {
  "interpreter": {
   "hash": "3b7fe9b675e268ef82517985ff54749325a0dd76c33378a0a8fb0c05b54b375d"
  },
  "kernelspec": {
   "display_name": "Python 3.9.7 64-bit",
   "language": "python",
   "name": "python3"
  },
  "language_info": {
   "codemirror_mode": {
    "name": "ipython",
    "version": 3
   },
   "file_extension": ".py",
   "mimetype": "text/x-python",
   "name": "python",
   "nbconvert_exporter": "python",
   "pygments_lexer": "ipython3",
   "version": "3.9.7"
  },
  "orig_nbformat": 4
 },
 "nbformat": 4,
 "nbformat_minor": 2
}
