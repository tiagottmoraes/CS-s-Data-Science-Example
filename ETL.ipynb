{
 "cells": [
  {
   "cell_type": "markdown",
   "metadata": {},
   "source": [
    "<left>\n",
    "    <a href=img><img src = \"https://github.com/tiagottmoraes/CS-s-Data-Science-Test/blob/main/Misc/1c86bfb3-cab0-4255-99bf-24c5488d888a-1632765661247.png?raw=true\" width=\"400\"  />\n",
    "</left>"
   ]
  },
  {
   "cell_type": "markdown",
   "metadata": {},
   "source": [
    "## ETL - Cornershop DS Test"
   ]
  },
  {
   "cell_type": "code",
   "execution_count": 39,
   "metadata": {},
   "outputs": [],
   "source": [
    "import pandas as pd\n",
    "import numpy as np\n",
    "import matplotlib.pyplot as plt\n",
    "from sklearn.model_selection import train_test_split\n",
    "from sklearn.linear_model import LinearRegression\n",
    "from sklearn.metrics import mean_squared_error\n",
    "from sklearn.metrics import r2_score\n",
    "import datetime\n",
    "import seaborn as sns\n",
    "import os\n",
    "import sys"
   ]
  },
  {
   "cell_type": "markdown",
   "metadata": {},
   "source": [
    "<center>\n",
    "    <a href=img><img src = \"https://github.com/tiagottmoraes/CS-s-Data-Science-Test/blob/main/entity_mapping.PNG?raw=true\" width=\"800\"  />\n",
    "</center>"
   ]
  },
  {
   "cell_type": "code",
   "execution_count": 40,
   "metadata": {},
   "outputs": [
    {
     "data": {
      "text/html": [
       "<div>\n",
       "<style scoped>\n",
       "    .dataframe tbody tr th:only-of-type {\n",
       "        vertical-align: middle;\n",
       "    }\n",
       "\n",
       "    .dataframe tbody tr th {\n",
       "        vertical-align: top;\n",
       "    }\n",
       "\n",
       "    .dataframe thead th {\n",
       "        text-align: right;\n",
       "    }\n",
       "</style>\n",
       "<table border=\"1\" class=\"dataframe\">\n",
       "  <thead>\n",
       "    <tr style=\"text-align: right;\">\n",
       "      <th></th>\n",
       "      <th>order_id</th>\n",
       "      <th>product_id</th>\n",
       "      <th>quantity</th>\n",
       "      <th>buy_unit</th>\n",
       "    </tr>\n",
       "  </thead>\n",
       "  <tbody>\n",
       "    <tr>\n",
       "      <th>0</th>\n",
       "      <td>47099653730fb1b76537fc10ad876255</td>\n",
       "      <td>c1244453d731c77416cb4766e3bd76cb</td>\n",
       "      <td>1.0</td>\n",
       "      <td>UN</td>\n",
       "    </tr>\n",
       "    <tr>\n",
       "      <th>1</th>\n",
       "      <td>689d8866915acf87e851c2591a23a82f</td>\n",
       "      <td>43cc2b100bec640fe563cd16f2db669f</td>\n",
       "      <td>1.0</td>\n",
       "      <td>KG</td>\n",
       "    </tr>\n",
       "    <tr>\n",
       "      <th>2</th>\n",
       "      <td>f26d16bf6f38c9e31d0be877f4013a9e</td>\n",
       "      <td>b8f880759d014134e272d881d49989a2</td>\n",
       "      <td>1.0</td>\n",
       "      <td>UN</td>\n",
       "    </tr>\n",
       "    <tr>\n",
       "      <th>3</th>\n",
       "      <td>161ccc896835ab41761b0e726becb6b1</td>\n",
       "      <td>dbc062b9bef805d27a6f4bea7edfe1f1</td>\n",
       "      <td>1.0</td>\n",
       "      <td>UN</td>\n",
       "    </tr>\n",
       "    <tr>\n",
       "      <th>4</th>\n",
       "      <td>4713deca10bb5db98fae150b52d61fc0</td>\n",
       "      <td>93a060f269bb569398921100f84c519a</td>\n",
       "      <td>2.0</td>\n",
       "      <td>UN</td>\n",
       "    </tr>\n",
       "  </tbody>\n",
       "</table>\n",
       "</div>"
      ],
      "text/plain": [
       "                           order_id                        product_id  \\\n",
       "0  47099653730fb1b76537fc10ad876255  c1244453d731c77416cb4766e3bd76cb   \n",
       "1  689d8866915acf87e851c2591a23a82f  43cc2b100bec640fe563cd16f2db669f   \n",
       "2  f26d16bf6f38c9e31d0be877f4013a9e  b8f880759d014134e272d881d49989a2   \n",
       "3  161ccc896835ab41761b0e726becb6b1  dbc062b9bef805d27a6f4bea7edfe1f1   \n",
       "4  4713deca10bb5db98fae150b52d61fc0  93a060f269bb569398921100f84c519a   \n",
       "\n",
       "   quantity buy_unit  \n",
       "0       1.0       UN  \n",
       "1       1.0       KG  \n",
       "2       1.0       UN  \n",
       "3       1.0       UN  \n",
       "4       2.0       UN  "
      ]
     },
     "execution_count": 40,
     "metadata": {},
     "output_type": "execute_result"
    }
   ],
   "source": [
    "## Order_products\n",
    "filename_ordprod = \"https://raw.githubusercontent.com/tiagottmoraes/CS-s-Data-Science-Test/main/data/order_products.csv\"\n",
    "df_ordprod = pd.read_csv(filename_ordprod)\n",
    "df_ordprod.head()\n"
   ]
  },
  {
   "cell_type": "code",
   "execution_count": 41,
   "metadata": {},
   "outputs": [
    {
     "name": "stdout",
     "output_type": "stream",
     "text": [
      "Unique products listed: 15422 \n",
      "Unique orders listed: 9978\n"
     ]
    }
   ],
   "source": [
    "print('Unique products listed:', df_ordprod['product_id'].nunique(),'\\n'\n",
    "      'Unique orders listed:', df_ordprod['order_id'].nunique())"
   ]
  },
  {
   "cell_type": "code",
   "execution_count": 42,
   "metadata": {},
   "outputs": [
    {
     "data": {
      "text/html": [
       "<div>\n",
       "<style scoped>\n",
       "    .dataframe tbody tr th:only-of-type {\n",
       "        vertical-align: middle;\n",
       "    }\n",
       "\n",
       "    .dataframe tbody tr th {\n",
       "        vertical-align: top;\n",
       "    }\n",
       "\n",
       "    .dataframe thead th {\n",
       "        text-align: right;\n",
       "    }\n",
       "</style>\n",
       "<table border=\"1\" class=\"dataframe\">\n",
       "  <thead>\n",
       "    <tr style=\"text-align: right;\">\n",
       "      <th></th>\n",
       "      <th>order_id</th>\n",
       "      <th>order_size</th>\n",
       "      <th>quantity</th>\n",
       "      <th>buy_unit</th>\n",
       "    </tr>\n",
       "  </thead>\n",
       "  <tbody>\n",
       "    <tr>\n",
       "      <th>0</th>\n",
       "      <td>0004a3841c1eeb6c6e77585a941c21e0</td>\n",
       "      <td>4</td>\n",
       "      <td>4</td>\n",
       "      <td>4</td>\n",
       "    </tr>\n",
       "    <tr>\n",
       "      <th>1</th>\n",
       "      <td>0005a6ecbbde1e8d273f5577bcff2c9c</td>\n",
       "      <td>1</td>\n",
       "      <td>1</td>\n",
       "      <td>1</td>\n",
       "    </tr>\n",
       "    <tr>\n",
       "      <th>2</th>\n",
       "      <td>0007baeb6700fc203be2d1f1e11222d7</td>\n",
       "      <td>22</td>\n",
       "      <td>22</td>\n",
       "      <td>22</td>\n",
       "    </tr>\n",
       "    <tr>\n",
       "      <th>3</th>\n",
       "      <td>0012195a6a8ca9ec308a3010eeea8ebc</td>\n",
       "      <td>11</td>\n",
       "      <td>11</td>\n",
       "      <td>11</td>\n",
       "    </tr>\n",
       "    <tr>\n",
       "      <th>4</th>\n",
       "      <td>0013011fa72b498b9feb84f4e7104980</td>\n",
       "      <td>44</td>\n",
       "      <td>44</td>\n",
       "      <td>44</td>\n",
       "    </tr>\n",
       "  </tbody>\n",
       "</table>\n",
       "</div>"
      ],
      "text/plain": [
       "                           order_id  order_size  quantity  buy_unit\n",
       "0  0004a3841c1eeb6c6e77585a941c21e0           4         4         4\n",
       "1  0005a6ecbbde1e8d273f5577bcff2c9c           1         1         1\n",
       "2  0007baeb6700fc203be2d1f1e11222d7          22        22        22\n",
       "3  0012195a6a8ca9ec308a3010eeea8ebc          11        11        11\n",
       "4  0013011fa72b498b9feb84f4e7104980          44        44        44"
      ]
     },
     "execution_count": 42,
     "metadata": {},
     "output_type": "execute_result"
    }
   ],
   "source": [
    "df_ordprod = df_ordprod.groupby([\"order_id\"], as_index=False).count()\n",
    "df_ordprod.rename(columns={'product_id':'order_size'}, inplace=True)\n",
    "df_ordprod.head()"
   ]
  },
  {
   "cell_type": "code",
   "execution_count": 43,
   "metadata": {},
   "outputs": [
    {
     "name": "stdout",
     "output_type": "stream",
     "text": [
      "order_id\n",
      "False    9978\n",
      "Name: order_id, dtype: int64\n",
      "\n",
      "order_size\n",
      "False    9978\n",
      "Name: order_size, dtype: int64\n",
      "\n",
      "quantity\n",
      "False    9978\n",
      "Name: quantity, dtype: int64\n",
      "\n",
      "buy_unit\n",
      "False    9978\n",
      "Name: buy_unit, dtype: int64\n",
      "\n"
     ]
    }
   ],
   "source": [
    "missing_data_order = df_ordprod.isnull()\n",
    "for column in missing_data_order.columns.values.tolist():\n",
    "    print(column)\n",
    "    print(missing_data_order[column].value_counts())\n",
    "    print(\"\")"
   ]
  },
  {
   "cell_type": "code",
   "execution_count": 44,
   "metadata": {},
   "outputs": [
    {
     "data": {
      "text/html": [
       "<div>\n",
       "<style scoped>\n",
       "    .dataframe tbody tr th:only-of-type {\n",
       "        vertical-align: middle;\n",
       "    }\n",
       "\n",
       "    .dataframe tbody tr th {\n",
       "        vertical-align: top;\n",
       "    }\n",
       "\n",
       "    .dataframe thead th {\n",
       "        text-align: right;\n",
       "    }\n",
       "</style>\n",
       "<table border=\"1\" class=\"dataframe\">\n",
       "  <thead>\n",
       "    <tr style=\"text-align: right;\">\n",
       "      <th></th>\n",
       "      <th>shopper_id</th>\n",
       "      <th>seniority</th>\n",
       "      <th>found_rate</th>\n",
       "      <th>picking_speed</th>\n",
       "      <th>accepted_rate</th>\n",
       "      <th>rating</th>\n",
       "    </tr>\n",
       "  </thead>\n",
       "  <tbody>\n",
       "    <tr>\n",
       "      <th>2861</th>\n",
       "      <td>e8482e3ad8bc820ec756566a472b84b1</td>\n",
       "      <td>6c90661e6d2c7579f5ce337c3391dbb9</td>\n",
       "      <td>0.9152</td>\n",
       "      <td>1.47</td>\n",
       "      <td>0.88</td>\n",
       "      <td>4.96</td>\n",
       "    </tr>\n",
       "    <tr>\n",
       "      <th>2862</th>\n",
       "      <td>a55a3765a02530a97eb9af7aee327486</td>\n",
       "      <td>6c90661e6d2c7579f5ce337c3391dbb9</td>\n",
       "      <td>0.8695</td>\n",
       "      <td>1.20</td>\n",
       "      <td>0.96</td>\n",
       "      <td>4.80</td>\n",
       "    </tr>\n",
       "    <tr>\n",
       "      <th>2863</th>\n",
       "      <td>ed3b2414f4b604298fb86adaaae2ee46</td>\n",
       "      <td>50e13ee63f086c2fe84229348bc91b5b</td>\n",
       "      <td>0.8416</td>\n",
       "      <td>1.48</td>\n",
       "      <td>0.60</td>\n",
       "      <td>4.95</td>\n",
       "    </tr>\n",
       "  </tbody>\n",
       "</table>\n",
       "</div>"
      ],
      "text/plain": [
       "                            shopper_id                         seniority  \\\n",
       "2861  e8482e3ad8bc820ec756566a472b84b1  6c90661e6d2c7579f5ce337c3391dbb9   \n",
       "2862  a55a3765a02530a97eb9af7aee327486  6c90661e6d2c7579f5ce337c3391dbb9   \n",
       "2863  ed3b2414f4b604298fb86adaaae2ee46  50e13ee63f086c2fe84229348bc91b5b   \n",
       "\n",
       "      found_rate  picking_speed  accepted_rate  rating  \n",
       "2861      0.9152           1.47           0.88    4.96  \n",
       "2862      0.8695           1.20           0.96    4.80  \n",
       "2863      0.8416           1.48           0.60    4.95  "
      ]
     },
     "execution_count": 44,
     "metadata": {},
     "output_type": "execute_result"
    }
   ],
   "source": [
    "## Shopper\n",
    "filename_shop = \"https://raw.githubusercontent.com/tiagottmoraes/CS-s-Data-Science-Test/main/data/shoppers.csv\"\n",
    "df_shop = pd.read_csv(filename_shop)\n",
    "df_shop.tail(3)"
   ]
  },
  {
   "cell_type": "code",
   "execution_count": 45,
   "metadata": {},
   "outputs": [
    {
     "name": "stdout",
     "output_type": "stream",
     "text": [
      "Unique shoppers listed: 2864 \n",
      "Unique seniority listed: 4\n"
     ]
    }
   ],
   "source": [
    "print('Unique shoppers listed:', df_shop['shopper_id'].nunique(),'\\n' \n",
    "      'Unique seniority listed:', df_shop['seniority'].nunique())"
   ]
  },
  {
   "cell_type": "code",
   "execution_count": 46,
   "metadata": {},
   "outputs": [
    {
     "data": {
      "text/plain": [
       "array(['41dc7c9e385c4d2b6c1f7836973951bf',\n",
       "       '6c90661e6d2c7579f5ce337c3391dbb9',\n",
       "       '50e13ee63f086c2fe84229348bc91b5b',\n",
       "       'bb29b8d0d196b5db5a5350e5e3ae2b1f'], dtype=object)"
      ]
     },
     "execution_count": 46,
     "metadata": {},
     "output_type": "execute_result"
    }
   ],
   "source": [
    "df_shop['seniority'].unique()"
   ]
  },
  {
   "cell_type": "code",
   "execution_count": 47,
   "metadata": {},
   "outputs": [],
   "source": [
    "df_shop.replace('41dc7c9e385c4d2b6c1f7836973951bf', 'T', inplace=True)\n",
    "df_shop.replace('6c90661e6d2c7579f5ce337c3391dbb9','I', inplace=True)\n",
    "df_shop.replace('50e13ee63f086c2fe84229348bc91b5b','M', inplace=True)\n",
    "df_shop.replace('bb29b8d0d196b5db5a5350e5e3ae2b1f','W', inplace=True)"
   ]
  },
  {
   "cell_type": "code",
   "execution_count": 48,
   "metadata": {},
   "outputs": [
    {
     "data": {
      "text/html": [
       "<div>\n",
       "<style scoped>\n",
       "    .dataframe tbody tr th:only-of-type {\n",
       "        vertical-align: middle;\n",
       "    }\n",
       "\n",
       "    .dataframe tbody tr th {\n",
       "        vertical-align: top;\n",
       "    }\n",
       "\n",
       "    .dataframe thead th {\n",
       "        text-align: right;\n",
       "    }\n",
       "</style>\n",
       "<table border=\"1\" class=\"dataframe\">\n",
       "  <thead>\n",
       "    <tr style=\"text-align: right;\">\n",
       "      <th></th>\n",
       "      <th>shopper_id</th>\n",
       "      <th>seniority</th>\n",
       "      <th>found_rate</th>\n",
       "      <th>picking_speed</th>\n",
       "      <th>accepted_rate</th>\n",
       "      <th>rating</th>\n",
       "    </tr>\n",
       "  </thead>\n",
       "  <tbody>\n",
       "    <tr>\n",
       "      <th>151</th>\n",
       "      <td>70dd746ffdfbde9158da4189d05669e9</td>\n",
       "      <td>I</td>\n",
       "      <td>0.8637</td>\n",
       "      <td>1.08</td>\n",
       "      <td>1.00</td>\n",
       "      <td>4.76</td>\n",
       "    </tr>\n",
       "    <tr>\n",
       "      <th>792</th>\n",
       "      <td>8dc21232395286ec4fdc191c37579442</td>\n",
       "      <td>I</td>\n",
       "      <td>0.8394</td>\n",
       "      <td>1.54</td>\n",
       "      <td>0.88</td>\n",
       "      <td>4.96</td>\n",
       "    </tr>\n",
       "  </tbody>\n",
       "</table>\n",
       "</div>"
      ],
      "text/plain": [
       "                           shopper_id seniority  found_rate  picking_speed  \\\n",
       "151  70dd746ffdfbde9158da4189d05669e9         I      0.8637           1.08   \n",
       "792  8dc21232395286ec4fdc191c37579442         I      0.8394           1.54   \n",
       "\n",
       "     accepted_rate  rating  \n",
       "151           1.00    4.76  \n",
       "792           0.88    4.96  "
      ]
     },
     "execution_count": 48,
     "metadata": {},
     "output_type": "execute_result"
    }
   ],
   "source": [
    "df_shop.sample(2)"
   ]
  },
  {
   "cell_type": "code",
   "execution_count": 49,
   "metadata": {},
   "outputs": [
    {
     "name": "stdout",
     "output_type": "stream",
     "text": [
      "shopper_id\n",
      "False    2864\n",
      "Name: shopper_id, dtype: int64\n",
      "\n",
      "seniority\n",
      "False    2864\n",
      "Name: seniority, dtype: int64\n",
      "\n",
      "found_rate\n",
      "False    2763\n",
      "True      101\n",
      "Name: found_rate, dtype: int64\n",
      "\n",
      "picking_speed\n",
      "False    2864\n",
      "Name: picking_speed, dtype: int64\n",
      "\n",
      "accepted_rate\n",
      "False    2837\n",
      "True       27\n",
      "Name: accepted_rate, dtype: int64\n",
      "\n",
      "rating\n",
      "False    2780\n",
      "True       84\n",
      "Name: rating, dtype: int64\n",
      "\n"
     ]
    }
   ],
   "source": [
    "missing_data_order = df_shop.isnull()\n",
    "for column in missing_data_order.columns.values.tolist():\n",
    "    print(column)\n",
    "    print(missing_data_order[column].value_counts())\n",
    "    print(\"\")"
   ]
  },
  {
   "cell_type": "code",
   "execution_count": 50,
   "metadata": {},
   "outputs": [
    {
     "data": {
      "text/html": [
       "<div>\n",
       "<style scoped>\n",
       "    .dataframe tbody tr th:only-of-type {\n",
       "        vertical-align: middle;\n",
       "    }\n",
       "\n",
       "    .dataframe tbody tr th {\n",
       "        vertical-align: top;\n",
       "    }\n",
       "\n",
       "    .dataframe thead th {\n",
       "        text-align: right;\n",
       "    }\n",
       "</style>\n",
       "<table border=\"1\" class=\"dataframe\">\n",
       "  <thead>\n",
       "    <tr style=\"text-align: right;\">\n",
       "      <th></th>\n",
       "      <th>store_branch_id</th>\n",
       "      <th>store_id</th>\n",
       "      <th>lat</th>\n",
       "      <th>lng</th>\n",
       "    </tr>\n",
       "  </thead>\n",
       "  <tbody>\n",
       "    <tr>\n",
       "      <th>83</th>\n",
       "      <td>670e8a43b246801ca1eaca97b3e19189</td>\n",
       "      <td>d1fe173d08e959397adf34b1d77e88d7</td>\n",
       "      <td>-33.417896</td>\n",
       "      <td>-70.607532</td>\n",
       "    </tr>\n",
       "    <tr>\n",
       "      <th>204</th>\n",
       "      <td>38913e1d6a7b94cb0f55994f679f5956</td>\n",
       "      <td>e369853df766fa44e1ed0ff613f563bd</td>\n",
       "      <td>-36.827596</td>\n",
       "      <td>-73.049276</td>\n",
       "    </tr>\n",
       "    <tr>\n",
       "      <th>56</th>\n",
       "      <td>370bfb31abd222b582245b977ea5f25a</td>\n",
       "      <td>6e0721b2c6977135b916ef286bcb49ec</td>\n",
       "      <td>-33.458603</td>\n",
       "      <td>-70.605751</td>\n",
       "    </tr>\n",
       "  </tbody>\n",
       "</table>\n",
       "</div>"
      ],
      "text/plain": [
       "                      store_branch_id                          store_id  \\\n",
       "83   670e8a43b246801ca1eaca97b3e19189  d1fe173d08e959397adf34b1d77e88d7   \n",
       "204  38913e1d6a7b94cb0f55994f679f5956  e369853df766fa44e1ed0ff613f563bd   \n",
       "56   370bfb31abd222b582245b977ea5f25a  6e0721b2c6977135b916ef286bcb49ec   \n",
       "\n",
       "           lat        lng  \n",
       "83  -33.417896 -70.607532  \n",
       "204 -36.827596 -73.049276  \n",
       "56  -33.458603 -70.605751  "
      ]
     },
     "execution_count": 50,
     "metadata": {},
     "output_type": "execute_result"
    }
   ],
   "source": [
    "## Store\n",
    "filename_store = \"https://raw.githubusercontent.com/tiagottmoraes/CS-s-Data-Science-Test/main/data/storebranch.csv\"\n",
    "df_store = pd.read_csv(filename_store)\n",
    "df_store.sample(3)"
   ]
  },
  {
   "cell_type": "code",
   "execution_count": 51,
   "metadata": {},
   "outputs": [],
   "source": [
    "df_store = df_store.rename(columns={'lat':'store_lat', 'lng':'store_long'})"
   ]
  },
  {
   "cell_type": "code",
   "execution_count": 52,
   "metadata": {},
   "outputs": [
    {
     "name": "stdout",
     "output_type": "stream",
     "text": [
      "Unique store_branch listed: 476 \n",
      "Unique store listed: 221\n"
     ]
    }
   ],
   "source": [
    "print('Unique store_branch listed:', df_store['store_branch_id'].nunique(),'\\n' 'Unique store listed:', df_store['store_id'].nunique())"
   ]
  },
  {
   "cell_type": "code",
   "execution_count": 53,
   "metadata": {},
   "outputs": [
    {
     "name": "stdout",
     "output_type": "stream",
     "text": [
      "store_branch_id\n",
      "False    476\n",
      "Name: store_branch_id, dtype: int64\n",
      "\n",
      "store_id\n",
      "False    476\n",
      "Name: store_id, dtype: int64\n",
      "\n",
      "store_lat\n",
      "False    476\n",
      "Name: store_lat, dtype: int64\n",
      "\n",
      "store_long\n",
      "False    476\n",
      "Name: store_long, dtype: int64\n",
      "\n"
     ]
    }
   ],
   "source": [
    "missing_data_order = df_store.isnull()\n",
    "for column in missing_data_order.columns.values.tolist():\n",
    "    print(column)\n",
    "    print(missing_data_order[column].value_counts())\n",
    "    print(\"\")"
   ]
  },
  {
   "cell_type": "code",
   "execution_count": 54,
   "metadata": {},
   "outputs": [
    {
     "data": {
      "text/html": [
       "<div>\n",
       "<style scoped>\n",
       "    .dataframe tbody tr th:only-of-type {\n",
       "        vertical-align: middle;\n",
       "    }\n",
       "\n",
       "    .dataframe tbody tr th {\n",
       "        vertical-align: top;\n",
       "    }\n",
       "\n",
       "    .dataframe thead th {\n",
       "        text-align: right;\n",
       "    }\n",
       "</style>\n",
       "<table border=\"1\" class=\"dataframe\">\n",
       "  <thead>\n",
       "    <tr style=\"text-align: right;\">\n",
       "      <th></th>\n",
       "      <th>order_id</th>\n",
       "      <th>lat</th>\n",
       "      <th>lng</th>\n",
       "      <th>promised_time</th>\n",
       "      <th>on_demand</th>\n",
       "      <th>shopper_id</th>\n",
       "      <th>store_branch_id</th>\n",
       "      <th>total_minutes</th>\n",
       "    </tr>\n",
       "  </thead>\n",
       "  <tbody>\n",
       "    <tr>\n",
       "      <th>9351</th>\n",
       "      <td>5d2501a5e9155f732467f223592bb0db</td>\n",
       "      <td>-33.393904</td>\n",
       "      <td>-70.579034</td>\n",
       "      <td>2019-10-19 13:00:00+00:00</td>\n",
       "      <td>False</td>\n",
       "      <td>9c70d4330fe1d4d55220be936d94327e</td>\n",
       "      <td>1f0e3dad99908345f7439f8ffabdffc4</td>\n",
       "      <td>NaN</td>\n",
       "    </tr>\n",
       "    <tr>\n",
       "      <th>7353</th>\n",
       "      <td>873ef0e6920c32779e5d661775fb47b9</td>\n",
       "      <td>-33.430504</td>\n",
       "      <td>-70.596444</td>\n",
       "      <td>2019-10-19 02:00:00+00:00</td>\n",
       "      <td>False</td>\n",
       "      <td>f1bded9b91455310210c1615b6537f8a</td>\n",
       "      <td>5751ec3e9a4feab575962e78e006250d</td>\n",
       "      <td>61.252997</td>\n",
       "    </tr>\n",
       "    <tr>\n",
       "      <th>1434</th>\n",
       "      <td>23ca350c79c0dbc70a482853848a8c26</td>\n",
       "      <td>-33.265215</td>\n",
       "      <td>-70.662304</td>\n",
       "      <td>2019-10-19 15:38:00+00:00</td>\n",
       "      <td>True</td>\n",
       "      <td>1209334a28dbf06a7072e8abfba352fa</td>\n",
       "      <td>7ef605fc8dba5425d6965fbd4c8fbe1f</td>\n",
       "      <td>52.828519</td>\n",
       "    </tr>\n",
       "  </tbody>\n",
       "</table>\n",
       "</div>"
      ],
      "text/plain": [
       "                              order_id        lat        lng  \\\n",
       "9351  5d2501a5e9155f732467f223592bb0db -33.393904 -70.579034   \n",
       "7353  873ef0e6920c32779e5d661775fb47b9 -33.430504 -70.596444   \n",
       "1434  23ca350c79c0dbc70a482853848a8c26 -33.265215 -70.662304   \n",
       "\n",
       "                  promised_time  on_demand                        shopper_id  \\\n",
       "9351  2019-10-19 13:00:00+00:00      False  9c70d4330fe1d4d55220be936d94327e   \n",
       "7353  2019-10-19 02:00:00+00:00      False  f1bded9b91455310210c1615b6537f8a   \n",
       "1434  2019-10-19 15:38:00+00:00       True  1209334a28dbf06a7072e8abfba352fa   \n",
       "\n",
       "                       store_branch_id  total_minutes  \n",
       "9351  1f0e3dad99908345f7439f8ffabdffc4            NaN  \n",
       "7353  5751ec3e9a4feab575962e78e006250d      61.252997  \n",
       "1434  7ef605fc8dba5425d6965fbd4c8fbe1f      52.828519  "
      ]
     },
     "execution_count": 54,
     "metadata": {},
     "output_type": "execute_result"
    }
   ],
   "source": [
    "## ORDERS - LABEL\n",
    "filename_ORDER = \"https://raw.githubusercontent.com/tiagottmoraes/CS-s-Data-Science-Test/main/data/orders.csv\"\n",
    "df_ORDER = pd.read_csv(filename_ORDER)\n",
    "df_ORDER.sample(3)"
   ]
  },
  {
   "cell_type": "code",
   "execution_count": 55,
   "metadata": {},
   "outputs": [],
   "source": [
    "df_ORDER = df_ORDER.rename(columns={'lat':'delivery_lat', 'lng':'delivery_long'})"
   ]
  },
  {
   "cell_type": "code",
   "execution_count": 56,
   "metadata": {},
   "outputs": [
    {
     "name": "stdout",
     "output_type": "stream",
     "text": [
      "order_id\n",
      "False    10000\n",
      "Name: order_id, dtype: int64\n",
      "\n",
      "delivery_lat\n",
      "False    10000\n",
      "Name: delivery_lat, dtype: int64\n",
      "\n",
      "delivery_long\n",
      "False    10000\n",
      "Name: delivery_long, dtype: int64\n",
      "\n",
      "promised_time\n",
      "False    10000\n",
      "Name: promised_time, dtype: int64\n",
      "\n",
      "on_demand\n",
      "False    10000\n",
      "Name: on_demand, dtype: int64\n",
      "\n",
      "shopper_id\n",
      "False    10000\n",
      "Name: shopper_id, dtype: int64\n",
      "\n",
      "store_branch_id\n",
      "False    10000\n",
      "Name: store_branch_id, dtype: int64\n",
      "\n",
      "total_minutes\n",
      "False    8000\n",
      "True     2000\n",
      "Name: total_minutes, dtype: int64\n",
      "\n"
     ]
    }
   ],
   "source": [
    "missing_data_order = df_ORDER.isnull()\n",
    "for column in missing_data_order.columns.values.tolist():\n",
    "    print(column)\n",
    "    print(missing_data_order[column].value_counts())\n",
    "    print(\"\")"
   ]
  },
  {
   "cell_type": "code",
   "execution_count": 57,
   "metadata": {},
   "outputs": [],
   "source": [
    "df_merge = pd.merge(df_ORDER, df_ordprod, on='order_id')"
   ]
  },
  {
   "cell_type": "code",
   "execution_count": 58,
   "metadata": {},
   "outputs": [],
   "source": [
    "df_merge = pd.merge(df_merge, df_shop, on='shopper_id')"
   ]
  },
  {
   "cell_type": "code",
   "execution_count": 59,
   "metadata": {},
   "outputs": [],
   "source": [
    "df_merge = pd.merge(df_merge, df_store, on='store_branch_id')"
   ]
  },
  {
   "cell_type": "code",
   "execution_count": 60,
   "metadata": {},
   "outputs": [
    {
     "data": {
      "text/html": [
       "<div>\n",
       "<style scoped>\n",
       "    .dataframe tbody tr th:only-of-type {\n",
       "        vertical-align: middle;\n",
       "    }\n",
       "\n",
       "    .dataframe tbody tr th {\n",
       "        vertical-align: top;\n",
       "    }\n",
       "\n",
       "    .dataframe thead th {\n",
       "        text-align: right;\n",
       "    }\n",
       "</style>\n",
       "<table border=\"1\" class=\"dataframe\">\n",
       "  <thead>\n",
       "    <tr style=\"text-align: right;\">\n",
       "      <th></th>\n",
       "      <th>order_id</th>\n",
       "      <th>delivery_lat</th>\n",
       "      <th>delivery_long</th>\n",
       "      <th>promised_time</th>\n",
       "      <th>on_demand</th>\n",
       "      <th>shopper_id</th>\n",
       "      <th>store_branch_id</th>\n",
       "      <th>total_minutes</th>\n",
       "      <th>order_size</th>\n",
       "      <th>quantity</th>\n",
       "      <th>buy_unit</th>\n",
       "      <th>seniority</th>\n",
       "      <th>found_rate</th>\n",
       "      <th>picking_speed</th>\n",
       "      <th>accepted_rate</th>\n",
       "      <th>rating</th>\n",
       "      <th>store_id</th>\n",
       "      <th>store_lat</th>\n",
       "      <th>store_long</th>\n",
       "    </tr>\n",
       "  </thead>\n",
       "  <tbody>\n",
       "    <tr>\n",
       "      <th>9793</th>\n",
       "      <td>7b0968b6c2f4005c610189daed4cb539</td>\n",
       "      <td>-33.376340</td>\n",
       "      <td>-70.551030</td>\n",
       "      <td>2019-10-19 19:00:00+00:00</td>\n",
       "      <td>False</td>\n",
       "      <td>deab3cbcc3ec4063b7eac6033d76b8bf</td>\n",
       "      <td>c215b446bcdf956d848a8419c1b5a920</td>\n",
       "      <td>37.636804</td>\n",
       "      <td>1</td>\n",
       "      <td>1</td>\n",
       "      <td>1</td>\n",
       "      <td>I</td>\n",
       "      <td>0.8663</td>\n",
       "      <td>1.00</td>\n",
       "      <td>1.000000</td>\n",
       "      <td>4.92</td>\n",
       "      <td>41ae36ecb9b3eee609d05b90c14222fb</td>\n",
       "      <td>-33.424688</td>\n",
       "      <td>-70.581248</td>\n",
       "    </tr>\n",
       "    <tr>\n",
       "      <th>7047</th>\n",
       "      <td>1085db45141dea3d8a4113d3ef3311c0</td>\n",
       "      <td>-33.456306</td>\n",
       "      <td>-70.658099</td>\n",
       "      <td>2019-10-19 01:00:00+00:00</td>\n",
       "      <td>False</td>\n",
       "      <td>fe3c9f683121b6f5375e4563374001c3</td>\n",
       "      <td>3871bd64012152bfb53fdf04b401193f</td>\n",
       "      <td>148.336725</td>\n",
       "      <td>41</td>\n",
       "      <td>41</td>\n",
       "      <td>41</td>\n",
       "      <td>T</td>\n",
       "      <td>0.8199</td>\n",
       "      <td>2.51</td>\n",
       "      <td>0.941176</td>\n",
       "      <td>4.83</td>\n",
       "      <td>c4ca4238a0b923820dcc509a6f75849b</td>\n",
       "      <td>-33.451695</td>\n",
       "      <td>-70.692160</td>\n",
       "    </tr>\n",
       "  </tbody>\n",
       "</table>\n",
       "</div>"
      ],
      "text/plain": [
       "                              order_id  delivery_lat  delivery_long  \\\n",
       "9793  7b0968b6c2f4005c610189daed4cb539    -33.376340     -70.551030   \n",
       "7047  1085db45141dea3d8a4113d3ef3311c0    -33.456306     -70.658099   \n",
       "\n",
       "                  promised_time  on_demand                        shopper_id  \\\n",
       "9793  2019-10-19 19:00:00+00:00      False  deab3cbcc3ec4063b7eac6033d76b8bf   \n",
       "7047  2019-10-19 01:00:00+00:00      False  fe3c9f683121b6f5375e4563374001c3   \n",
       "\n",
       "                       store_branch_id  total_minutes  order_size  quantity  \\\n",
       "9793  c215b446bcdf956d848a8419c1b5a920      37.636804           1         1   \n",
       "7047  3871bd64012152bfb53fdf04b401193f     148.336725          41        41   \n",
       "\n",
       "      buy_unit seniority  found_rate  picking_speed  accepted_rate  rating  \\\n",
       "9793         1         I      0.8663           1.00       1.000000    4.92   \n",
       "7047        41         T      0.8199           2.51       0.941176    4.83   \n",
       "\n",
       "                              store_id  store_lat  store_long  \n",
       "9793  41ae36ecb9b3eee609d05b90c14222fb -33.424688  -70.581248  \n",
       "7047  c4ca4238a0b923820dcc509a6f75849b -33.451695  -70.692160  "
      ]
     },
     "execution_count": 60,
     "metadata": {},
     "output_type": "execute_result"
    }
   ],
   "source": [
    "pd.set_option('display.max_columns', None)\n",
    "df_merge.sample(2)"
   ]
  },
  {
   "cell_type": "code",
   "execution_count": 61,
   "metadata": {},
   "outputs": [],
   "source": [
    "df_TEST = df_merge.loc[(pd.isna(df_merge['total_minutes']))]\n",
    "df_TEST.to_csv('df_TEST.csv')"
   ]
  },
  {
   "cell_type": "code",
   "execution_count": 62,
   "metadata": {},
   "outputs": [
    {
     "data": {
      "text/plain": [
       "False    5442\n",
       "True     4536\n",
       "Name: on_demand, dtype: int64"
      ]
     },
     "execution_count": 62,
     "metadata": {},
     "output_type": "execute_result"
    }
   ],
   "source": [
    "df_merge['on_demand'].value_counts()"
   ]
  },
  {
   "cell_type": "code",
   "execution_count": 63,
   "metadata": {},
   "outputs": [],
   "source": [
    "df_merge.drop(['promised_time', 'store_id','quantity', 'buy_unit'], axis=1, inplace=True)"
   ]
  },
  {
   "cell_type": "code",
   "execution_count": 64,
   "metadata": {},
   "outputs": [],
   "source": [
    "df_merge = df_merge.reindex(['order_id','delivery_lat','delivery_long','store_branch_id','store_lat','store_long','shopper_id','on_demand','seniority', 'order_size', 'found_rate','picking_speed','accepted_rate','rating', 'total_minutes'], axis=1)"
   ]
  },
  {
   "cell_type": "code",
   "execution_count": 65,
   "metadata": {},
   "outputs": [
    {
     "data": {
      "text/html": [
       "<div>\n",
       "<style scoped>\n",
       "    .dataframe tbody tr th:only-of-type {\n",
       "        vertical-align: middle;\n",
       "    }\n",
       "\n",
       "    .dataframe tbody tr th {\n",
       "        vertical-align: top;\n",
       "    }\n",
       "\n",
       "    .dataframe thead th {\n",
       "        text-align: right;\n",
       "    }\n",
       "</style>\n",
       "<table border=\"1\" class=\"dataframe\">\n",
       "  <thead>\n",
       "    <tr style=\"text-align: right;\">\n",
       "      <th></th>\n",
       "      <th>order_id</th>\n",
       "      <th>delivery_lat</th>\n",
       "      <th>delivery_long</th>\n",
       "      <th>store_branch_id</th>\n",
       "      <th>store_lat</th>\n",
       "      <th>store_long</th>\n",
       "      <th>shopper_id</th>\n",
       "      <th>on_demand</th>\n",
       "      <th>seniority</th>\n",
       "      <th>order_size</th>\n",
       "      <th>found_rate</th>\n",
       "      <th>picking_speed</th>\n",
       "      <th>accepted_rate</th>\n",
       "      <th>rating</th>\n",
       "      <th>total_minutes</th>\n",
       "    </tr>\n",
       "  </thead>\n",
       "  <tbody>\n",
       "    <tr>\n",
       "      <th>9268</th>\n",
       "      <td>e47788ba1fc7376688a5f9837abd4624</td>\n",
       "      <td>-33.434524</td>\n",
       "      <td>-70.572432</td>\n",
       "      <td>4ea6a546c19499318091a9df40a13181</td>\n",
       "      <td>-33.412419</td>\n",
       "      <td>-70.579070</td>\n",
       "      <td>c1fb26dbd4f09a5fb001d2fa521ec64d</td>\n",
       "      <td>False</td>\n",
       "      <td>T</td>\n",
       "      <td>3</td>\n",
       "      <td>0.8667</td>\n",
       "      <td>2.43</td>\n",
       "      <td>0.96</td>\n",
       "      <td>4.84</td>\n",
       "      <td>48.174585</td>\n",
       "    </tr>\n",
       "    <tr>\n",
       "      <th>2424</th>\n",
       "      <td>0d0678b430fb06d091ff695d53c7138d</td>\n",
       "      <td>-33.322136</td>\n",
       "      <td>-70.567584</td>\n",
       "      <td>1f0e3dad99908345f7439f8ffabdffc4</td>\n",
       "      <td>-33.386547</td>\n",
       "      <td>-70.568075</td>\n",
       "      <td>a950bb7f44cf4253538140e02ae33fb9</td>\n",
       "      <td>False</td>\n",
       "      <td>T</td>\n",
       "      <td>25</td>\n",
       "      <td>0.8770</td>\n",
       "      <td>2.17</td>\n",
       "      <td>1.00</td>\n",
       "      <td>4.96</td>\n",
       "      <td>99.063378</td>\n",
       "    </tr>\n",
       "  </tbody>\n",
       "</table>\n",
       "</div>"
      ],
      "text/plain": [
       "                              order_id  delivery_lat  delivery_long  \\\n",
       "9268  e47788ba1fc7376688a5f9837abd4624    -33.434524     -70.572432   \n",
       "2424  0d0678b430fb06d091ff695d53c7138d    -33.322136     -70.567584   \n",
       "\n",
       "                       store_branch_id  store_lat  store_long  \\\n",
       "9268  4ea6a546c19499318091a9df40a13181 -33.412419  -70.579070   \n",
       "2424  1f0e3dad99908345f7439f8ffabdffc4 -33.386547  -70.568075   \n",
       "\n",
       "                            shopper_id  on_demand seniority  order_size  \\\n",
       "9268  c1fb26dbd4f09a5fb001d2fa521ec64d      False         T           3   \n",
       "2424  a950bb7f44cf4253538140e02ae33fb9      False         T          25   \n",
       "\n",
       "      found_rate  picking_speed  accepted_rate  rating  total_minutes  \n",
       "9268      0.8667           2.43           0.96    4.84      48.174585  \n",
       "2424      0.8770           2.17           1.00    4.96      99.063378  "
      ]
     },
     "execution_count": 65,
     "metadata": {},
     "output_type": "execute_result"
    }
   ],
   "source": [
    "df_merge.sample(2)"
   ]
  },
  {
   "cell_type": "code",
   "execution_count": 66,
   "metadata": {},
   "outputs": [
    {
     "name": "stdout",
     "output_type": "stream",
     "text": [
      " \n",
      "Total number of NaN items present in the columns of the DataFrame 'df_merge': \n",
      "\n",
      " order_id              0\n",
      "delivery_lat          0\n",
      "delivery_long         0\n",
      "store_branch_id       0\n",
      "store_lat             0\n",
      "store_long            0\n",
      "shopper_id            0\n",
      "on_demand             0\n",
      "seniority             0\n",
      "order_size            0\n",
      "found_rate          199\n",
      "picking_speed         0\n",
      "accepted_rate        46\n",
      "rating              162\n",
      "total_minutes      1995\n",
      "dtype: int64\n"
     ]
    }
   ],
   "source": [
    "print(\" \\nTotal number of NaN items present in the columns of the DataFrame 'df_merge': \\n\\n\", df_merge.isnull().sum())"
   ]
  },
  {
   "cell_type": "code",
   "execution_count": 67,
   "metadata": {},
   "outputs": [
    {
     "data": {
      "text/plain": [
       "order_id            object\n",
       "delivery_lat       float64\n",
       "delivery_long      float64\n",
       "store_branch_id     object\n",
       "store_lat          float64\n",
       "store_long         float64\n",
       "shopper_id          object\n",
       "on_demand             bool\n",
       "seniority           object\n",
       "order_size           int64\n",
       "found_rate         float64\n",
       "picking_speed      float64\n",
       "accepted_rate      float64\n",
       "rating             float64\n",
       "total_minutes      float64\n",
       "dtype: object"
      ]
     },
     "execution_count": 67,
     "metadata": {},
     "output_type": "execute_result"
    }
   ],
   "source": [
    "df_merge.dtypes"
   ]
  },
  {
   "cell_type": "code",
   "execution_count": 68,
   "metadata": {},
   "outputs": [
    {
     "name": "stdout",
     "output_type": "stream",
     "text": [
      "Average of found_rate: 0.8633177727784027\n",
      "Average of accepted_rate: 0.9170133784336325\n",
      "Average of rating: 4.849341890790547\n"
     ]
    }
   ],
   "source": [
    "# calculating the average\n",
    "avg_found = df_merge['found_rate'].mean(axis=0)\n",
    "avg_accept = df_merge['accepted_rate'].mean(axis=0)\n",
    "avg_rate = df_merge['rating'].mean(axis=0)\n",
    "print(\"Average of found_rate:\", avg_found )\n",
    "print(\"Average of accepted_rate:\", avg_accept )\n",
    "print(\"Average of rating:\", avg_rate )\n"
   ]
  },
  {
   "cell_type": "code",
   "execution_count": 69,
   "metadata": {},
   "outputs": [],
   "source": [
    "# replacing the NaN with the average values\n",
    "df_merge['found_rate'].replace(np.nan, avg_found, inplace=True)\n",
    "df_merge['accepted_rate'].replace(np.nan, avg_accept, inplace=True)\n",
    "df_merge['rating'].replace(np.nan, avg_rate, inplace=True)"
   ]
  },
  {
   "cell_type": "code",
   "execution_count": 70,
   "metadata": {},
   "outputs": [
    {
     "name": "stdout",
     "output_type": "stream",
     "text": [
      " \n",
      "Total number of NaN items present in the columns of the DataFrame 'df_merge': \n",
      "\n",
      " order_id              0\n",
      "delivery_lat          0\n",
      "delivery_long         0\n",
      "store_branch_id       0\n",
      "store_lat             0\n",
      "store_long            0\n",
      "shopper_id            0\n",
      "on_demand             0\n",
      "seniority             0\n",
      "order_size            0\n",
      "found_rate            0\n",
      "picking_speed         0\n",
      "accepted_rate         0\n",
      "rating                0\n",
      "total_minutes      1995\n",
      "dtype: int64\n"
     ]
    }
   ],
   "source": [
    "print(\" \\nTotal number of NaN items present in the columns of the DataFrame 'df_merge': \\n\\n\", df_merge.isnull().sum())"
   ]
  },
  {
   "cell_type": "code",
   "execution_count": 71,
   "metadata": {},
   "outputs": [],
   "source": [
    "from geopy import Point\n",
    "from geopy.distance import distance\n",
    "\n",
    "df_merge['delivery_coord'] = df_merge.apply(lambda row: Point(latitude=row['delivery_lat'], longitude=row['delivery_long']), axis=1)\n",
    "df_merge['store_coord'] = df_merge.apply(lambda row: Point(latitude=row['store_lat'], longitude=row['store_long']), axis=1)\n",
    "\n"
   ]
  },
  {
   "cell_type": "code",
   "execution_count": 72,
   "metadata": {},
   "outputs": [],
   "source": [
    "df_merge['distance_km'] = df_merge.apply(lambda row: distance(row['delivery_coord'], row['store_coord']).km , axis=1)\n"
   ]
  },
  {
   "cell_type": "code",
   "execution_count": 73,
   "metadata": {},
   "outputs": [
    {
     "data": {
      "text/html": [
       "<div>\n",
       "<style scoped>\n",
       "    .dataframe tbody tr th:only-of-type {\n",
       "        vertical-align: middle;\n",
       "    }\n",
       "\n",
       "    .dataframe tbody tr th {\n",
       "        vertical-align: top;\n",
       "    }\n",
       "\n",
       "    .dataframe thead th {\n",
       "        text-align: right;\n",
       "    }\n",
       "</style>\n",
       "<table border=\"1\" class=\"dataframe\">\n",
       "  <thead>\n",
       "    <tr style=\"text-align: right;\">\n",
       "      <th></th>\n",
       "      <th>order_id</th>\n",
       "      <th>store_branch_id</th>\n",
       "      <th>distance_km</th>\n",
       "      <th>shopper_id</th>\n",
       "      <th>on_demand</th>\n",
       "      <th>seniority</th>\n",
       "      <th>order_size</th>\n",
       "      <th>found_rate</th>\n",
       "      <th>picking_speed</th>\n",
       "      <th>accepted_rate</th>\n",
       "      <th>rating</th>\n",
       "      <th>total_minutes</th>\n",
       "    </tr>\n",
       "  </thead>\n",
       "  <tbody>\n",
       "    <tr>\n",
       "      <th>265</th>\n",
       "      <td>6da913f1948ae412b1e3843ec09fe8e0</td>\n",
       "      <td>45fbc6d3e05ebd93369ce542e8f2322d</td>\n",
       "      <td>3.901431</td>\n",
       "      <td>c62fa64bbba97382f77b8c4a3c507fc4</td>\n",
       "      <td>True</td>\n",
       "      <td>T</td>\n",
       "      <td>6</td>\n",
       "      <td>0.8725</td>\n",
       "      <td>2.80</td>\n",
       "      <td>0.88</td>\n",
       "      <td>4.88</td>\n",
       "      <td>45.419323</td>\n",
       "    </tr>\n",
       "    <tr>\n",
       "      <th>1464</th>\n",
       "      <td>aafc765551d9ffe7dadde9f79cc10663</td>\n",
       "      <td>1679091c5a880faf6fb5e6087eb1b2dc</td>\n",
       "      <td>4.569004</td>\n",
       "      <td>dbab5f4147fb719554010645dcfcd44c</td>\n",
       "      <td>False</td>\n",
       "      <td>I</td>\n",
       "      <td>104</td>\n",
       "      <td>0.8366</td>\n",
       "      <td>1.81</td>\n",
       "      <td>1.00</td>\n",
       "      <td>4.52</td>\n",
       "      <td>229.031673</td>\n",
       "    </tr>\n",
       "  </tbody>\n",
       "</table>\n",
       "</div>"
      ],
      "text/plain": [
       "                              order_id                   store_branch_id  \\\n",
       "265   6da913f1948ae412b1e3843ec09fe8e0  45fbc6d3e05ebd93369ce542e8f2322d   \n",
       "1464  aafc765551d9ffe7dadde9f79cc10663  1679091c5a880faf6fb5e6087eb1b2dc   \n",
       "\n",
       "      distance_km                        shopper_id  on_demand seniority  \\\n",
       "265      3.901431  c62fa64bbba97382f77b8c4a3c507fc4       True         T   \n",
       "1464     4.569004  dbab5f4147fb719554010645dcfcd44c      False         I   \n",
       "\n",
       "      order_size  found_rate  picking_speed  accepted_rate  rating  \\\n",
       "265            6      0.8725           2.80           0.88    4.88   \n",
       "1464         104      0.8366           1.81           1.00    4.52   \n",
       "\n",
       "      total_minutes  \n",
       "265       45.419323  \n",
       "1464     229.031673  "
      ]
     },
     "execution_count": 73,
     "metadata": {},
     "output_type": "execute_result"
    }
   ],
   "source": [
    "df_merge.drop(['delivery_lat','delivery_long','store_lat','store_long','delivery_coord', 'store_coord'], axis=1, inplace=True)\n",
    "df_merge = df_merge.reindex(['order_id','store_branch_id','distance_km','shopper_id','on_demand','seniority', 'order_size', 'found_rate','picking_speed','accepted_rate','rating', 'total_minutes'], axis=1)\n",
    "df_merge.sample(2)"
   ]
  },
  {
   "cell_type": "code",
   "execution_count": 74,
   "metadata": {},
   "outputs": [],
   "source": [
    "df_TEST = df_merge.loc[(pd.isna(df_merge['total_minutes']))]\n",
    "df_TEST.to_csv('df_TEST.csv')"
   ]
  },
  {
   "cell_type": "code",
   "execution_count": 75,
   "metadata": {},
   "outputs": [],
   "source": [
    "df_TRAIN = df_merge.loc[(pd.notna(df_merge['total_minutes']))]\n",
    "df_TRAIN.to_csv('df_TRAIN.csv')"
   ]
  },
  {
   "cell_type": "code",
   "execution_count": 76,
   "metadata": {},
   "outputs": [
    {
     "data": {
      "text/html": [
       "<div>\n",
       "<style scoped>\n",
       "    .dataframe tbody tr th:only-of-type {\n",
       "        vertical-align: middle;\n",
       "    }\n",
       "\n",
       "    .dataframe tbody tr th {\n",
       "        vertical-align: top;\n",
       "    }\n",
       "\n",
       "    .dataframe thead th {\n",
       "        text-align: right;\n",
       "    }\n",
       "</style>\n",
       "<table border=\"1\" class=\"dataframe\">\n",
       "  <thead>\n",
       "    <tr style=\"text-align: right;\">\n",
       "      <th></th>\n",
       "      <th>order_id</th>\n",
       "      <th>store_branch_id</th>\n",
       "      <th>distance_km</th>\n",
       "      <th>shopper_id</th>\n",
       "      <th>on_demand</th>\n",
       "      <th>seniority</th>\n",
       "      <th>order_size</th>\n",
       "      <th>found_rate</th>\n",
       "      <th>picking_speed</th>\n",
       "      <th>accepted_rate</th>\n",
       "      <th>rating</th>\n",
       "      <th>total_minutes</th>\n",
       "    </tr>\n",
       "  </thead>\n",
       "  <tbody>\n",
       "    <tr>\n",
       "      <th>3240</th>\n",
       "      <td>7fc782a82e8c75f83d077478359e0ee1</td>\n",
       "      <td>1f0e3dad99908345f7439f8ffabdffc4</td>\n",
       "      <td>1.367594</td>\n",
       "      <td>45c0e362f8d52c3969805f6edef08aad</td>\n",
       "      <td>True</td>\n",
       "      <td>I</td>\n",
       "      <td>10</td>\n",
       "      <td>0.8769</td>\n",
       "      <td>1.32</td>\n",
       "      <td>0.92</td>\n",
       "      <td>4.92</td>\n",
       "      <td>30.99782</td>\n",
       "    </tr>\n",
       "    <tr>\n",
       "      <th>4619</th>\n",
       "      <td>f0941968ba1a154b87fd11482bbfd134</td>\n",
       "      <td>c4ca4238a0b923820dcc509a6f75849b</td>\n",
       "      <td>1.637458</td>\n",
       "      <td>8e9c3d057240e3d1308f47d58fd71e69</td>\n",
       "      <td>True</td>\n",
       "      <td>I</td>\n",
       "      <td>22</td>\n",
       "      <td>0.8644</td>\n",
       "      <td>1.43</td>\n",
       "      <td>1.00</td>\n",
       "      <td>4.96</td>\n",
       "      <td>75.10325</td>\n",
       "    </tr>\n",
       "  </tbody>\n",
       "</table>\n",
       "</div>"
      ],
      "text/plain": [
       "                              order_id                   store_branch_id  \\\n",
       "3240  7fc782a82e8c75f83d077478359e0ee1  1f0e3dad99908345f7439f8ffabdffc4   \n",
       "4619  f0941968ba1a154b87fd11482bbfd134  c4ca4238a0b923820dcc509a6f75849b   \n",
       "\n",
       "      distance_km                        shopper_id  on_demand seniority  \\\n",
       "3240     1.367594  45c0e362f8d52c3969805f6edef08aad       True         I   \n",
       "4619     1.637458  8e9c3d057240e3d1308f47d58fd71e69       True         I   \n",
       "\n",
       "      order_size  found_rate  picking_speed  accepted_rate  rating  \\\n",
       "3240          10      0.8769           1.32           0.92    4.92   \n",
       "4619          22      0.8644           1.43           1.00    4.96   \n",
       "\n",
       "      total_minutes  \n",
       "3240       30.99782  \n",
       "4619       75.10325  "
      ]
     },
     "execution_count": 76,
     "metadata": {},
     "output_type": "execute_result"
    }
   ],
   "source": [
    "df_TRAIN.sample(2)"
   ]
  }
 ],
 "metadata": {
  "interpreter": {
   "hash": "3b7fe9b675e268ef82517985ff54749325a0dd76c33378a0a8fb0c05b54b375d"
  },
  "kernelspec": {
   "display_name": "Python 3.9.7 64-bit",
   "language": "python",
   "name": "python3"
  },
  "language_info": {
   "codemirror_mode": {
    "name": "ipython",
    "version": 3
   },
   "file_extension": ".py",
   "mimetype": "text/x-python",
   "name": "python",
   "nbconvert_exporter": "python",
   "pygments_lexer": "ipython3",
   "version": "3.9.7"
  },
  "orig_nbformat": 4
 },
 "nbformat": 4,
 "nbformat_minor": 2
}
