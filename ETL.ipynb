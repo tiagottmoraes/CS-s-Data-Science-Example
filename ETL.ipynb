{
 "cells": [
  {
   "cell_type": "markdown",
   "metadata": {},
   "source": [
    "<left>\n",
    "    <a href=img><img src = \"https://github.com/tiagottmoraes/CS-s-Data-Science-Test/blob/main/Misc/1c86bfb3-cab0-4255-99bf-24c5488d888a-1632765661247.png?raw=true\" width=\"400\"  />\n",
    "</left>"
   ]
  },
  {
   "cell_type": "markdown",
   "metadata": {},
   "source": [
    "###### Developed by Tiago Moraes (09.02.2022)"
   ]
  },
  {
   "cell_type": "markdown",
   "metadata": {},
   "source": [
    "# Data Science Test - Intro\n",
    "\n",
    "----\n",
    "\n",
    "The following notebooks presents the complete dataset analysis, exploration and pre-processing steps required to implement a tailored machine learning model designed to **predict the total minutes** ('total_minutes' label) it takes to a shopper to complete a given order.The rows not containing a total_minutes value were set aside to be used in the predictions phase.\n",
    "\n",
    "For that, **3 different notebooks** were prepared for each task, as following:\n",
    "\n",
    "- **[1. ETL process notebook:](#https://github.com/tiagottmoraes/CS-s-Data-Science-Test/blob/main/ETL.ipynb)** Complete ETL (data wrangling) process of the provided datasets, including feature engineering, feature transformations, and data standardizations, necessary to carry out all the statistics tests necessaries in the next phase;\n",
    "\n",
    "- **[2. EDA notebook:](#https://github.com/tiagottmoraes/CS-s-Data-Science-Test/blob/main/ETL.ipynb)** Statistical exploration and understanding of the pre-processed dataset. Needed to define the best machine learning strategy for the target Label;\n",
    "\n",
    "- **[3. Machine Learning Model development notebook:](#https://github.com/tiagottmoraes/CS-s-Data-Science-Test/blob/main/ETL.ipynb)** Build, train and test a ML model that takes in the process the dataset, generates a model and deploy it with unseen data to generate predictions (\"total_minutes\" label)\n",
    "<br />\n",
    "<br />\n",
    "\n",
    "For this test goal, 4 different datasets were provided, each of them with different types of features and volume of data. \n",
    "\n",
    "**order_products.csv (198500 rows)**\n",
    "\n",
    "*order_id*: ID of the order<br />\n",
    "*product_id*: ID of the product<br />\n",
    "*quantity*: The quantity ordered of this product<br />\n",
    "*buy_unit*: The unit of the product (KG/UN)\n",
    "\n",
    "**orders.csv (10000 rows)**\n",
    "\n",
    "*order_id*: ID of the order<br />\n",
    "*lat*: The latitude of the delivery location<br />\n",
    "*lng*: The longitude of the delivery location<br />\n",
    "*promised_time*: The delivery time promised to the user<br />\n",
    "*on_demand*: If true, the order was promised to be delivered in less than X minutes<br />\n",
    "*shopper_id*: ID representing the shopper completed the order<br />\n",
    "*store_branch_id*: ID of the store branch<br />\n",
    "***total_minutes***: The total minutes it took to complete the order (label)\n",
    "\n",
    "**shopper.csv (2864 rows)**\n",
    "\n",
    "*shopper_id*: ID of the shopper<br />\n",
    "*seniority*: The experience level of the shopper<br />\n",
    "*found_rate*: Percentage of products found by shopper historical<br />\n",
    "*picking_speed*: Historical picking speed, products pr minutes<br />\n",
    "*accepted_rate*: Percentage of orders historically accepted by shopper<br />\n",
    "*rating*: client rating of shopper\n",
    "\n",
    "**storebranch.csv (476 rows)**\n",
    "\n",
    "*store_branch_id*: ID of the store branch<br />\n",
    "*store*: ID representing the store<br />\n",
    "*lat*: Latitude of the branch location<br />\n",
    "*lng*: Longitude of the branch location\n",
    "<br />\n",
    "<br />\n"
   ]
  },
  {
   "cell_type": "markdown",
   "metadata": {},
   "source": [
    "# 1. ETL process - Data wrangling, featute engineering and data standardization\n",
    "\n",
    "\n",
    "----"
   ]
  },
  {
   "cell_type": "markdown",
   "metadata": {},
   "source": [
    "## 1. Importing necessary modules"
   ]
  },
  {
   "cell_type": "code",
   "execution_count": 418,
   "metadata": {},
   "outputs": [],
   "source": [
    "import pandas as pd\n",
    "import numpy as np\n",
    "from geopy import Point\n",
    "from geopy.distance import distance"
   ]
  },
  {
   "cell_type": "markdown",
   "metadata": {},
   "source": [
    "#### 1.1 Understanding primary keys between tables\n",
    "\n",
    "Before start loading the datasets, let's take a look at how the tables are connected to each other and have a better undestanding of case at hand.\n",
    "\n"
   ]
  },
  {
   "cell_type": "markdown",
   "metadata": {},
   "source": [
    "<center>\n",
    "    <a href=img><img src = \"https://github.com/tiagottmoraes/CS-s-Data-Science-Test/blob/main/entity_mapping.PNG?raw=true\" width=\"800\"  />\n",
    "</center>"
   ]
  },
  {
   "cell_type": "markdown",
   "metadata": {},
   "source": [
    "As we can see from the entity map above, primary keys from \"storebranch.csv\", \"order_product.csv\" , \"shopper_ID.csv\" can be found in the \"orders.csv\", which happens to be the table where the label (\"total_minutes\") is located. In this case, the better approach would be to unify (merge) all tables together, using the primary keys, into the table \"order.csv\". "
   ]
  },
  {
   "cell_type": "markdown",
   "metadata": {},
   "source": [
    "## 2. Importing datasets"
   ]
  },
  {
   "cell_type": "markdown",
   "metadata": {},
   "source": [
    "### 2.1 Loading dataset \"order_prod.csv\""
   ]
  },
  {
   "cell_type": "markdown",
   "metadata": {},
   "source": [
    "After loading the order_prod.csv into a dataframe called **df_ordprod**, let's look at the first five rows using the `head()` function:"
   ]
  },
  {
   "cell_type": "code",
   "execution_count": 419,
   "metadata": {},
   "outputs": [
    {
     "data": {
      "text/html": [
       "<div>\n",
       "<style scoped>\n",
       "    .dataframe tbody tr th:only-of-type {\n",
       "        vertical-align: middle;\n",
       "    }\n",
       "\n",
       "    .dataframe tbody tr th {\n",
       "        vertical-align: top;\n",
       "    }\n",
       "\n",
       "    .dataframe thead th {\n",
       "        text-align: right;\n",
       "    }\n",
       "</style>\n",
       "<table border=\"1\" class=\"dataframe\">\n",
       "  <thead>\n",
       "    <tr style=\"text-align: right;\">\n",
       "      <th></th>\n",
       "      <th>order_id</th>\n",
       "      <th>product_id</th>\n",
       "      <th>quantity</th>\n",
       "      <th>buy_unit</th>\n",
       "    </tr>\n",
       "  </thead>\n",
       "  <tbody>\n",
       "    <tr>\n",
       "      <th>0</th>\n",
       "      <td>47099653730fb1b76537fc10ad876255</td>\n",
       "      <td>c1244453d731c77416cb4766e3bd76cb</td>\n",
       "      <td>1.0</td>\n",
       "      <td>UN</td>\n",
       "    </tr>\n",
       "    <tr>\n",
       "      <th>1</th>\n",
       "      <td>689d8866915acf87e851c2591a23a82f</td>\n",
       "      <td>43cc2b100bec640fe563cd16f2db669f</td>\n",
       "      <td>1.0</td>\n",
       "      <td>KG</td>\n",
       "    </tr>\n",
       "    <tr>\n",
       "      <th>2</th>\n",
       "      <td>f26d16bf6f38c9e31d0be877f4013a9e</td>\n",
       "      <td>b8f880759d014134e272d881d49989a2</td>\n",
       "      <td>1.0</td>\n",
       "      <td>UN</td>\n",
       "    </tr>\n",
       "    <tr>\n",
       "      <th>3</th>\n",
       "      <td>161ccc896835ab41761b0e726becb6b1</td>\n",
       "      <td>dbc062b9bef805d27a6f4bea7edfe1f1</td>\n",
       "      <td>1.0</td>\n",
       "      <td>UN</td>\n",
       "    </tr>\n",
       "    <tr>\n",
       "      <th>4</th>\n",
       "      <td>4713deca10bb5db98fae150b52d61fc0</td>\n",
       "      <td>93a060f269bb569398921100f84c519a</td>\n",
       "      <td>2.0</td>\n",
       "      <td>UN</td>\n",
       "    </tr>\n",
       "  </tbody>\n",
       "</table>\n",
       "</div>"
      ],
      "text/plain": [
       "                           order_id                        product_id  \\\n",
       "0  47099653730fb1b76537fc10ad876255  c1244453d731c77416cb4766e3bd76cb   \n",
       "1  689d8866915acf87e851c2591a23a82f  43cc2b100bec640fe563cd16f2db669f   \n",
       "2  f26d16bf6f38c9e31d0be877f4013a9e  b8f880759d014134e272d881d49989a2   \n",
       "3  161ccc896835ab41761b0e726becb6b1  dbc062b9bef805d27a6f4bea7edfe1f1   \n",
       "4  4713deca10bb5db98fae150b52d61fc0  93a060f269bb569398921100f84c519a   \n",
       "\n",
       "   quantity buy_unit  \n",
       "0       1.0       UN  \n",
       "1       1.0       KG  \n",
       "2       1.0       UN  \n",
       "3       1.0       UN  \n",
       "4       2.0       UN  "
      ]
     },
     "execution_count": 419,
     "metadata": {},
     "output_type": "execute_result"
    }
   ],
   "source": [
    "## Order_products\n",
    "filename_ordprod = \"https://raw.githubusercontent.com/tiagottmoraes/CS-s-Data-Science-Test/main/data/order_products.csv\"\n",
    "df_ordprod = pd.read_csv(filename_ordprod)\n",
    "df_ordprod.head()\n"
   ]
  },
  {
   "cell_type": "markdown",
   "metadata": {},
   "source": [
    "Checking missing data in df_ordprod:"
   ]
  },
  {
   "cell_type": "code",
   "execution_count": 420,
   "metadata": {},
   "outputs": [
    {
     "name": "stdout",
     "output_type": "stream",
     "text": [
      "order_id\n",
      "False    198500\n",
      "Name: order_id, dtype: int64\n",
      "\n",
      "product_id\n",
      "False    198500\n",
      "Name: product_id, dtype: int64\n",
      "\n",
      "quantity\n",
      "False    198500\n",
      "Name: quantity, dtype: int64\n",
      "\n",
      "buy_unit\n",
      "False    198500\n",
      "Name: buy_unit, dtype: int64\n",
      "\n"
     ]
    }
   ],
   "source": [
    "missing_data_order = df_ordprod.isnull()\n",
    "for column in missing_data_order.columns.values.tolist():\n",
    "    print(column)\n",
    "    print(missing_data_order[column].value_counts())\n",
    "    print(\"\")"
   ]
  },
  {
   "cell_type": "markdown",
   "metadata": {},
   "source": [
    "NOTE:No missing values were found within this dataframe "
   ]
  },
  {
   "cell_type": "markdown",
   "metadata": {},
   "source": [
    "2.1.1 Feature engineering"
   ]
  },
  {
   "cell_type": "code",
   "execution_count": 421,
   "metadata": {},
   "outputs": [
    {
     "name": "stdout",
     "output_type": "stream",
     "text": [
      "Unique products listed: 15422 \n",
      "Unique orders listed: 9978\n"
     ]
    }
   ],
   "source": [
    "print('Unique products listed:', df_ordprod['product_id'].nunique(),'\\n'\n",
    "      'Unique orders listed:', df_ordprod['order_id'].nunique())"
   ]
  },
  {
   "cell_type": "markdown",
   "metadata": {},
   "source": [
    "The number of products is much bigger than the number of orders made, which is to be expected, since a single order takes many products. With that prospect in mind, an assumption made from now on is that, **what defines the complexity of a given order is the number of unique products, not the the quantity of each product**.<br />\n",
    "<br />\n",
    "A simple example that illustrates this: an order consisting of 12 different products (one item per product) demands much more attention and movement (and most likely *time*) from a shopper than what an order consisting of only 3 products, but with several items per product would.<br />\n",
    "<br />\n",
    "With that in mind, the \"df_ordprod\" was _grouped by the order_ID feature_, since that will give us the number of unique products present in each order, hence, giving us the indicator that is most likely linked to the complexity of a given order (which, in turn, makes orders take more time to be completed)."
   ]
  },
  {
   "cell_type": "code",
   "execution_count": 422,
   "metadata": {},
   "outputs": [
    {
     "data": {
      "text/html": [
       "<div>\n",
       "<style scoped>\n",
       "    .dataframe tbody tr th:only-of-type {\n",
       "        vertical-align: middle;\n",
       "    }\n",
       "\n",
       "    .dataframe tbody tr th {\n",
       "        vertical-align: top;\n",
       "    }\n",
       "\n",
       "    .dataframe thead th {\n",
       "        text-align: right;\n",
       "    }\n",
       "</style>\n",
       "<table border=\"1\" class=\"dataframe\">\n",
       "  <thead>\n",
       "    <tr style=\"text-align: right;\">\n",
       "      <th></th>\n",
       "      <th>order_id</th>\n",
       "      <th>order_size</th>\n",
       "      <th>quantity</th>\n",
       "      <th>buy_unit</th>\n",
       "    </tr>\n",
       "  </thead>\n",
       "  <tbody>\n",
       "    <tr>\n",
       "      <th>0</th>\n",
       "      <td>0004a3841c1eeb6c6e77585a941c21e0</td>\n",
       "      <td>4</td>\n",
       "      <td>4</td>\n",
       "      <td>4</td>\n",
       "    </tr>\n",
       "    <tr>\n",
       "      <th>1</th>\n",
       "      <td>0005a6ecbbde1e8d273f5577bcff2c9c</td>\n",
       "      <td>1</td>\n",
       "      <td>1</td>\n",
       "      <td>1</td>\n",
       "    </tr>\n",
       "    <tr>\n",
       "      <th>2</th>\n",
       "      <td>0007baeb6700fc203be2d1f1e11222d7</td>\n",
       "      <td>22</td>\n",
       "      <td>22</td>\n",
       "      <td>22</td>\n",
       "    </tr>\n",
       "    <tr>\n",
       "      <th>3</th>\n",
       "      <td>0012195a6a8ca9ec308a3010eeea8ebc</td>\n",
       "      <td>11</td>\n",
       "      <td>11</td>\n",
       "      <td>11</td>\n",
       "    </tr>\n",
       "    <tr>\n",
       "      <th>4</th>\n",
       "      <td>0013011fa72b498b9feb84f4e7104980</td>\n",
       "      <td>44</td>\n",
       "      <td>44</td>\n",
       "      <td>44</td>\n",
       "    </tr>\n",
       "  </tbody>\n",
       "</table>\n",
       "</div>"
      ],
      "text/plain": [
       "                           order_id  order_size  quantity  buy_unit\n",
       "0  0004a3841c1eeb6c6e77585a941c21e0           4         4         4\n",
       "1  0005a6ecbbde1e8d273f5577bcff2c9c           1         1         1\n",
       "2  0007baeb6700fc203be2d1f1e11222d7          22        22        22\n",
       "3  0012195a6a8ca9ec308a3010eeea8ebc          11        11        11\n",
       "4  0013011fa72b498b9feb84f4e7104980          44        44        44"
      ]
     },
     "execution_count": 422,
     "metadata": {},
     "output_type": "execute_result"
    }
   ],
   "source": [
    "df_ordprod = df_ordprod.groupby([\"order_id\"], as_index=False).count()\n",
    "df_ordprod.rename(columns={'product_id':'order_size'}, inplace=True)\n",
    "df_ordprod.head()"
   ]
  },
  {
   "cell_type": "markdown",
   "metadata": {},
   "source": [
    "NOTE: \"product_id\" was renamed to \"order_size\", since it better represents the number of unique products (list of items) contained in each order"
   ]
  },
  {
   "cell_type": "markdown",
   "metadata": {},
   "source": [
    "### 2.2 Loading dataset \"shopper.csv\""
   ]
  },
  {
   "cell_type": "markdown",
   "metadata": {},
   "source": [
    "After loading the shoppers.csv into a dataframe called **df_shop**, let's look at the first five rows using the `head()` function:"
   ]
  },
  {
   "cell_type": "code",
   "execution_count": 423,
   "metadata": {},
   "outputs": [
    {
     "data": {
      "text/html": [
       "<div>\n",
       "<style scoped>\n",
       "    .dataframe tbody tr th:only-of-type {\n",
       "        vertical-align: middle;\n",
       "    }\n",
       "\n",
       "    .dataframe tbody tr th {\n",
       "        vertical-align: top;\n",
       "    }\n",
       "\n",
       "    .dataframe thead th {\n",
       "        text-align: right;\n",
       "    }\n",
       "</style>\n",
       "<table border=\"1\" class=\"dataframe\">\n",
       "  <thead>\n",
       "    <tr style=\"text-align: right;\">\n",
       "      <th></th>\n",
       "      <th>shopper_id</th>\n",
       "      <th>seniority</th>\n",
       "      <th>found_rate</th>\n",
       "      <th>picking_speed</th>\n",
       "      <th>accepted_rate</th>\n",
       "      <th>rating</th>\n",
       "    </tr>\n",
       "  </thead>\n",
       "  <tbody>\n",
       "    <tr>\n",
       "      <th>0</th>\n",
       "      <td>1fc20b0bdf697ac13dd6a15cbd2fe60a</td>\n",
       "      <td>41dc7c9e385c4d2b6c1f7836973951bf</td>\n",
       "      <td>0.8606</td>\n",
       "      <td>1.94</td>\n",
       "      <td>1.00</td>\n",
       "      <td>4.87</td>\n",
       "    </tr>\n",
       "    <tr>\n",
       "      <th>1</th>\n",
       "      <td>e1c679ac73a69c01981fdd3c5ab8beda</td>\n",
       "      <td>6c90661e6d2c7579f5ce337c3391dbb9</td>\n",
       "      <td>0.8446</td>\n",
       "      <td>1.23</td>\n",
       "      <td>0.92</td>\n",
       "      <td>4.92</td>\n",
       "    </tr>\n",
       "    <tr>\n",
       "      <th>2</th>\n",
       "      <td>09d369c66ca86ebeffacb133410c5ee1</td>\n",
       "      <td>6c90661e6d2c7579f5ce337c3391dbb9</td>\n",
       "      <td>0.8559</td>\n",
       "      <td>1.56</td>\n",
       "      <td>1.00</td>\n",
       "      <td>4.88</td>\n",
       "    </tr>\n",
       "    <tr>\n",
       "      <th>3</th>\n",
       "      <td>db39866e62b95bb04ebb1e470f2d1347</td>\n",
       "      <td>50e13ee63f086c2fe84229348bc91b5b</td>\n",
       "      <td>NaN</td>\n",
       "      <td>2.41</td>\n",
       "      <td>NaN</td>\n",
       "      <td>NaN</td>\n",
       "    </tr>\n",
       "    <tr>\n",
       "      <th>4</th>\n",
       "      <td>8efbc238660053b19f00ca431144fdae</td>\n",
       "      <td>6c90661e6d2c7579f5ce337c3391dbb9</td>\n",
       "      <td>0.8770</td>\n",
       "      <td>1.31</td>\n",
       "      <td>0.92</td>\n",
       "      <td>4.88</td>\n",
       "    </tr>\n",
       "  </tbody>\n",
       "</table>\n",
       "</div>"
      ],
      "text/plain": [
       "                         shopper_id                         seniority  \\\n",
       "0  1fc20b0bdf697ac13dd6a15cbd2fe60a  41dc7c9e385c4d2b6c1f7836973951bf   \n",
       "1  e1c679ac73a69c01981fdd3c5ab8beda  6c90661e6d2c7579f5ce337c3391dbb9   \n",
       "2  09d369c66ca86ebeffacb133410c5ee1  6c90661e6d2c7579f5ce337c3391dbb9   \n",
       "3  db39866e62b95bb04ebb1e470f2d1347  50e13ee63f086c2fe84229348bc91b5b   \n",
       "4  8efbc238660053b19f00ca431144fdae  6c90661e6d2c7579f5ce337c3391dbb9   \n",
       "\n",
       "   found_rate  picking_speed  accepted_rate  rating  \n",
       "0      0.8606           1.94           1.00    4.87  \n",
       "1      0.8446           1.23           0.92    4.92  \n",
       "2      0.8559           1.56           1.00    4.88  \n",
       "3         NaN           2.41            NaN     NaN  \n",
       "4      0.8770           1.31           0.92    4.88  "
      ]
     },
     "execution_count": 423,
     "metadata": {},
     "output_type": "execute_result"
    }
   ],
   "source": [
    "## Shopper\n",
    "filename_shop = \"https://raw.githubusercontent.com/tiagottmoraes/CS-s-Data-Science-Test/main/data/shoppers.csv\"\n",
    "df_shop = pd.read_csv(filename_shop)\n",
    "df_shop.head()"
   ]
  },
  {
   "cell_type": "markdown",
   "metadata": {},
   "source": [
    "Checking missing data in df_shop:"
   ]
  },
  {
   "cell_type": "code",
   "execution_count": 424,
   "metadata": {},
   "outputs": [
    {
     "name": "stdout",
     "output_type": "stream",
     "text": [
      "shopper_id\n",
      "False    2864\n",
      "Name: shopper_id, dtype: int64\n",
      "\n",
      "seniority\n",
      "False    2864\n",
      "Name: seniority, dtype: int64\n",
      "\n",
      "found_rate\n",
      "False    2763\n",
      "True      101\n",
      "Name: found_rate, dtype: int64\n",
      "\n",
      "picking_speed\n",
      "False    2864\n",
      "Name: picking_speed, dtype: int64\n",
      "\n",
      "accepted_rate\n",
      "False    2837\n",
      "True       27\n",
      "Name: accepted_rate, dtype: int64\n",
      "\n",
      "rating\n",
      "False    2780\n",
      "True       84\n",
      "Name: rating, dtype: int64\n",
      "\n"
     ]
    }
   ],
   "source": [
    "missing_data_order = df_shop.isnull()\n",
    "for column in missing_data_order.columns.values.tolist():\n",
    "    print(column)\n",
    "    print(missing_data_order[column].value_counts())\n",
    "    print(\"\")"
   ]
  },
  {
   "cell_type": "markdown",
   "metadata": {},
   "source": [
    "NOTE: There were found:\n",
    "- 101 NaN elements in the 'found_rate' feature\n",
    "- 27 NaN elements in the 'accepted_rate' feature\n",
    "- 84 NaN elements in the 'rating' feature"
   ]
  },
  {
   "cell_type": "code",
   "execution_count": 425,
   "metadata": {},
   "outputs": [
    {
     "name": "stdout",
     "output_type": "stream",
     "text": [
      "Unique shoppers listed: 2864 \n",
      "Unique seniority listed: 4\n"
     ]
    }
   ],
   "source": [
    "print('Unique shoppers listed:', df_shop['shopper_id'].nunique(),'\\n' \n",
    "      'Unique seniority listed:', df_shop['seniority'].nunique())"
   ]
  },
  {
   "cell_type": "markdown",
   "metadata": {},
   "source": [
    "Despite being anonymized, the \"seniority\" feature consists of only 4 different classes. In order to help clarify this feature and its relationship with other elements in this dataframe, the original hash code was replaced by random letters (T, I, M, W) and had its data type replaced by categorical."
   ]
  },
  {
   "cell_type": "code",
   "execution_count": 426,
   "metadata": {},
   "outputs": [
    {
     "data": {
      "text/plain": [
       "array(['41dc7c9e385c4d2b6c1f7836973951bf',\n",
       "       '6c90661e6d2c7579f5ce337c3391dbb9',\n",
       "       '50e13ee63f086c2fe84229348bc91b5b',\n",
       "       'bb29b8d0d196b5db5a5350e5e3ae2b1f'], dtype=object)"
      ]
     },
     "execution_count": 426,
     "metadata": {},
     "output_type": "execute_result"
    }
   ],
   "source": [
    "df_shop['seniority'].unique()"
   ]
  },
  {
   "cell_type": "code",
   "execution_count": 427,
   "metadata": {},
   "outputs": [],
   "source": [
    "df_shop.replace('41dc7c9e385c4d2b6c1f7836973951bf', 'T', inplace=True)\n",
    "df_shop.replace('6c90661e6d2c7579f5ce337c3391dbb9','I', inplace=True)\n",
    "df_shop.replace('50e13ee63f086c2fe84229348bc91b5b','M', inplace=True)\n",
    "df_shop.replace('bb29b8d0d196b5db5a5350e5e3ae2b1f','W', inplace=True)\n",
    "df_shop ['seniority']= df_shop['seniority'].astype('category')"
   ]
  },
  {
   "cell_type": "code",
   "execution_count": 428,
   "metadata": {},
   "outputs": [
    {
     "data": {
      "text/plain": [
       "I    1643\n",
       "M     719\n",
       "T     440\n",
       "W      62\n",
       "Name: seniority, dtype: int64"
      ]
     },
     "execution_count": 428,
     "metadata": {},
     "output_type": "execute_result"
    }
   ],
   "source": [
    "# Counting the number of shoppers in each seniority class\n",
    "df_shop['seniority'].value_counts()"
   ]
  },
  {
   "cell_type": "code",
   "execution_count": 429,
   "metadata": {},
   "outputs": [
    {
     "data": {
      "text/html": [
       "<div>\n",
       "<style scoped>\n",
       "    .dataframe tbody tr th:only-of-type {\n",
       "        vertical-align: middle;\n",
       "    }\n",
       "\n",
       "    .dataframe tbody tr th {\n",
       "        vertical-align: top;\n",
       "    }\n",
       "\n",
       "    .dataframe thead th {\n",
       "        text-align: right;\n",
       "    }\n",
       "</style>\n",
       "<table border=\"1\" class=\"dataframe\">\n",
       "  <thead>\n",
       "    <tr style=\"text-align: right;\">\n",
       "      <th></th>\n",
       "      <th>shopper_id</th>\n",
       "      <th>seniority</th>\n",
       "      <th>found_rate</th>\n",
       "      <th>picking_speed</th>\n",
       "      <th>accepted_rate</th>\n",
       "      <th>rating</th>\n",
       "    </tr>\n",
       "  </thead>\n",
       "  <tbody>\n",
       "    <tr>\n",
       "      <th>1122</th>\n",
       "      <td>8039278c212460c9af5a3dab089fda26</td>\n",
       "      <td>I</td>\n",
       "      <td>0.8493</td>\n",
       "      <td>1.67</td>\n",
       "      <td>1.00</td>\n",
       "      <td>4.88</td>\n",
       "    </tr>\n",
       "    <tr>\n",
       "      <th>2670</th>\n",
       "      <td>07b121dbae684d1b2b824a3320872874</td>\n",
       "      <td>I</td>\n",
       "      <td>0.8787</td>\n",
       "      <td>1.19</td>\n",
       "      <td>0.88</td>\n",
       "      <td>4.92</td>\n",
       "    </tr>\n",
       "  </tbody>\n",
       "</table>\n",
       "</div>"
      ],
      "text/plain": [
       "                            shopper_id seniority  found_rate  picking_speed  \\\n",
       "1122  8039278c212460c9af5a3dab089fda26         I      0.8493           1.67   \n",
       "2670  07b121dbae684d1b2b824a3320872874         I      0.8787           1.19   \n",
       "\n",
       "      accepted_rate  rating  \n",
       "1122           1.00    4.88  \n",
       "2670           0.88    4.92  "
      ]
     },
     "execution_count": 429,
     "metadata": {},
     "output_type": "execute_result"
    }
   ],
   "source": [
    "df_shop.sample(2)"
   ]
  },
  {
   "cell_type": "markdown",
   "metadata": {},
   "source": [
    "### 2.3 Loading dataset \"storebranch.csv\""
   ]
  },
  {
   "cell_type": "markdown",
   "metadata": {},
   "source": [
    "After loading the storebranch.csv into a dataframe called **df_store**, let's look at the first five rows using the `head()` function:"
   ]
  },
  {
   "cell_type": "code",
   "execution_count": 430,
   "metadata": {},
   "outputs": [
    {
     "data": {
      "text/html": [
       "<div>\n",
       "<style scoped>\n",
       "    .dataframe tbody tr th:only-of-type {\n",
       "        vertical-align: middle;\n",
       "    }\n",
       "\n",
       "    .dataframe tbody tr th {\n",
       "        vertical-align: top;\n",
       "    }\n",
       "\n",
       "    .dataframe thead th {\n",
       "        text-align: right;\n",
       "    }\n",
       "</style>\n",
       "<table border=\"1\" class=\"dataframe\">\n",
       "  <thead>\n",
       "    <tr style=\"text-align: right;\">\n",
       "      <th></th>\n",
       "      <th>store_branch_id</th>\n",
       "      <th>store_id</th>\n",
       "      <th>lat</th>\n",
       "      <th>lng</th>\n",
       "    </tr>\n",
       "  </thead>\n",
       "  <tbody>\n",
       "    <tr>\n",
       "      <th>0</th>\n",
       "      <td>aff1621254f7c1be92f64550478c56e6</td>\n",
       "      <td>92cc227532d17e56e07902b254dfad10</td>\n",
       "      <td>-33.422497</td>\n",
       "      <td>-70.609231</td>\n",
       "    </tr>\n",
       "    <tr>\n",
       "      <th>1</th>\n",
       "      <td>56352739f59643540a3a6e16985f62c7</td>\n",
       "      <td>0336dcbab05b9d5ad24f4333c7658a0e</td>\n",
       "      <td>-33.385484</td>\n",
       "      <td>-70.555579</td>\n",
       "    </tr>\n",
       "    <tr>\n",
       "      <th>2</th>\n",
       "      <td>7d04bbbe5494ae9d2f5a76aa1c00fa2f</td>\n",
       "      <td>9bf31c7ff062936a96d3c8bd1f8f2ff3</td>\n",
       "      <td>-33.416579</td>\n",
       "      <td>-70.565224</td>\n",
       "    </tr>\n",
       "    <tr>\n",
       "      <th>3</th>\n",
       "      <td>2b24d495052a8ce66358eb576b8912c8</td>\n",
       "      <td>c4ca4238a0b923820dcc509a6f75849b</td>\n",
       "      <td>-33.512578</td>\n",
       "      <td>-70.655952</td>\n",
       "    </tr>\n",
       "    <tr>\n",
       "      <th>4</th>\n",
       "      <td>5487315b1286f907165907aa8fc96619</td>\n",
       "      <td>d82c8d1619ad8176d665453cfb2e55f0</td>\n",
       "      <td>-33.347645</td>\n",
       "      <td>-70.542229</td>\n",
       "    </tr>\n",
       "  </tbody>\n",
       "</table>\n",
       "</div>"
      ],
      "text/plain": [
       "                    store_branch_id                          store_id  \\\n",
       "0  aff1621254f7c1be92f64550478c56e6  92cc227532d17e56e07902b254dfad10   \n",
       "1  56352739f59643540a3a6e16985f62c7  0336dcbab05b9d5ad24f4333c7658a0e   \n",
       "2  7d04bbbe5494ae9d2f5a76aa1c00fa2f  9bf31c7ff062936a96d3c8bd1f8f2ff3   \n",
       "3  2b24d495052a8ce66358eb576b8912c8  c4ca4238a0b923820dcc509a6f75849b   \n",
       "4  5487315b1286f907165907aa8fc96619  d82c8d1619ad8176d665453cfb2e55f0   \n",
       "\n",
       "         lat        lng  \n",
       "0 -33.422497 -70.609231  \n",
       "1 -33.385484 -70.555579  \n",
       "2 -33.416579 -70.565224  \n",
       "3 -33.512578 -70.655952  \n",
       "4 -33.347645 -70.542229  "
      ]
     },
     "execution_count": 430,
     "metadata": {},
     "output_type": "execute_result"
    }
   ],
   "source": [
    "## Storebranch\n",
    "filename_store = \"https://raw.githubusercontent.com/tiagottmoraes/CS-s-Data-Science-Test/main/data/storebranch.csv\"\n",
    "df_store = pd.read_csv(filename_store)\n",
    "df_store.head()"
   ]
  },
  {
   "cell_type": "markdown",
   "metadata": {},
   "source": [
    "Checking missing data in df_store:"
   ]
  },
  {
   "cell_type": "code",
   "execution_count": 431,
   "metadata": {},
   "outputs": [
    {
     "name": "stdout",
     "output_type": "stream",
     "text": [
      "store_branch_id\n",
      "False    476\n",
      "Name: store_branch_id, dtype: int64\n",
      "\n",
      "store_id\n",
      "False    476\n",
      "Name: store_id, dtype: int64\n",
      "\n",
      "lat\n",
      "False    476\n",
      "Name: lat, dtype: int64\n",
      "\n",
      "lng\n",
      "False    476\n",
      "Name: lng, dtype: int64\n",
      "\n"
     ]
    }
   ],
   "source": [
    "missing_data_order = df_store.isnull()\n",
    "for column in missing_data_order.columns.values.tolist():\n",
    "    print(column)\n",
    "    print(missing_data_order[column].value_counts())\n",
    "    print(\"\")"
   ]
  },
  {
   "cell_type": "markdown",
   "metadata": {},
   "source": [
    "NOTE:No missing values were found within this dataframe "
   ]
  },
  {
   "cell_type": "code",
   "execution_count": 432,
   "metadata": {},
   "outputs": [
    {
     "name": "stdout",
     "output_type": "stream",
     "text": [
      "Unique store_branch listed: 476 \n",
      "Unique store listed: 221\n"
     ]
    }
   ],
   "source": [
    "print('Unique store_branch listed:', df_store['store_branch_id'].nunique(),'\\n' 'Unique store listed:', df_store['store_id'].nunique())"
   ]
  },
  {
   "cell_type": "markdown",
   "metadata": {},
   "source": [
    "Considering that both \"storebranch.csv\" and \"orders.csv\" have different data on latitude and longitude coordinates but uses the same name convention, let's change both column's names to help differentiate them"
   ]
  },
  {
   "cell_type": "code",
   "execution_count": 433,
   "metadata": {},
   "outputs": [],
   "source": [
    "# renaming the columns\n",
    "df_store = df_store.rename(columns={'lat':'store_lat', 'lng':'store_long'})"
   ]
  },
  {
   "cell_type": "markdown",
   "metadata": {},
   "source": [
    "### 2.4 Loading dataset \"orders.csv\""
   ]
  },
  {
   "cell_type": "markdown",
   "metadata": {},
   "source": [
    "After loading the orders.csv into a dataframe called **df_order**, let's look at the first five rows using the `head()` function:"
   ]
  },
  {
   "cell_type": "code",
   "execution_count": 434,
   "metadata": {},
   "outputs": [
    {
     "data": {
      "text/html": [
       "<div>\n",
       "<style scoped>\n",
       "    .dataframe tbody tr th:only-of-type {\n",
       "        vertical-align: middle;\n",
       "    }\n",
       "\n",
       "    .dataframe tbody tr th {\n",
       "        vertical-align: top;\n",
       "    }\n",
       "\n",
       "    .dataframe thead th {\n",
       "        text-align: right;\n",
       "    }\n",
       "</style>\n",
       "<table border=\"1\" class=\"dataframe\">\n",
       "  <thead>\n",
       "    <tr style=\"text-align: right;\">\n",
       "      <th></th>\n",
       "      <th>order_id</th>\n",
       "      <th>lat</th>\n",
       "      <th>lng</th>\n",
       "      <th>promised_time</th>\n",
       "      <th>on_demand</th>\n",
       "      <th>shopper_id</th>\n",
       "      <th>store_branch_id</th>\n",
       "      <th>total_minutes</th>\n",
       "    </tr>\n",
       "  </thead>\n",
       "  <tbody>\n",
       "    <tr>\n",
       "      <th>0</th>\n",
       "      <td>e750294655c2c7c34d83cc3181c09de4</td>\n",
       "      <td>-33.501675</td>\n",
       "      <td>-70.579369</td>\n",
       "      <td>2019-10-18 20:48:00+00:00</td>\n",
       "      <td>True</td>\n",
       "      <td>e63bc83a1a952fa2b3cc9d558fb943cf</td>\n",
       "      <td>65ded5353c5ee48d0b7d48c591b8f430</td>\n",
       "      <td>67.684264</td>\n",
       "    </tr>\n",
       "    <tr>\n",
       "      <th>1</th>\n",
       "      <td>6581174846221cb6c467348e87f57641</td>\n",
       "      <td>-33.440584</td>\n",
       "      <td>-70.556283</td>\n",
       "      <td>2019-10-19 01:00:00+00:00</td>\n",
       "      <td>False</td>\n",
       "      <td>195f9e9d84a4ba9033c4b6a756334d8b</td>\n",
       "      <td>45fbc6d3e05ebd93369ce542e8f2322d</td>\n",
       "      <td>57.060632</td>\n",
       "    </tr>\n",
       "    <tr>\n",
       "      <th>2</th>\n",
       "      <td>3a226ea48debc0a7ae9950d5540f2f34</td>\n",
       "      <td>-32.987022</td>\n",
       "      <td>-71.544842</td>\n",
       "      <td>2019-10-19 14:54:00+00:00</td>\n",
       "      <td>True</td>\n",
       "      <td>a5b9ddc0d82e61582fca19ad43dbaacb</td>\n",
       "      <td>07563a3fe3bbe7e3ba84431ad9d055af</td>\n",
       "      <td>NaN</td>\n",
       "    </tr>\n",
       "    <tr>\n",
       "      <th>3</th>\n",
       "      <td>7d2ed03fe4966083e74b12694b1669d8</td>\n",
       "      <td>-33.328075</td>\n",
       "      <td>-70.512659</td>\n",
       "      <td>2019-10-18 21:47:00+00:00</td>\n",
       "      <td>True</td>\n",
       "      <td>d0b3f6bf7e249e5ebb8d3129341773a2</td>\n",
       "      <td>f1748d6b0fd9d439f71450117eba2725</td>\n",
       "      <td>52.067742</td>\n",
       "    </tr>\n",
       "    <tr>\n",
       "      <th>4</th>\n",
       "      <td>b4b2682d77118155fe4716300ccf7f39</td>\n",
       "      <td>-33.403239</td>\n",
       "      <td>-70.564020</td>\n",
       "      <td>2019-10-19 20:00:00+00:00</td>\n",
       "      <td>False</td>\n",
       "      <td>5c5199ce02f7b77caa9c2590a39ad27d</td>\n",
       "      <td>1f0e3dad99908345f7439f8ffabdffc4</td>\n",
       "      <td>140.724822</td>\n",
       "    </tr>\n",
       "  </tbody>\n",
       "</table>\n",
       "</div>"
      ],
      "text/plain": [
       "                           order_id        lat        lng  \\\n",
       "0  e750294655c2c7c34d83cc3181c09de4 -33.501675 -70.579369   \n",
       "1  6581174846221cb6c467348e87f57641 -33.440584 -70.556283   \n",
       "2  3a226ea48debc0a7ae9950d5540f2f34 -32.987022 -71.544842   \n",
       "3  7d2ed03fe4966083e74b12694b1669d8 -33.328075 -70.512659   \n",
       "4  b4b2682d77118155fe4716300ccf7f39 -33.403239 -70.564020   \n",
       "\n",
       "               promised_time  on_demand                        shopper_id  \\\n",
       "0  2019-10-18 20:48:00+00:00       True  e63bc83a1a952fa2b3cc9d558fb943cf   \n",
       "1  2019-10-19 01:00:00+00:00      False  195f9e9d84a4ba9033c4b6a756334d8b   \n",
       "2  2019-10-19 14:54:00+00:00       True  a5b9ddc0d82e61582fca19ad43dbaacb   \n",
       "3  2019-10-18 21:47:00+00:00       True  d0b3f6bf7e249e5ebb8d3129341773a2   \n",
       "4  2019-10-19 20:00:00+00:00      False  5c5199ce02f7b77caa9c2590a39ad27d   \n",
       "\n",
       "                    store_branch_id  total_minutes  \n",
       "0  65ded5353c5ee48d0b7d48c591b8f430      67.684264  \n",
       "1  45fbc6d3e05ebd93369ce542e8f2322d      57.060632  \n",
       "2  07563a3fe3bbe7e3ba84431ad9d055af            NaN  \n",
       "3  f1748d6b0fd9d439f71450117eba2725      52.067742  \n",
       "4  1f0e3dad99908345f7439f8ffabdffc4     140.724822  "
      ]
     },
     "execution_count": 434,
     "metadata": {},
     "output_type": "execute_result"
    }
   ],
   "source": [
    "## ORDERS - LABEL\n",
    "filename_ORDER = \"https://raw.githubusercontent.com/tiagottmoraes/CS-s-Data-Science-Test/main/data/orders.csv\"\n",
    "df_ORDER = pd.read_csv(filename_ORDER)\n",
    "df_ORDER.head()"
   ]
  },
  {
   "cell_type": "markdown",
   "metadata": {},
   "source": [
    "Checking missing data in df_ORDER:"
   ]
  },
  {
   "cell_type": "code",
   "execution_count": 435,
   "metadata": {},
   "outputs": [
    {
     "name": "stdout",
     "output_type": "stream",
     "text": [
      "order_id\n",
      "False    10000\n",
      "Name: order_id, dtype: int64\n",
      "\n",
      "lat\n",
      "False    10000\n",
      "Name: lat, dtype: int64\n",
      "\n",
      "lng\n",
      "False    10000\n",
      "Name: lng, dtype: int64\n",
      "\n",
      "promised_time\n",
      "False    10000\n",
      "Name: promised_time, dtype: int64\n",
      "\n",
      "on_demand\n",
      "False    10000\n",
      "Name: on_demand, dtype: int64\n",
      "\n",
      "shopper_id\n",
      "False    10000\n",
      "Name: shopper_id, dtype: int64\n",
      "\n",
      "store_branch_id\n",
      "False    10000\n",
      "Name: store_branch_id, dtype: int64\n",
      "\n",
      "total_minutes\n",
      "False    8000\n",
      "True     2000\n",
      "Name: total_minutes, dtype: int64\n",
      "\n"
     ]
    }
   ],
   "source": [
    "missing_data_order = df_ORDER.isnull()\n",
    "for column in missing_data_order.columns.values.tolist():\n",
    "    print(column)\n",
    "    print(missing_data_order[column].value_counts())\n",
    "    print(\"\")"
   ]
  },
  {
   "cell_type": "markdown",
   "metadata": {},
   "source": [
    "NOTE: No null values, EXCEPT for the label \"total_minutes\". The rows containg this missing values in the label will be later taken apart to be used during the predictions phase."
   ]
  },
  {
   "cell_type": "markdown",
   "metadata": {},
   "source": [
    "Considering that both \"storebranch.csv\" and \"orders.csv\" have different data on latitude and longitude coordinates but uses the same name convention, let's change both column's names to help differentiate them."
   ]
  },
  {
   "cell_type": "code",
   "execution_count": 436,
   "metadata": {},
   "outputs": [],
   "source": [
    "df_ORDER = df_ORDER.rename(columns={'lat':'delivery_lat', 'lng':'delivery_long'})"
   ]
  },
  {
   "cell_type": "markdown",
   "metadata": {},
   "source": [
    "### 2.5 Merging dataframes"
   ]
  },
  {
   "cell_type": "markdown",
   "metadata": {},
   "source": [
    "Merging dataframes using primary keys"
   ]
  },
  {
   "cell_type": "markdown",
   "metadata": {},
   "source": [
    "1. First, merge df_ordprod in df_ORDER, using \"order_id\" as primary keys:"
   ]
  },
  {
   "cell_type": "code",
   "execution_count": 437,
   "metadata": {},
   "outputs": [],
   "source": [
    "df_merge = pd.merge(df_ORDER, df_ordprod, on='order_id')"
   ]
  },
  {
   "cell_type": "markdown",
   "metadata": {},
   "source": [
    "2. Then, merge df_shop in df_merge (result from previous merge operation), using \"shopper_id\" as foreing keys:"
   ]
  },
  {
   "cell_type": "code",
   "execution_count": 438,
   "metadata": {},
   "outputs": [],
   "source": [
    "df_merge = pd.merge(df_merge, df_shop, on='shopper_id')"
   ]
  },
  {
   "cell_type": "markdown",
   "metadata": {},
   "source": [
    "3. Finally, merge df_store in df_merge (result from previous merge operation), using \"store_branch_id\" as foreing keys:"
   ]
  },
  {
   "cell_type": "code",
   "execution_count": 439,
   "metadata": {},
   "outputs": [],
   "source": [
    "df_merge = pd.merge(df_merge, df_store, on='store_branch_id')"
   ]
  },
  {
   "cell_type": "markdown",
   "metadata": {},
   "source": [
    "After merging and, then, sorting the features, we get the following dataframe:"
   ]
  },
  {
   "cell_type": "code",
   "execution_count": 440,
   "metadata": {},
   "outputs": [
    {
     "data": {
      "text/html": [
       "<div>\n",
       "<style scoped>\n",
       "    .dataframe tbody tr th:only-of-type {\n",
       "        vertical-align: middle;\n",
       "    }\n",
       "\n",
       "    .dataframe tbody tr th {\n",
       "        vertical-align: top;\n",
       "    }\n",
       "\n",
       "    .dataframe thead th {\n",
       "        text-align: right;\n",
       "    }\n",
       "</style>\n",
       "<table border=\"1\" class=\"dataframe\">\n",
       "  <thead>\n",
       "    <tr style=\"text-align: right;\">\n",
       "      <th></th>\n",
       "      <th>order_id</th>\n",
       "      <th>store_branch_id</th>\n",
       "      <th>store_lat</th>\n",
       "      <th>delivery_lat</th>\n",
       "      <th>store_long</th>\n",
       "      <th>delivery_long</th>\n",
       "      <th>promised_time</th>\n",
       "      <th>store_id</th>\n",
       "      <th>quantity</th>\n",
       "      <th>buy_unit</th>\n",
       "      <th>shopper_id</th>\n",
       "      <th>on_demand</th>\n",
       "      <th>seniority</th>\n",
       "      <th>order_size</th>\n",
       "      <th>found_rate</th>\n",
       "      <th>picking_speed</th>\n",
       "      <th>accepted_rate</th>\n",
       "      <th>rating</th>\n",
       "      <th>total_minutes</th>\n",
       "    </tr>\n",
       "  </thead>\n",
       "  <tbody>\n",
       "    <tr>\n",
       "      <th>7829</th>\n",
       "      <td>667708f477fad2705f50071023bac4ce</td>\n",
       "      <td>26657d5ff9020d2abefe558796b99584</td>\n",
       "      <td>-33.355373</td>\n",
       "      <td>-33.350095</td>\n",
       "      <td>-70.538246</td>\n",
       "      <td>-70.488018</td>\n",
       "      <td>2019-10-19 15:00:00+00:00</td>\n",
       "      <td>6f4922f45568161a8cdf4ad2299f6d23</td>\n",
       "      <td>3</td>\n",
       "      <td>3</td>\n",
       "      <td>c303814b79782cab2b23387895adf683</td>\n",
       "      <td>False</td>\n",
       "      <td>I</td>\n",
       "      <td>3</td>\n",
       "      <td>0.8474</td>\n",
       "      <td>1.56</td>\n",
       "      <td>0.96</td>\n",
       "      <td>4.68</td>\n",
       "      <td>NaN</td>\n",
       "    </tr>\n",
       "    <tr>\n",
       "      <th>1134</th>\n",
       "      <td>3c59a6cbe7c2d84889e823e05879cc7d</td>\n",
       "      <td>1679091c5a880faf6fb5e6087eb1b2dc</td>\n",
       "      <td>-33.370765</td>\n",
       "      <td>-33.385671</td>\n",
       "      <td>-70.512420</td>\n",
       "      <td>-70.503318</td>\n",
       "      <td>2019-10-19 16:00:00+00:00</td>\n",
       "      <td>c4ca4238a0b923820dcc509a6f75849b</td>\n",
       "      <td>78</td>\n",
       "      <td>78</td>\n",
       "      <td>e9ae346da1cabad6b408487c7d1e09cf</td>\n",
       "      <td>False</td>\n",
       "      <td>I</td>\n",
       "      <td>78</td>\n",
       "      <td>0.8885</td>\n",
       "      <td>1.74</td>\n",
       "      <td>0.88</td>\n",
       "      <td>4.84</td>\n",
       "      <td>109.432638</td>\n",
       "    </tr>\n",
       "  </tbody>\n",
       "</table>\n",
       "</div>"
      ],
      "text/plain": [
       "                              order_id                   store_branch_id  \\\n",
       "7829  667708f477fad2705f50071023bac4ce  26657d5ff9020d2abefe558796b99584   \n",
       "1134  3c59a6cbe7c2d84889e823e05879cc7d  1679091c5a880faf6fb5e6087eb1b2dc   \n",
       "\n",
       "      store_lat  delivery_lat  store_long  delivery_long  \\\n",
       "7829 -33.355373    -33.350095  -70.538246     -70.488018   \n",
       "1134 -33.370765    -33.385671  -70.512420     -70.503318   \n",
       "\n",
       "                  promised_time                          store_id  quantity  \\\n",
       "7829  2019-10-19 15:00:00+00:00  6f4922f45568161a8cdf4ad2299f6d23         3   \n",
       "1134  2019-10-19 16:00:00+00:00  c4ca4238a0b923820dcc509a6f75849b        78   \n",
       "\n",
       "      buy_unit                        shopper_id  on_demand seniority  \\\n",
       "7829         3  c303814b79782cab2b23387895adf683      False         I   \n",
       "1134        78  e9ae346da1cabad6b408487c7d1e09cf      False         I   \n",
       "\n",
       "      order_size  found_rate  picking_speed  accepted_rate  rating  \\\n",
       "7829           3      0.8474           1.56           0.96    4.68   \n",
       "1134          78      0.8885           1.74           0.88    4.84   \n",
       "\n",
       "      total_minutes  \n",
       "7829            NaN  \n",
       "1134     109.432638  "
      ]
     },
     "execution_count": 440,
     "metadata": {},
     "output_type": "execute_result"
    }
   ],
   "source": [
    "df_merge = df_merge.reindex(['order_id','store_branch_id','store_lat','delivery_lat','store_long','delivery_long','promised_time', 'store_id','quantity', 'buy_unit','shopper_id','on_demand','seniority', 'order_size', 'found_rate','picking_speed','accepted_rate','rating', 'total_minutes'], axis=1)\n",
    "pd.set_option('display.max_columns', None)\n",
    "df_merge.sample(2)"
   ]
  },
  {
   "cell_type": "markdown",
   "metadata": {},
   "source": [
    "## 3 Dealing with missing data"
   ]
  },
  {
   "cell_type": "markdown",
   "metadata": {},
   "source": [
    "### 3.1 Removing/Replacing missing values"
   ]
  },
  {
   "cell_type": "markdown",
   "metadata": {},
   "source": [
    "First, let's remove some unnecessary features, such as \"promissed_time\" (nothing to compare with), \"store_id\" (already used store_branch_id as primary key),\"quantity\" and \"buy_unit\" (both deprecated after grouping by \"order_id\", as show in item 2.1)"
   ]
  },
  {
   "cell_type": "code",
   "execution_count": 441,
   "metadata": {},
   "outputs": [],
   "source": [
    "df_merge.drop(['promised_time', 'store_id','quantity', 'buy_unit'], axis=1, inplace=True)"
   ]
  },
  {
   "cell_type": "markdown",
   "metadata": {},
   "source": [
    "As shown before, some features presents missing values that must be addressed before we head to the exploratory analysis. \n"
   ]
  },
  {
   "cell_type": "code",
   "execution_count": 442,
   "metadata": {},
   "outputs": [
    {
     "data": {
      "text/html": [
       "<div>\n",
       "<style scoped>\n",
       "    .dataframe tbody tr th:only-of-type {\n",
       "        vertical-align: middle;\n",
       "    }\n",
       "\n",
       "    .dataframe tbody tr th {\n",
       "        vertical-align: top;\n",
       "    }\n",
       "\n",
       "    .dataframe thead th {\n",
       "        text-align: right;\n",
       "    }\n",
       "</style>\n",
       "<table border=\"1\" class=\"dataframe\">\n",
       "  <thead>\n",
       "    <tr style=\"text-align: right;\">\n",
       "      <th></th>\n",
       "      <th>order_id</th>\n",
       "      <th>store_branch_id</th>\n",
       "      <th>store_lat</th>\n",
       "      <th>delivery_lat</th>\n",
       "      <th>store_long</th>\n",
       "      <th>delivery_long</th>\n",
       "      <th>shopper_id</th>\n",
       "      <th>on_demand</th>\n",
       "      <th>seniority</th>\n",
       "      <th>order_size</th>\n",
       "      <th>found_rate</th>\n",
       "      <th>picking_speed</th>\n",
       "      <th>accepted_rate</th>\n",
       "      <th>rating</th>\n",
       "      <th>total_minutes</th>\n",
       "    </tr>\n",
       "  </thead>\n",
       "  <tbody>\n",
       "    <tr>\n",
       "      <th>5545</th>\n",
       "      <td>55482d7e54fc0fda8be73e7db166a545</td>\n",
       "      <td>5751ec3e9a4feab575962e78e006250d</td>\n",
       "      <td>-33.463001</td>\n",
       "      <td>-33.456859</td>\n",
       "      <td>-70.575301</td>\n",
       "      <td>-70.572237</td>\n",
       "      <td>e8eaa7ab90d6ffe2474100103b723e96</td>\n",
       "      <td>True</td>\n",
       "      <td>M</td>\n",
       "      <td>6</td>\n",
       "      <td>0.8098</td>\n",
       "      <td>3.74</td>\n",
       "      <td>0.92</td>\n",
       "      <td>4.72</td>\n",
       "      <td>48.170608</td>\n",
       "    </tr>\n",
       "    <tr>\n",
       "      <th>36</th>\n",
       "      <td>c4531b795fc4c119ae5517fd62f86e8c</td>\n",
       "      <td>65ded5353c5ee48d0b7d48c591b8f430</td>\n",
       "      <td>-33.485280</td>\n",
       "      <td>-33.495454</td>\n",
       "      <td>-70.579250</td>\n",
       "      <td>-70.554772</td>\n",
       "      <td>6bcd77f7e04386ca53129137ad0c35e1</td>\n",
       "      <td>False</td>\n",
       "      <td>I</td>\n",
       "      <td>56</td>\n",
       "      <td>0.8903</td>\n",
       "      <td>1.29</td>\n",
       "      <td>0.96</td>\n",
       "      <td>4.92</td>\n",
       "      <td>139.862937</td>\n",
       "    </tr>\n",
       "  </tbody>\n",
       "</table>\n",
       "</div>"
      ],
      "text/plain": [
       "                              order_id                   store_branch_id  \\\n",
       "5545  55482d7e54fc0fda8be73e7db166a545  5751ec3e9a4feab575962e78e006250d   \n",
       "36    c4531b795fc4c119ae5517fd62f86e8c  65ded5353c5ee48d0b7d48c591b8f430   \n",
       "\n",
       "      store_lat  delivery_lat  store_long  delivery_long  \\\n",
       "5545 -33.463001    -33.456859  -70.575301     -70.572237   \n",
       "36   -33.485280    -33.495454  -70.579250     -70.554772   \n",
       "\n",
       "                            shopper_id  on_demand seniority  order_size  \\\n",
       "5545  e8eaa7ab90d6ffe2474100103b723e96       True         M           6   \n",
       "36    6bcd77f7e04386ca53129137ad0c35e1      False         I          56   \n",
       "\n",
       "      found_rate  picking_speed  accepted_rate  rating  total_minutes  \n",
       "5545      0.8098           3.74           0.92    4.72      48.170608  \n",
       "36        0.8903           1.29           0.96    4.92     139.862937  "
      ]
     },
     "execution_count": 442,
     "metadata": {},
     "output_type": "execute_result"
    }
   ],
   "source": [
    "df_merge.sample(2)"
   ]
  },
  {
   "cell_type": "code",
   "execution_count": 443,
   "metadata": {},
   "outputs": [
    {
     "name": "stdout",
     "output_type": "stream",
     "text": [
      "<class 'pandas.core.frame.DataFrame'>\n",
      "Int64Index: 9978 entries, 0 to 9977\n",
      "Data columns (total 15 columns):\n",
      " #   Column           Non-Null Count  Dtype   \n",
      "---  ------           --------------  -----   \n",
      " 0   order_id         9978 non-null   object  \n",
      " 1   store_branch_id  9978 non-null   object  \n",
      " 2   store_lat        9978 non-null   float64 \n",
      " 3   delivery_lat     9978 non-null   float64 \n",
      " 4   store_long       9978 non-null   float64 \n",
      " 5   delivery_long    9978 non-null   float64 \n",
      " 6   shopper_id       9978 non-null   object  \n",
      " 7   on_demand        9978 non-null   bool    \n",
      " 8   seniority        9978 non-null   category\n",
      " 9   order_size       9978 non-null   int64   \n",
      " 10  found_rate       9779 non-null   float64 \n",
      " 11  picking_speed    9978 non-null   float64 \n",
      " 12  accepted_rate    9932 non-null   float64 \n",
      " 13  rating           9816 non-null   float64 \n",
      " 14  total_minutes    7983 non-null   float64 \n",
      "dtypes: bool(1), category(1), float64(9), int64(1), object(3)\n",
      "memory usage: 1.1+ MB\n"
     ]
    }
   ],
   "source": [
    "#checking the overall distribution and volume of the dataframe\n",
    "df_merge.info()"
   ]
  },
  {
   "cell_type": "code",
   "execution_count": 444,
   "metadata": {},
   "outputs": [
    {
     "name": "stdout",
     "output_type": "stream",
     "text": [
      " \n",
      "Total number of NaN items present in the columns of the DataFrame 'df_merge': \n",
      "\n",
      " order_id              0\n",
      "store_branch_id       0\n",
      "store_lat             0\n",
      "delivery_lat          0\n",
      "store_long            0\n",
      "delivery_long         0\n",
      "shopper_id            0\n",
      "on_demand             0\n",
      "seniority             0\n",
      "order_size            0\n",
      "found_rate          199\n",
      "picking_speed         0\n",
      "accepted_rate        46\n",
      "rating              162\n",
      "total_minutes      1995\n",
      "dtype: int64\n"
     ]
    }
   ],
   "source": [
    "#checking missing values in merged dataframe\n",
    "print(\" \\nTotal number of NaN items present in the columns of the DataFrame 'df_merge': \\n\\n\", df_merge.isnull().sum())"
   ]
  },
  {
   "cell_type": "markdown",
   "metadata": {},
   "source": [
    "As stated before, the \"total_minutes\" label will be set apart to be used in the preditions phase, so it won't have any new values imputed. For the rest of features ('found_rate', 'accepted_rate' and 'rating '), all missing values will be imputed by using their respectives average values in the series."
   ]
  },
  {
   "cell_type": "code",
   "execution_count": 445,
   "metadata": {},
   "outputs": [
    {
     "name": "stdout",
     "output_type": "stream",
     "text": [
      "Average of found_rate: 0.8633177727784027\n",
      "Average of accepted_rate: 0.9170133784336325\n",
      "Average of rating: 4.849341890790547\n"
     ]
    }
   ],
   "source": [
    "# calculating the averages\n",
    "avg_found = df_merge['found_rate'].mean(axis=0)\n",
    "avg_accept = df_merge['accepted_rate'].mean(axis=0)\n",
    "avg_rate = df_merge['rating'].mean(axis=0)\n",
    "print(\"Average of found_rate:\", avg_found )\n",
    "print(\"Average of accepted_rate:\", avg_accept )\n",
    "print(\"Average of rating:\", avg_rate )\n"
   ]
  },
  {
   "cell_type": "code",
   "execution_count": 446,
   "metadata": {},
   "outputs": [],
   "source": [
    "# replacing the NaN with the average values\n",
    "df_merge['found_rate'].replace(np.nan, avg_found, inplace=True)\n",
    "df_merge['accepted_rate'].replace(np.nan, avg_accept, inplace=True)\n",
    "df_merge['rating'].replace(np.nan, avg_rate, inplace=True)"
   ]
  },
  {
   "cell_type": "code",
   "execution_count": 447,
   "metadata": {},
   "outputs": [
    {
     "name": "stdout",
     "output_type": "stream",
     "text": [
      " \n",
      "Total number of NaN items present in the columns of the DataFrame 'df_merge': \n",
      "\n",
      " order_id              0\n",
      "store_branch_id       0\n",
      "store_lat             0\n",
      "delivery_lat          0\n",
      "store_long            0\n",
      "delivery_long         0\n",
      "shopper_id            0\n",
      "on_demand             0\n",
      "seniority             0\n",
      "order_size            0\n",
      "found_rate            0\n",
      "picking_speed         0\n",
      "accepted_rate         0\n",
      "rating                0\n",
      "total_minutes      1995\n",
      "dtype: int64\n"
     ]
    }
   ],
   "source": [
    "print(\" \\nTotal number of NaN items present in the columns of the DataFrame 'df_merge': \\n\\n\", df_merge.isnull().sum())"
   ]
  },
  {
   "cell_type": "markdown",
   "metadata": {},
   "source": [
    "NOTE: All missing values removed from the desired the features"
   ]
  },
  {
   "cell_type": "markdown",
   "metadata": {},
   "source": [
    "### 3.2 Feature transformation"
   ]
  },
  {
   "cell_type": "markdown",
   "metadata": {},
   "source": [
    "Geopy library can calculate straight distances between two points using only their geographic coordinates. First, let's change the latitude and longitude values and convert it into a single geographic point using Geopy's `Point` function."
   ]
  },
  {
   "cell_type": "code",
   "execution_count": 448,
   "metadata": {},
   "outputs": [
    {
     "data": {
      "text/html": [
       "<div>\n",
       "<style scoped>\n",
       "    .dataframe tbody tr th:only-of-type {\n",
       "        vertical-align: middle;\n",
       "    }\n",
       "\n",
       "    .dataframe tbody tr th {\n",
       "        vertical-align: top;\n",
       "    }\n",
       "\n",
       "    .dataframe thead th {\n",
       "        text-align: right;\n",
       "    }\n",
       "</style>\n",
       "<table border=\"1\" class=\"dataframe\">\n",
       "  <thead>\n",
       "    <tr style=\"text-align: right;\">\n",
       "      <th></th>\n",
       "      <th>order_id</th>\n",
       "      <th>store_branch_id</th>\n",
       "      <th>shopper_id</th>\n",
       "      <th>on_demand</th>\n",
       "      <th>seniority</th>\n",
       "      <th>order_size</th>\n",
       "      <th>found_rate</th>\n",
       "      <th>picking_speed</th>\n",
       "      <th>accepted_rate</th>\n",
       "      <th>rating</th>\n",
       "      <th>total_minutes</th>\n",
       "      <th>store_coord</th>\n",
       "      <th>delivery_coord</th>\n",
       "    </tr>\n",
       "  </thead>\n",
       "  <tbody>\n",
       "    <tr>\n",
       "      <th>1032</th>\n",
       "      <td>6239971cc9b841f883e8ee644b32d191</td>\n",
       "      <td>1679091c5a880faf6fb5e6087eb1b2dc</td>\n",
       "      <td>7364b2cb7b2acdaa8e02cfaf26218ec5</td>\n",
       "      <td>True</td>\n",
       "      <td>T</td>\n",
       "      <td>7</td>\n",
       "      <td>0.8935</td>\n",
       "      <td>2.62</td>\n",
       "      <td>0.96</td>\n",
       "      <td>4.85</td>\n",
       "      <td>58.753143</td>\n",
       "      <td>33 22m 14.754s S, 70 30m 44.712s W</td>\n",
       "      <td>33 19m 26.4429s S, 70 32m 8.02231s W</td>\n",
       "    </tr>\n",
       "  </tbody>\n",
       "</table>\n",
       "</div>"
      ],
      "text/plain": [
       "                              order_id                   store_branch_id  \\\n",
       "1032  6239971cc9b841f883e8ee644b32d191  1679091c5a880faf6fb5e6087eb1b2dc   \n",
       "\n",
       "                            shopper_id  on_demand seniority  order_size  \\\n",
       "1032  7364b2cb7b2acdaa8e02cfaf26218ec5       True         T           7   \n",
       "\n",
       "      found_rate  picking_speed  accepted_rate  rating  total_minutes  \\\n",
       "1032      0.8935           2.62           0.96    4.85      58.753143   \n",
       "\n",
       "                             store_coord                        delivery_coord  \n",
       "1032  33 22m 14.754s S, 70 30m 44.712s W  33 19m 26.4429s S, 70 32m 8.02231s W  "
      ]
     },
     "execution_count": 448,
     "metadata": {},
     "output_type": "execute_result"
    }
   ],
   "source": [
    "df_merge['store_coord'] = df_merge.apply(lambda row: Point(latitude=row['store_lat'], longitude=row['store_long']), axis=1)\n",
    "df_merge['delivery_coord'] = df_merge.apply(lambda row: Point(latitude=row['delivery_lat'], longitude=row['delivery_long']), axis=1)\n",
    "df_merge = df_merge.drop(['store_lat', 'store_long', 'delivery_lat', 'delivery_long'], axis=1) # dropping the unnecessary columns\n",
    "df_merge.sample(1)"
   ]
  },
  {
   "cell_type": "markdown",
   "metadata": {},
   "source": [
    "Finally, using Geopy's `Distance` function, we can obtain the straight line distance (km) between two given points."
   ]
  },
  {
   "cell_type": "code",
   "execution_count": 449,
   "metadata": {},
   "outputs": [],
   "source": [
    "#calculating the distance between the store and the delivery point, using their coordinates\n",
    "df_merge['distance_km'] = df_merge.apply(lambda row: distance(row['delivery_coord'], row['store_coord']).km , axis=1)"
   ]
  },
  {
   "cell_type": "code",
   "execution_count": 450,
   "metadata": {},
   "outputs": [
    {
     "data": {
      "text/html": [
       "<div>\n",
       "<style scoped>\n",
       "    .dataframe tbody tr th:only-of-type {\n",
       "        vertical-align: middle;\n",
       "    }\n",
       "\n",
       "    .dataframe tbody tr th {\n",
       "        vertical-align: top;\n",
       "    }\n",
       "\n",
       "    .dataframe thead th {\n",
       "        text-align: right;\n",
       "    }\n",
       "</style>\n",
       "<table border=\"1\" class=\"dataframe\">\n",
       "  <thead>\n",
       "    <tr style=\"text-align: right;\">\n",
       "      <th></th>\n",
       "      <th>order_id</th>\n",
       "      <th>store_branch_id</th>\n",
       "      <th>shopper_id</th>\n",
       "      <th>on_demand</th>\n",
       "      <th>seniority</th>\n",
       "      <th>order_size</th>\n",
       "      <th>found_rate</th>\n",
       "      <th>picking_speed</th>\n",
       "      <th>accepted_rate</th>\n",
       "      <th>rating</th>\n",
       "      <th>distance_km</th>\n",
       "      <th>total_minutes</th>\n",
       "    </tr>\n",
       "  </thead>\n",
       "  <tbody>\n",
       "    <tr>\n",
       "      <th>4484</th>\n",
       "      <td>608018e48a2b836dd1ee1b79e8fb6bdd</td>\n",
       "      <td>c4ca4238a0b923820dcc509a6f75849b</td>\n",
       "      <td>1de1ce4ee8f938c6fe9d6dfe95c9804f</td>\n",
       "      <td>True</td>\n",
       "      <td>I</td>\n",
       "      <td>29</td>\n",
       "      <td>0.8959</td>\n",
       "      <td>1.13</td>\n",
       "      <td>1.00</td>\n",
       "      <td>4.80</td>\n",
       "      <td>1.825195</td>\n",
       "      <td>67.299601</td>\n",
       "    </tr>\n",
       "    <tr>\n",
       "      <th>2053</th>\n",
       "      <td>42a0278f2f61e167d8efe9c61ad4206d</td>\n",
       "      <td>1679091c5a880faf6fb5e6087eb1b2dc</td>\n",
       "      <td>304ed3a3e09c21867a8bc2386f635389</td>\n",
       "      <td>False</td>\n",
       "      <td>I</td>\n",
       "      <td>32</td>\n",
       "      <td>0.9496</td>\n",
       "      <td>1.00</td>\n",
       "      <td>0.88</td>\n",
       "      <td>4.92</td>\n",
       "      <td>0.211524</td>\n",
       "      <td>79.713877</td>\n",
       "    </tr>\n",
       "  </tbody>\n",
       "</table>\n",
       "</div>"
      ],
      "text/plain": [
       "                              order_id                   store_branch_id  \\\n",
       "4484  608018e48a2b836dd1ee1b79e8fb6bdd  c4ca4238a0b923820dcc509a6f75849b   \n",
       "2053  42a0278f2f61e167d8efe9c61ad4206d  1679091c5a880faf6fb5e6087eb1b2dc   \n",
       "\n",
       "                            shopper_id  on_demand seniority  order_size  \\\n",
       "4484  1de1ce4ee8f938c6fe9d6dfe95c9804f       True         I          29   \n",
       "2053  304ed3a3e09c21867a8bc2386f635389      False         I          32   \n",
       "\n",
       "      found_rate  picking_speed  accepted_rate  rating  distance_km  \\\n",
       "4484      0.8959           1.13           1.00    4.80     1.825195   \n",
       "2053      0.9496           1.00           0.88    4.92     0.211524   \n",
       "\n",
       "      total_minutes  \n",
       "4484      67.299601  \n",
       "2053      79.713877  "
      ]
     },
     "execution_count": 450,
     "metadata": {},
     "output_type": "execute_result"
    }
   ],
   "source": [
    "#removing coordinate data and renaming the newly found distance\n",
    "df_merge.drop(['delivery_coord', 'store_coord'], axis=1, inplace=True)\n",
    "df_merge = df_merge.reindex(['order_id','store_branch_id','shopper_id','on_demand','seniority', 'order_size', 'found_rate','picking_speed','accepted_rate','rating','distance_km','total_minutes'], axis=1)\n",
    "df_merge.sample(2)"
   ]
  },
  {
   "cell_type": "markdown",
   "metadata": {},
   "source": [
    "One last transformation to be carried out is the \"on_demand\" feature, which is currently a boolean. Since booleans aren't good matchs when when working with machine learning models, we'll simply replace \"True\"=1 and \"False\"=0"
   ]
  },
  {
   "cell_type": "code",
   "execution_count": 451,
   "metadata": {},
   "outputs": [
    {
     "data": {
      "text/plain": [
       "dtype('bool')"
      ]
     },
     "execution_count": 451,
     "metadata": {},
     "output_type": "execute_result"
    }
   ],
   "source": [
    "df_merge['on_demand'].dtypes"
   ]
  },
  {
   "cell_type": "code",
   "execution_count": 452,
   "metadata": {},
   "outputs": [],
   "source": [
    "# True = 1, False = 0\n",
    "df_merge['on_demand'].replace(True,1, inplace=True)\n",
    "df_merge['on_demand'].replace(False,0, inplace=True)"
   ]
  },
  {
   "cell_type": "code",
   "execution_count": 453,
   "metadata": {},
   "outputs": [
    {
     "data": {
      "text/html": [
       "<div>\n",
       "<style scoped>\n",
       "    .dataframe tbody tr th:only-of-type {\n",
       "        vertical-align: middle;\n",
       "    }\n",
       "\n",
       "    .dataframe tbody tr th {\n",
       "        vertical-align: top;\n",
       "    }\n",
       "\n",
       "    .dataframe thead th {\n",
       "        text-align: right;\n",
       "    }\n",
       "</style>\n",
       "<table border=\"1\" class=\"dataframe\">\n",
       "  <thead>\n",
       "    <tr style=\"text-align: right;\">\n",
       "      <th></th>\n",
       "      <th>order_id</th>\n",
       "      <th>store_branch_id</th>\n",
       "      <th>shopper_id</th>\n",
       "      <th>on_demand</th>\n",
       "      <th>seniority</th>\n",
       "      <th>order_size</th>\n",
       "      <th>found_rate</th>\n",
       "      <th>picking_speed</th>\n",
       "      <th>accepted_rate</th>\n",
       "      <th>rating</th>\n",
       "      <th>distance_km</th>\n",
       "      <th>total_minutes</th>\n",
       "    </tr>\n",
       "  </thead>\n",
       "  <tbody>\n",
       "    <tr>\n",
       "      <th>226</th>\n",
       "      <td>93d30249cf385540ec47df8624062684</td>\n",
       "      <td>45fbc6d3e05ebd93369ce542e8f2322d</td>\n",
       "      <td>76b112f3a9a16d2120ea5e842c3352b6</td>\n",
       "      <td>1</td>\n",
       "      <td>M</td>\n",
       "      <td>22</td>\n",
       "      <td>0.8038</td>\n",
       "      <td>3.05</td>\n",
       "      <td>0.840</td>\n",
       "      <td>5.00</td>\n",
       "      <td>2.638877</td>\n",
       "      <td>NaN</td>\n",
       "    </tr>\n",
       "    <tr>\n",
       "      <th>6216</th>\n",
       "      <td>b02e19d80831f2e22aa48c56d9a337a8</td>\n",
       "      <td>7ef605fc8dba5425d6965fbd4c8fbe1f</td>\n",
       "      <td>c0354e7babed01459c603b9dd8daba79</td>\n",
       "      <td>1</td>\n",
       "      <td>T</td>\n",
       "      <td>1</td>\n",
       "      <td>0.8472</td>\n",
       "      <td>2.18</td>\n",
       "      <td>0.875</td>\n",
       "      <td>5.00</td>\n",
       "      <td>2.123429</td>\n",
       "      <td>45.935544</td>\n",
       "    </tr>\n",
       "    <tr>\n",
       "      <th>2120</th>\n",
       "      <td>c036f92a8edd9d057b57506459589473</td>\n",
       "      <td>1679091c5a880faf6fb5e6087eb1b2dc</td>\n",
       "      <td>c60f1209a02a5abf9e47688ff8119e2e</td>\n",
       "      <td>1</td>\n",
       "      <td>I</td>\n",
       "      <td>28</td>\n",
       "      <td>0.8863</td>\n",
       "      <td>1.06</td>\n",
       "      <td>1.000</td>\n",
       "      <td>4.96</td>\n",
       "      <td>2.154335</td>\n",
       "      <td>NaN</td>\n",
       "    </tr>\n",
       "    <tr>\n",
       "      <th>8534</th>\n",
       "      <td>aac988ef6aa8bb05a2166f35696bde8a</td>\n",
       "      <td>b056eb1587586b71e2da9acfe4fbd19e</td>\n",
       "      <td>1894e03459c66a8fe51a33b240520b55</td>\n",
       "      <td>1</td>\n",
       "      <td>M</td>\n",
       "      <td>2</td>\n",
       "      <td>0.8185</td>\n",
       "      <td>2.80</td>\n",
       "      <td>0.880</td>\n",
       "      <td>4.88</td>\n",
       "      <td>1.303593</td>\n",
       "      <td>37.484178</td>\n",
       "    </tr>\n",
       "  </tbody>\n",
       "</table>\n",
       "</div>"
      ],
      "text/plain": [
       "                              order_id                   store_branch_id  \\\n",
       "226   93d30249cf385540ec47df8624062684  45fbc6d3e05ebd93369ce542e8f2322d   \n",
       "6216  b02e19d80831f2e22aa48c56d9a337a8  7ef605fc8dba5425d6965fbd4c8fbe1f   \n",
       "2120  c036f92a8edd9d057b57506459589473  1679091c5a880faf6fb5e6087eb1b2dc   \n",
       "8534  aac988ef6aa8bb05a2166f35696bde8a  b056eb1587586b71e2da9acfe4fbd19e   \n",
       "\n",
       "                            shopper_id  on_demand seniority  order_size  \\\n",
       "226   76b112f3a9a16d2120ea5e842c3352b6          1         M          22   \n",
       "6216  c0354e7babed01459c603b9dd8daba79          1         T           1   \n",
       "2120  c60f1209a02a5abf9e47688ff8119e2e          1         I          28   \n",
       "8534  1894e03459c66a8fe51a33b240520b55          1         M           2   \n",
       "\n",
       "      found_rate  picking_speed  accepted_rate  rating  distance_km  \\\n",
       "226       0.8038           3.05          0.840    5.00     2.638877   \n",
       "6216      0.8472           2.18          0.875    5.00     2.123429   \n",
       "2120      0.8863           1.06          1.000    4.96     2.154335   \n",
       "8534      0.8185           2.80          0.880    4.88     1.303593   \n",
       "\n",
       "      total_minutes  \n",
       "226             NaN  \n",
       "6216      45.935544  \n",
       "2120            NaN  \n",
       "8534      37.484178  "
      ]
     },
     "execution_count": 453,
     "metadata": {},
     "output_type": "execute_result"
    }
   ],
   "source": [
    "df_merge.sample(4)"
   ]
  },
  {
   "cell_type": "markdown",
   "metadata": {},
   "source": [
    "# 4 Exporting datasets"
   ]
  },
  {
   "cell_type": "markdown",
   "metadata": {},
   "source": [
    "4.1 Exporting test dataset (\"total_minutes\" = NaN) using `pd.isna`"
   ]
  },
  {
   "cell_type": "code",
   "execution_count": 454,
   "metadata": {},
   "outputs": [],
   "source": [
    "# pd.isna returns only a dataframe with the missing values on the \"total_minutes\" column\n",
    "df_TEST = df_merge.loc[(pd.isna(df_merge['total_minutes']))]\n",
    "df_TEST.to_csv('df_TEST.csv')"
   ]
  },
  {
   "cell_type": "markdown",
   "metadata": {},
   "source": [
    "4.2 Exporting exploration/training dataset (\"total_minutes\" != NaN) using `pd.notna`"
   ]
  },
  {
   "cell_type": "code",
   "execution_count": 455,
   "metadata": {},
   "outputs": [],
   "source": [
    "# pd.notna returns only a dataframe with the non-missing values on the \"total_minutes\" column\n",
    "df_TRAIN = df_merge.loc[(pd.notna(df_merge['total_minutes']))]\n",
    "df_TRAIN.to_csv('df_TRAIN.csv')"
   ]
  },
  {
   "cell_type": "code",
   "execution_count": 456,
   "metadata": {},
   "outputs": [
    {
     "data": {
      "text/html": [
       "<div>\n",
       "<style scoped>\n",
       "    .dataframe tbody tr th:only-of-type {\n",
       "        vertical-align: middle;\n",
       "    }\n",
       "\n",
       "    .dataframe tbody tr th {\n",
       "        vertical-align: top;\n",
       "    }\n",
       "\n",
       "    .dataframe thead th {\n",
       "        text-align: right;\n",
       "    }\n",
       "</style>\n",
       "<table border=\"1\" class=\"dataframe\">\n",
       "  <thead>\n",
       "    <tr style=\"text-align: right;\">\n",
       "      <th></th>\n",
       "      <th>order_id</th>\n",
       "      <th>store_branch_id</th>\n",
       "      <th>shopper_id</th>\n",
       "      <th>on_demand</th>\n",
       "      <th>seniority</th>\n",
       "      <th>order_size</th>\n",
       "      <th>found_rate</th>\n",
       "      <th>picking_speed</th>\n",
       "      <th>accepted_rate</th>\n",
       "      <th>rating</th>\n",
       "      <th>distance_km</th>\n",
       "      <th>total_minutes</th>\n",
       "    </tr>\n",
       "  </thead>\n",
       "  <tbody>\n",
       "    <tr>\n",
       "      <th>4500</th>\n",
       "      <td>8d1c2c809c549c0993108e7efaaa76ea</td>\n",
       "      <td>c4ca4238a0b923820dcc509a6f75849b</td>\n",
       "      <td>9f675c7ea36e93639f4338ec5e9ea10e</td>\n",
       "      <td>1</td>\n",
       "      <td>T</td>\n",
       "      <td>8</td>\n",
       "      <td>0.8640</td>\n",
       "      <td>2.08</td>\n",
       "      <td>0.96</td>\n",
       "      <td>4.96</td>\n",
       "      <td>1.016127</td>\n",
       "      <td>78.285455</td>\n",
       "    </tr>\n",
       "    <tr>\n",
       "      <th>2693</th>\n",
       "      <td>28d9082977af9000730cb916f49d18e2</td>\n",
       "      <td>1f0e3dad99908345f7439f8ffabdffc4</td>\n",
       "      <td>c3e7fbc14afdf4073804fd25c8f2edce</td>\n",
       "      <td>0</td>\n",
       "      <td>I</td>\n",
       "      <td>45</td>\n",
       "      <td>0.8951</td>\n",
       "      <td>1.26</td>\n",
       "      <td>0.96</td>\n",
       "      <td>4.84</td>\n",
       "      <td>5.704638</td>\n",
       "      <td>120.978157</td>\n",
       "    </tr>\n",
       "    <tr>\n",
       "      <th>7499</th>\n",
       "      <td>b8c05693696e17c89bd09020b97d6605</td>\n",
       "      <td>9461cce28ebe3e76fb4b931c35a169b0</td>\n",
       "      <td>ef74a6e66d66a95a09609eb91c5da45a</td>\n",
       "      <td>1</td>\n",
       "      <td>T</td>\n",
       "      <td>25</td>\n",
       "      <td>0.8571</td>\n",
       "      <td>2.83</td>\n",
       "      <td>0.92</td>\n",
       "      <td>4.92</td>\n",
       "      <td>11.231542</td>\n",
       "      <td>136.385140</td>\n",
       "    </tr>\n",
       "    <tr>\n",
       "      <th>309</th>\n",
       "      <td>fee6b12c266491548d6caf8f724231ea</td>\n",
       "      <td>45fbc6d3e05ebd93369ce542e8f2322d</td>\n",
       "      <td>66f0c22f9672f68dcfe8789a5fb0cf42</td>\n",
       "      <td>0</td>\n",
       "      <td>M</td>\n",
       "      <td>17</td>\n",
       "      <td>0.8130</td>\n",
       "      <td>1.43</td>\n",
       "      <td>0.76</td>\n",
       "      <td>4.64</td>\n",
       "      <td>2.103943</td>\n",
       "      <td>52.900673</td>\n",
       "    </tr>\n",
       "    <tr>\n",
       "      <th>3296</th>\n",
       "      <td>b455294bf49ab97ee2a0c7be0c0f1576</td>\n",
       "      <td>1f0e3dad99908345f7439f8ffabdffc4</td>\n",
       "      <td>4d6aa322dc215e96b9bbb1e6ca3a6e1f</td>\n",
       "      <td>0</td>\n",
       "      <td>I</td>\n",
       "      <td>27</td>\n",
       "      <td>0.8895</td>\n",
       "      <td>1.20</td>\n",
       "      <td>0.96</td>\n",
       "      <td>4.92</td>\n",
       "      <td>2.424081</td>\n",
       "      <td>134.900776</td>\n",
       "    </tr>\n",
       "  </tbody>\n",
       "</table>\n",
       "</div>"
      ],
      "text/plain": [
       "                              order_id                   store_branch_id  \\\n",
       "4500  8d1c2c809c549c0993108e7efaaa76ea  c4ca4238a0b923820dcc509a6f75849b   \n",
       "2693  28d9082977af9000730cb916f49d18e2  1f0e3dad99908345f7439f8ffabdffc4   \n",
       "7499  b8c05693696e17c89bd09020b97d6605  9461cce28ebe3e76fb4b931c35a169b0   \n",
       "309   fee6b12c266491548d6caf8f724231ea  45fbc6d3e05ebd93369ce542e8f2322d   \n",
       "3296  b455294bf49ab97ee2a0c7be0c0f1576  1f0e3dad99908345f7439f8ffabdffc4   \n",
       "\n",
       "                            shopper_id  on_demand seniority  order_size  \\\n",
       "4500  9f675c7ea36e93639f4338ec5e9ea10e          1         T           8   \n",
       "2693  c3e7fbc14afdf4073804fd25c8f2edce          0         I          45   \n",
       "7499  ef74a6e66d66a95a09609eb91c5da45a          1         T          25   \n",
       "309   66f0c22f9672f68dcfe8789a5fb0cf42          0         M          17   \n",
       "3296  4d6aa322dc215e96b9bbb1e6ca3a6e1f          0         I          27   \n",
       "\n",
       "      found_rate  picking_speed  accepted_rate  rating  distance_km  \\\n",
       "4500      0.8640           2.08           0.96    4.96     1.016127   \n",
       "2693      0.8951           1.26           0.96    4.84     5.704638   \n",
       "7499      0.8571           2.83           0.92    4.92    11.231542   \n",
       "309       0.8130           1.43           0.76    4.64     2.103943   \n",
       "3296      0.8895           1.20           0.96    4.92     2.424081   \n",
       "\n",
       "      total_minutes  \n",
       "4500      78.285455  \n",
       "2693     120.978157  \n",
       "7499     136.385140  \n",
       "309       52.900673  \n",
       "3296     134.900776  "
      ]
     },
     "execution_count": 456,
     "metadata": {},
     "output_type": "execute_result"
    }
   ],
   "source": [
    "#final dataset before EDA and ML modeling\n",
    "df_TRAIN.sample(5)"
   ]
  }
 ],
 "metadata": {
  "interpreter": {
   "hash": "3b7fe9b675e268ef82517985ff54749325a0dd76c33378a0a8fb0c05b54b375d"
  },
  "kernelspec": {
   "display_name": "Python 3.9.7 64-bit",
   "language": "python",
   "name": "python3"
  },
  "language_info": {
   "codemirror_mode": {
    "name": "ipython",
    "version": 3
   },
   "file_extension": ".py",
   "mimetype": "text/x-python",
   "name": "python",
   "nbconvert_exporter": "python",
   "pygments_lexer": "ipython3",
   "version": "3.9.7"
  },
  "orig_nbformat": 4
 },
 "nbformat": 4,
 "nbformat_minor": 2
}
