{
 "cells": [
  {
   "cell_type": "markdown",
   "metadata": {},
   "source": [
    "## ETL - Cornershop DS Test"
   ]
  },
  {
   "cell_type": "code",
   "execution_count": 139,
   "metadata": {},
   "outputs": [],
   "source": [
    "import pandas as pd\n",
    "import numpy as np\n",
    "import matplotlib.pyplot as plt\n",
    "from sklearn.model_selection import train_test_split\n",
    "from sklearn.linear_model import LinearRegression\n",
    "from sklearn.metrics import mean_squared_error\n",
    "from sklearn.metrics import r2_score\n",
    "import datetime\n",
    "import seaborn as sns\n",
    "import os\n",
    "import sys"
   ]
  },
  {
   "cell_type": "markdown",
   "metadata": {},
   "source": [
    "<center>\n",
    "    <a href=img><img src = \"https://github.com/tiagottmoraes/CS-s-Data-Science-Test/blob/main/entity_mapping.PNG?raw=true\" width=\"800\"  />\n",
    "</center>"
   ]
  },
  {
   "cell_type": "code",
   "execution_count": 140,
   "metadata": {},
   "outputs": [
    {
     "data": {
      "text/html": [
       "<div>\n",
       "<style scoped>\n",
       "    .dataframe tbody tr th:only-of-type {\n",
       "        vertical-align: middle;\n",
       "    }\n",
       "\n",
       "    .dataframe tbody tr th {\n",
       "        vertical-align: top;\n",
       "    }\n",
       "\n",
       "    .dataframe thead th {\n",
       "        text-align: right;\n",
       "    }\n",
       "</style>\n",
       "<table border=\"1\" class=\"dataframe\">\n",
       "  <thead>\n",
       "    <tr style=\"text-align: right;\">\n",
       "      <th></th>\n",
       "      <th>order_id</th>\n",
       "      <th>product_id</th>\n",
       "      <th>quantity</th>\n",
       "      <th>buy_unit</th>\n",
       "    </tr>\n",
       "  </thead>\n",
       "  <tbody>\n",
       "    <tr>\n",
       "      <th>198497</th>\n",
       "      <td>dcf086aadb08ef7e695fadd723d881a7</td>\n",
       "      <td>c9970c5966ad6399d1c52aef34268699</td>\n",
       "      <td>1.0</td>\n",
       "      <td>UN</td>\n",
       "    </tr>\n",
       "    <tr>\n",
       "      <th>198498</th>\n",
       "      <td>f5f76f8fb58cdafe94b41fd836dfcec7</td>\n",
       "      <td>2cdd75fa252b3918918c662922b11b6e</td>\n",
       "      <td>3.0</td>\n",
       "      <td>UN</td>\n",
       "    </tr>\n",
       "    <tr>\n",
       "      <th>198499</th>\n",
       "      <td>e7ab48bb94f4790655531345aae6bd96</td>\n",
       "      <td>dd39130d6dfad68251ba147f7477e81b</td>\n",
       "      <td>1.0</td>\n",
       "      <td>UN</td>\n",
       "    </tr>\n",
       "  </tbody>\n",
       "</table>\n",
       "</div>"
      ],
      "text/plain": [
       "                                order_id                        product_id  \\\n",
       "198497  dcf086aadb08ef7e695fadd723d881a7  c9970c5966ad6399d1c52aef34268699   \n",
       "198498  f5f76f8fb58cdafe94b41fd836dfcec7  2cdd75fa252b3918918c662922b11b6e   \n",
       "198499  e7ab48bb94f4790655531345aae6bd96  dd39130d6dfad68251ba147f7477e81b   \n",
       "\n",
       "        quantity buy_unit  \n",
       "198497       1.0       UN  \n",
       "198498       3.0       UN  \n",
       "198499       1.0       UN  "
      ]
     },
     "execution_count": 140,
     "metadata": {},
     "output_type": "execute_result"
    }
   ],
   "source": [
    "## Order_products\n",
    "filename_ordprod = \"https://raw.githubusercontent.com/tiagottmoraes/CS-s-Data-Science-Test/main/data/order_products.csv\"\n",
    "df_ordprod = pd.read_csv(filename_ordprod)\n",
    "df_ordprod.tail(3)\n"
   ]
  },
  {
   "cell_type": "code",
   "execution_count": 141,
   "metadata": {},
   "outputs": [
    {
     "name": "stdout",
     "output_type": "stream",
     "text": [
      "Unique products listed: 15422 \n",
      "Unique orders listed: 9978\n"
     ]
    }
   ],
   "source": [
    "print('Unique products listed:', df_ordprod['product_id'].nunique(),'\\n'\n",
    "      'Unique orders listed:', df_ordprod['order_id'].nunique())"
   ]
  },
  {
   "cell_type": "code",
   "execution_count": 142,
   "metadata": {},
   "outputs": [
    {
     "name": "stdout",
     "output_type": "stream",
     "text": [
      "order_id\n",
      "False    198500\n",
      "Name: order_id, dtype: int64\n",
      "\n",
      "product_id\n",
      "False    198500\n",
      "Name: product_id, dtype: int64\n",
      "\n",
      "quantity\n",
      "False    198500\n",
      "Name: quantity, dtype: int64\n",
      "\n",
      "buy_unit\n",
      "False    198500\n",
      "Name: buy_unit, dtype: int64\n",
      "\n"
     ]
    }
   ],
   "source": [
    "missing_data_order = df_ordprod.isnull()\n",
    "for column in missing_data_order.columns.values.tolist():\n",
    "    print(column)\n",
    "    print(missing_data_order[column].value_counts())\n",
    "    print(\"\")"
   ]
  },
  {
   "cell_type": "code",
   "execution_count": 143,
   "metadata": {},
   "outputs": [
    {
     "data": {
      "text/html": [
       "<div>\n",
       "<style scoped>\n",
       "    .dataframe tbody tr th:only-of-type {\n",
       "        vertical-align: middle;\n",
       "    }\n",
       "\n",
       "    .dataframe tbody tr th {\n",
       "        vertical-align: top;\n",
       "    }\n",
       "\n",
       "    .dataframe thead th {\n",
       "        text-align: right;\n",
       "    }\n",
       "</style>\n",
       "<table border=\"1\" class=\"dataframe\">\n",
       "  <thead>\n",
       "    <tr style=\"text-align: right;\">\n",
       "      <th></th>\n",
       "      <th>shopper_id</th>\n",
       "      <th>seniority</th>\n",
       "      <th>found_rate</th>\n",
       "      <th>picking_speed</th>\n",
       "      <th>accepted_rate</th>\n",
       "      <th>rating</th>\n",
       "    </tr>\n",
       "  </thead>\n",
       "  <tbody>\n",
       "    <tr>\n",
       "      <th>2861</th>\n",
       "      <td>e8482e3ad8bc820ec756566a472b84b1</td>\n",
       "      <td>6c90661e6d2c7579f5ce337c3391dbb9</td>\n",
       "      <td>0.9152</td>\n",
       "      <td>1.47</td>\n",
       "      <td>0.88</td>\n",
       "      <td>4.96</td>\n",
       "    </tr>\n",
       "    <tr>\n",
       "      <th>2862</th>\n",
       "      <td>a55a3765a02530a97eb9af7aee327486</td>\n",
       "      <td>6c90661e6d2c7579f5ce337c3391dbb9</td>\n",
       "      <td>0.8695</td>\n",
       "      <td>1.20</td>\n",
       "      <td>0.96</td>\n",
       "      <td>4.80</td>\n",
       "    </tr>\n",
       "    <tr>\n",
       "      <th>2863</th>\n",
       "      <td>ed3b2414f4b604298fb86adaaae2ee46</td>\n",
       "      <td>50e13ee63f086c2fe84229348bc91b5b</td>\n",
       "      <td>0.8416</td>\n",
       "      <td>1.48</td>\n",
       "      <td>0.60</td>\n",
       "      <td>4.95</td>\n",
       "    </tr>\n",
       "  </tbody>\n",
       "</table>\n",
       "</div>"
      ],
      "text/plain": [
       "                            shopper_id                         seniority  \\\n",
       "2861  e8482e3ad8bc820ec756566a472b84b1  6c90661e6d2c7579f5ce337c3391dbb9   \n",
       "2862  a55a3765a02530a97eb9af7aee327486  6c90661e6d2c7579f5ce337c3391dbb9   \n",
       "2863  ed3b2414f4b604298fb86adaaae2ee46  50e13ee63f086c2fe84229348bc91b5b   \n",
       "\n",
       "      found_rate  picking_speed  accepted_rate  rating  \n",
       "2861      0.9152           1.47           0.88    4.96  \n",
       "2862      0.8695           1.20           0.96    4.80  \n",
       "2863      0.8416           1.48           0.60    4.95  "
      ]
     },
     "execution_count": 143,
     "metadata": {},
     "output_type": "execute_result"
    }
   ],
   "source": [
    "## Shopper\n",
    "filename_shop = \"https://raw.githubusercontent.com/tiagottmoraes/CS-s-Data-Science-Test/main/data/shoppers.csv\"\n",
    "df_shop = pd.read_csv(filename_shop)\n",
    "df_shop.tail(3)"
   ]
  },
  {
   "cell_type": "code",
   "execution_count": 144,
   "metadata": {},
   "outputs": [
    {
     "name": "stdout",
     "output_type": "stream",
     "text": [
      "Unique shoppers listed: 2864 \n",
      "Unique seniority listed: 4\n"
     ]
    }
   ],
   "source": [
    "print('Unique shoppers listed:', df_shop['shopper_id'].nunique(),'\\n' \n",
    "      'Unique seniority listed:', df_shop['seniority'].nunique())"
   ]
  },
  {
   "cell_type": "code",
   "execution_count": 145,
   "metadata": {},
   "outputs": [
    {
     "data": {
      "text/plain": [
       "array(['41dc7c9e385c4d2b6c1f7836973951bf',\n",
       "       '6c90661e6d2c7579f5ce337c3391dbb9',\n",
       "       '50e13ee63f086c2fe84229348bc91b5b',\n",
       "       'bb29b8d0d196b5db5a5350e5e3ae2b1f'], dtype=object)"
      ]
     },
     "execution_count": 145,
     "metadata": {},
     "output_type": "execute_result"
    }
   ],
   "source": [
    "df_shop['seniority'].unique()"
   ]
  },
  {
   "cell_type": "code",
   "execution_count": 146,
   "metadata": {},
   "outputs": [],
   "source": [
    "df_shop.replace('41dc7c9e385c4d2b6c1f7836973951bf', 'A', inplace=True)\n",
    "df_shop.replace('6c90661e6d2c7579f5ce337c3391dbb9','B', inplace=True)\n",
    "df_shop.replace('50e13ee63f086c2fe84229348bc91b5b','C', inplace=True)\n",
    "df_shop.replace('bb29b8d0d196b5db5a5350e5e3ae2b1f','D', inplace=True)"
   ]
  },
  {
   "cell_type": "code",
   "execution_count": 147,
   "metadata": {},
   "outputs": [
    {
     "data": {
      "text/html": [
       "<div>\n",
       "<style scoped>\n",
       "    .dataframe tbody tr th:only-of-type {\n",
       "        vertical-align: middle;\n",
       "    }\n",
       "\n",
       "    .dataframe tbody tr th {\n",
       "        vertical-align: top;\n",
       "    }\n",
       "\n",
       "    .dataframe thead th {\n",
       "        text-align: right;\n",
       "    }\n",
       "</style>\n",
       "<table border=\"1\" class=\"dataframe\">\n",
       "  <thead>\n",
       "    <tr style=\"text-align: right;\">\n",
       "      <th></th>\n",
       "      <th>shopper_id</th>\n",
       "      <th>seniority</th>\n",
       "      <th>found_rate</th>\n",
       "      <th>picking_speed</th>\n",
       "      <th>accepted_rate</th>\n",
       "      <th>rating</th>\n",
       "    </tr>\n",
       "  </thead>\n",
       "  <tbody>\n",
       "    <tr>\n",
       "      <th>1472</th>\n",
       "      <td>822a2adfed17b0bf9135e96b9cfd443f</td>\n",
       "      <td>B</td>\n",
       "      <td>0.8876</td>\n",
       "      <td>0.83</td>\n",
       "      <td>0.92</td>\n",
       "      <td>4.92</td>\n",
       "    </tr>\n",
       "    <tr>\n",
       "      <th>2240</th>\n",
       "      <td>30aaf4254244442a679a45c3035cd63d</td>\n",
       "      <td>A</td>\n",
       "      <td>0.8561</td>\n",
       "      <td>2.12</td>\n",
       "      <td>0.96</td>\n",
       "      <td>4.84</td>\n",
       "    </tr>\n",
       "  </tbody>\n",
       "</table>\n",
       "</div>"
      ],
      "text/plain": [
       "                            shopper_id seniority  found_rate  picking_speed  \\\n",
       "1472  822a2adfed17b0bf9135e96b9cfd443f         B      0.8876           0.83   \n",
       "2240  30aaf4254244442a679a45c3035cd63d         A      0.8561           2.12   \n",
       "\n",
       "      accepted_rate  rating  \n",
       "1472           0.92    4.92  \n",
       "2240           0.96    4.84  "
      ]
     },
     "execution_count": 147,
     "metadata": {},
     "output_type": "execute_result"
    }
   ],
   "source": [
    "df_shop.sample(2)"
   ]
  },
  {
   "cell_type": "code",
   "execution_count": 148,
   "metadata": {},
   "outputs": [
    {
     "name": "stdout",
     "output_type": "stream",
     "text": [
      "shopper_id\n",
      "False    2864\n",
      "Name: shopper_id, dtype: int64\n",
      "\n",
      "seniority\n",
      "False    2864\n",
      "Name: seniority, dtype: int64\n",
      "\n",
      "found_rate\n",
      "False    2763\n",
      "True      101\n",
      "Name: found_rate, dtype: int64\n",
      "\n",
      "picking_speed\n",
      "False    2864\n",
      "Name: picking_speed, dtype: int64\n",
      "\n",
      "accepted_rate\n",
      "False    2837\n",
      "True       27\n",
      "Name: accepted_rate, dtype: int64\n",
      "\n",
      "rating\n",
      "False    2780\n",
      "True       84\n",
      "Name: rating, dtype: int64\n",
      "\n"
     ]
    }
   ],
   "source": [
    "missing_data_order = df_shop.isnull()\n",
    "for column in missing_data_order.columns.values.tolist():\n",
    "    print(column)\n",
    "    print(missing_data_order[column].value_counts())\n",
    "    print(\"\")"
   ]
  },
  {
   "cell_type": "code",
   "execution_count": 149,
   "metadata": {},
   "outputs": [
    {
     "data": {
      "text/html": [
       "<div>\n",
       "<style scoped>\n",
       "    .dataframe tbody tr th:only-of-type {\n",
       "        vertical-align: middle;\n",
       "    }\n",
       "\n",
       "    .dataframe tbody tr th {\n",
       "        vertical-align: top;\n",
       "    }\n",
       "\n",
       "    .dataframe thead th {\n",
       "        text-align: right;\n",
       "    }\n",
       "</style>\n",
       "<table border=\"1\" class=\"dataframe\">\n",
       "  <thead>\n",
       "    <tr style=\"text-align: right;\">\n",
       "      <th></th>\n",
       "      <th>store_branch_id</th>\n",
       "      <th>store_id</th>\n",
       "      <th>lat</th>\n",
       "      <th>lng</th>\n",
       "    </tr>\n",
       "  </thead>\n",
       "  <tbody>\n",
       "    <tr>\n",
       "      <th>97</th>\n",
       "      <td>6cd67d9b6f0150c77bda2eda01ae484c</td>\n",
       "      <td>072b030ba126b2f4b2374f342be9ed44</td>\n",
       "      <td>-33.422551</td>\n",
       "      <td>-70.564469</td>\n",
       "    </tr>\n",
       "    <tr>\n",
       "      <th>92</th>\n",
       "      <td>62889e73828c756c961c5a6d6c01a463</td>\n",
       "      <td>34173cb38f07f89ddbebc2ac9128303f</td>\n",
       "      <td>-33.518762</td>\n",
       "      <td>-70.599287</td>\n",
       "    </tr>\n",
       "    <tr>\n",
       "      <th>468</th>\n",
       "      <td>2dffbc474aa176b6dc957938c15d0c8b</td>\n",
       "      <td>a87ff679a2f3e71d9181a67b7542122c</td>\n",
       "      <td>-29.916097</td>\n",
       "      <td>-71.258196</td>\n",
       "    </tr>\n",
       "  </tbody>\n",
       "</table>\n",
       "</div>"
      ],
      "text/plain": [
       "                      store_branch_id                          store_id  \\\n",
       "97   6cd67d9b6f0150c77bda2eda01ae484c  072b030ba126b2f4b2374f342be9ed44   \n",
       "92   62889e73828c756c961c5a6d6c01a463  34173cb38f07f89ddbebc2ac9128303f   \n",
       "468  2dffbc474aa176b6dc957938c15d0c8b  a87ff679a2f3e71d9181a67b7542122c   \n",
       "\n",
       "           lat        lng  \n",
       "97  -33.422551 -70.564469  \n",
       "92  -33.518762 -70.599287  \n",
       "468 -29.916097 -71.258196  "
      ]
     },
     "execution_count": 149,
     "metadata": {},
     "output_type": "execute_result"
    }
   ],
   "source": [
    "## Store\n",
    "filename_store = \"https://raw.githubusercontent.com/tiagottmoraes/CS-s-Data-Science-Test/main/data/storebranch.csv\"\n",
    "df_store = pd.read_csv(filename_store)\n",
    "df_store.sample(3)"
   ]
  },
  {
   "cell_type": "code",
   "execution_count": 150,
   "metadata": {},
   "outputs": [],
   "source": [
    "df_store = df_store.rename(columns={'lat':'store_lat', 'lng':'store_long'})"
   ]
  },
  {
   "cell_type": "code",
   "execution_count": 151,
   "metadata": {},
   "outputs": [
    {
     "name": "stdout",
     "output_type": "stream",
     "text": [
      "Unique store_branch listed: 476 \n",
      "Unique store listed: 221\n"
     ]
    }
   ],
   "source": [
    "print('Unique store_branch listed:', df_store['store_branch_id'].nunique(),'\\n' 'Unique store listed:', df_store['store_id'].nunique())"
   ]
  },
  {
   "cell_type": "code",
   "execution_count": 152,
   "metadata": {},
   "outputs": [
    {
     "name": "stdout",
     "output_type": "stream",
     "text": [
      "store_branch_id\n",
      "False    476\n",
      "Name: store_branch_id, dtype: int64\n",
      "\n",
      "store_id\n",
      "False    476\n",
      "Name: store_id, dtype: int64\n",
      "\n",
      "store_lat\n",
      "False    476\n",
      "Name: store_lat, dtype: int64\n",
      "\n",
      "store_long\n",
      "False    476\n",
      "Name: store_long, dtype: int64\n",
      "\n"
     ]
    }
   ],
   "source": [
    "missing_data_order = df_store.isnull()\n",
    "for column in missing_data_order.columns.values.tolist():\n",
    "    print(column)\n",
    "    print(missing_data_order[column].value_counts())\n",
    "    print(\"\")"
   ]
  },
  {
   "cell_type": "code",
   "execution_count": 153,
   "metadata": {},
   "outputs": [
    {
     "data": {
      "text/html": [
       "<div>\n",
       "<style scoped>\n",
       "    .dataframe tbody tr th:only-of-type {\n",
       "        vertical-align: middle;\n",
       "    }\n",
       "\n",
       "    .dataframe tbody tr th {\n",
       "        vertical-align: top;\n",
       "    }\n",
       "\n",
       "    .dataframe thead th {\n",
       "        text-align: right;\n",
       "    }\n",
       "</style>\n",
       "<table border=\"1\" class=\"dataframe\">\n",
       "  <thead>\n",
       "    <tr style=\"text-align: right;\">\n",
       "      <th></th>\n",
       "      <th>order_id</th>\n",
       "      <th>lat</th>\n",
       "      <th>lng</th>\n",
       "      <th>promised_time</th>\n",
       "      <th>on_demand</th>\n",
       "      <th>shopper_id</th>\n",
       "      <th>store_branch_id</th>\n",
       "      <th>total_minutes</th>\n",
       "    </tr>\n",
       "  </thead>\n",
       "  <tbody>\n",
       "    <tr>\n",
       "      <th>6094</th>\n",
       "      <td>6eec37e9f682bc75f33f9057cb616e1c</td>\n",
       "      <td>-33.318143</td>\n",
       "      <td>-70.644444</td>\n",
       "      <td>2019-10-19 16:00:00+00:00</td>\n",
       "      <td>False</td>\n",
       "      <td>ecd4f8431124002d44c30b6ec69c24a9</td>\n",
       "      <td>7ef605fc8dba5425d6965fbd4c8fbe1f</td>\n",
       "      <td>94.956919</td>\n",
       "    </tr>\n",
       "    <tr>\n",
       "      <th>9844</th>\n",
       "      <td>f43a37b7074945152be3b7e86faa1c46</td>\n",
       "      <td>-33.359292</td>\n",
       "      <td>-70.538632</td>\n",
       "      <td>2019-10-18 20:25:00+00:00</td>\n",
       "      <td>True</td>\n",
       "      <td>976345f82cbfc06bc3694c670571c04a</td>\n",
       "      <td>1679091c5a880faf6fb5e6087eb1b2dc</td>\n",
       "      <td>NaN</td>\n",
       "    </tr>\n",
       "    <tr>\n",
       "      <th>3828</th>\n",
       "      <td>28785999ffa1c023bb239ead0b1e5a84</td>\n",
       "      <td>-33.413806</td>\n",
       "      <td>-70.598500</td>\n",
       "      <td>2019-10-19 18:00:00+00:00</td>\n",
       "      <td>False</td>\n",
       "      <td>7b1893dfd2cac3d7c982fb2d7cbbb529</td>\n",
       "      <td>4e87337f366f72daa424dae11df0538c</td>\n",
       "      <td>30.807622</td>\n",
       "    </tr>\n",
       "  </tbody>\n",
       "</table>\n",
       "</div>"
      ],
      "text/plain": [
       "                              order_id        lat        lng  \\\n",
       "6094  6eec37e9f682bc75f33f9057cb616e1c -33.318143 -70.644444   \n",
       "9844  f43a37b7074945152be3b7e86faa1c46 -33.359292 -70.538632   \n",
       "3828  28785999ffa1c023bb239ead0b1e5a84 -33.413806 -70.598500   \n",
       "\n",
       "                  promised_time  on_demand                        shopper_id  \\\n",
       "6094  2019-10-19 16:00:00+00:00      False  ecd4f8431124002d44c30b6ec69c24a9   \n",
       "9844  2019-10-18 20:25:00+00:00       True  976345f82cbfc06bc3694c670571c04a   \n",
       "3828  2019-10-19 18:00:00+00:00      False  7b1893dfd2cac3d7c982fb2d7cbbb529   \n",
       "\n",
       "                       store_branch_id  total_minutes  \n",
       "6094  7ef605fc8dba5425d6965fbd4c8fbe1f      94.956919  \n",
       "9844  1679091c5a880faf6fb5e6087eb1b2dc            NaN  \n",
       "3828  4e87337f366f72daa424dae11df0538c      30.807622  "
      ]
     },
     "execution_count": 153,
     "metadata": {},
     "output_type": "execute_result"
    }
   ],
   "source": [
    "## ORDERS - LABEL\n",
    "filename_ORDER = \"https://raw.githubusercontent.com/tiagottmoraes/CS-s-Data-Science-Test/main/data/orders.csv\"\n",
    "df_ORDER = pd.read_csv(filename_ORDER)\n",
    "df_ORDER.sample(3)"
   ]
  },
  {
   "cell_type": "code",
   "execution_count": 154,
   "metadata": {},
   "outputs": [],
   "source": [
    "df_ORDER = df_ORDER.rename(columns={'lat':'delivery_lat', 'lng':'delivery_long'})"
   ]
  },
  {
   "cell_type": "code",
   "execution_count": 155,
   "metadata": {},
   "outputs": [
    {
     "name": "stdout",
     "output_type": "stream",
     "text": [
      "order_id\n",
      "False    10000\n",
      "Name: order_id, dtype: int64\n",
      "\n",
      "delivery_lat\n",
      "False    10000\n",
      "Name: delivery_lat, dtype: int64\n",
      "\n",
      "delivery_long\n",
      "False    10000\n",
      "Name: delivery_long, dtype: int64\n",
      "\n",
      "promised_time\n",
      "False    10000\n",
      "Name: promised_time, dtype: int64\n",
      "\n",
      "on_demand\n",
      "False    10000\n",
      "Name: on_demand, dtype: int64\n",
      "\n",
      "shopper_id\n",
      "False    10000\n",
      "Name: shopper_id, dtype: int64\n",
      "\n",
      "store_branch_id\n",
      "False    10000\n",
      "Name: store_branch_id, dtype: int64\n",
      "\n",
      "total_minutes\n",
      "False    8000\n",
      "True     2000\n",
      "Name: total_minutes, dtype: int64\n",
      "\n"
     ]
    }
   ],
   "source": [
    "missing_data_order = df_ORDER.isnull()\n",
    "for column in missing_data_order.columns.values.tolist():\n",
    "    print(column)\n",
    "    print(missing_data_order[column].value_counts())\n",
    "    print(\"\")"
   ]
  },
  {
   "cell_type": "code",
   "execution_count": 156,
   "metadata": {},
   "outputs": [],
   "source": [
    "df_merge = pd.merge(df_ORDER, df_ordprod, on='order_id')"
   ]
  },
  {
   "cell_type": "code",
   "execution_count": 157,
   "metadata": {},
   "outputs": [],
   "source": [
    "df_merge = pd.merge(df_merge, df_shop, on='shopper_id')"
   ]
  },
  {
   "cell_type": "code",
   "execution_count": 158,
   "metadata": {},
   "outputs": [],
   "source": [
    "df_merge = pd.merge(df_merge, df_store, on='store_branch_id')"
   ]
  },
  {
   "cell_type": "code",
   "execution_count": 159,
   "metadata": {},
   "outputs": [
    {
     "data": {
      "text/html": [
       "<div>\n",
       "<style scoped>\n",
       "    .dataframe tbody tr th:only-of-type {\n",
       "        vertical-align: middle;\n",
       "    }\n",
       "\n",
       "    .dataframe tbody tr th {\n",
       "        vertical-align: top;\n",
       "    }\n",
       "\n",
       "    .dataframe thead th {\n",
       "        text-align: right;\n",
       "    }\n",
       "</style>\n",
       "<table border=\"1\" class=\"dataframe\">\n",
       "  <thead>\n",
       "    <tr style=\"text-align: right;\">\n",
       "      <th></th>\n",
       "      <th>order_id</th>\n",
       "      <th>delivery_lat</th>\n",
       "      <th>delivery_long</th>\n",
       "      <th>promised_time</th>\n",
       "      <th>on_demand</th>\n",
       "      <th>shopper_id</th>\n",
       "      <th>store_branch_id</th>\n",
       "      <th>total_minutes</th>\n",
       "      <th>product_id</th>\n",
       "      <th>quantity</th>\n",
       "      <th>buy_unit</th>\n",
       "      <th>seniority</th>\n",
       "      <th>found_rate</th>\n",
       "      <th>picking_speed</th>\n",
       "      <th>accepted_rate</th>\n",
       "      <th>rating</th>\n",
       "      <th>store_id</th>\n",
       "      <th>store_lat</th>\n",
       "      <th>store_long</th>\n",
       "    </tr>\n",
       "  </thead>\n",
       "  <tbody>\n",
       "    <tr>\n",
       "      <th>162781</th>\n",
       "      <td>3693c2ca46e2bcb06d9e4240c80bb624</td>\n",
       "      <td>-33.517349</td>\n",
       "      <td>-70.605125</td>\n",
       "      <td>2019-10-19 19:00:00+00:00</td>\n",
       "      <td>False</td>\n",
       "      <td>5094ff995ae3111c22b735ddbed0e899</td>\n",
       "      <td>e4bb4c5173c2ce17fd8fcd40041c068f</td>\n",
       "      <td>101.260174</td>\n",
       "      <td>f9c7f9f618f2e2350bb04e3b8323bf82</td>\n",
       "      <td>4.0</td>\n",
       "      <td>UN</td>\n",
       "      <td>B</td>\n",
       "      <td>0.8937</td>\n",
       "      <td>1.26</td>\n",
       "      <td>1.0</td>\n",
       "      <td>5.0</td>\n",
       "      <td>c4ca4238a0b923820dcc509a6f75849b</td>\n",
       "      <td>-33.484136</td>\n",
       "      <td>-70.621945</td>\n",
       "    </tr>\n",
       "    <tr>\n",
       "      <th>190512</th>\n",
       "      <td>be91b2b3a56f3ce593acde9cb372c5ee</td>\n",
       "      <td>-33.027645</td>\n",
       "      <td>-71.532769</td>\n",
       "      <td>2019-10-19 14:30:00+00:00</td>\n",
       "      <td>True</td>\n",
       "      <td>79c82f85a1edb258dbc7932e2bc5fd4c</td>\n",
       "      <td>fc221309746013ac554571fbd180e1c8</td>\n",
       "      <td>106.358252</td>\n",
       "      <td>bf11797d44d2a5334da1f7957b1e371f</td>\n",
       "      <td>1.0</td>\n",
       "      <td>UN</td>\n",
       "      <td>C</td>\n",
       "      <td>NaN</td>\n",
       "      <td>2.41</td>\n",
       "      <td>0.4</td>\n",
       "      <td>NaN</td>\n",
       "      <td>c4ca4238a0b923820dcc509a6f75849b</td>\n",
       "      <td>-33.025860</td>\n",
       "      <td>-71.547009</td>\n",
       "    </tr>\n",
       "  </tbody>\n",
       "</table>\n",
       "</div>"
      ],
      "text/plain": [
       "                                order_id  delivery_lat  delivery_long  \\\n",
       "162781  3693c2ca46e2bcb06d9e4240c80bb624    -33.517349     -70.605125   \n",
       "190512  be91b2b3a56f3ce593acde9cb372c5ee    -33.027645     -71.532769   \n",
       "\n",
       "                    promised_time  on_demand  \\\n",
       "162781  2019-10-19 19:00:00+00:00      False   \n",
       "190512  2019-10-19 14:30:00+00:00       True   \n",
       "\n",
       "                              shopper_id                   store_branch_id  \\\n",
       "162781  5094ff995ae3111c22b735ddbed0e899  e4bb4c5173c2ce17fd8fcd40041c068f   \n",
       "190512  79c82f85a1edb258dbc7932e2bc5fd4c  fc221309746013ac554571fbd180e1c8   \n",
       "\n",
       "        total_minutes                        product_id  quantity buy_unit  \\\n",
       "162781     101.260174  f9c7f9f618f2e2350bb04e3b8323bf82       4.0       UN   \n",
       "190512     106.358252  bf11797d44d2a5334da1f7957b1e371f       1.0       UN   \n",
       "\n",
       "       seniority  found_rate  picking_speed  accepted_rate  rating  \\\n",
       "162781         B      0.8937           1.26            1.0     5.0   \n",
       "190512         C         NaN           2.41            0.4     NaN   \n",
       "\n",
       "                                store_id  store_lat  store_long  \n",
       "162781  c4ca4238a0b923820dcc509a6f75849b -33.484136  -70.621945  \n",
       "190512  c4ca4238a0b923820dcc509a6f75849b -33.025860  -71.547009  "
      ]
     },
     "execution_count": 159,
     "metadata": {},
     "output_type": "execute_result"
    }
   ],
   "source": [
    "pd.set_option('display.max_columns', None)\n",
    "df_merge.sample(2)"
   ]
  },
  {
   "cell_type": "code",
   "execution_count": 168,
   "metadata": {},
   "outputs": [],
   "source": [
    "df_TEST = df_merge.loc[(pd.isna(df_merge['total_minutes']))]\n",
    "df_TEST.to_csv('df_TEST.csv')"
   ]
  },
  {
   "cell_type": "code",
   "execution_count": null,
   "metadata": {},
   "outputs": [],
   "source": []
  }
 ],
 "metadata": {
  "interpreter": {
   "hash": "3b7fe9b675e268ef82517985ff54749325a0dd76c33378a0a8fb0c05b54b375d"
  },
  "kernelspec": {
   "display_name": "Python 3.9.7 64-bit",
   "language": "python",
   "name": "python3"
  },
  "language_info": {
   "codemirror_mode": {
    "name": "ipython",
    "version": 3
   },
   "file_extension": ".py",
   "mimetype": "text/x-python",
   "name": "python",
   "nbconvert_exporter": "python",
   "pygments_lexer": "ipython3",
   "version": "3.9.7"
  },
  "orig_nbformat": 4
 },
 "nbformat": 4,
 "nbformat_minor": 2
}
