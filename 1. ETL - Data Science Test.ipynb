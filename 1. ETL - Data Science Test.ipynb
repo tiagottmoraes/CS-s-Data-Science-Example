{
 "cells": [
  {
   "cell_type": "markdown",
   "metadata": {},
   "source": [
    "<left>\n",
    "    <a href=img><img src = \"https://github.com/tiagottmoraes/CS-s-Data-Science-Test/blob/main/Misc/1c86bfb3-cab0-4255-99bf-24c5488d888a-1632765661247.png?raw=true\" width=\"400\"  />\n",
    "</left>"
   ]
  },
  {
   "cell_type": "markdown",
   "metadata": {},
   "source": [
    "###### Developed by Tiago Moraes (09.02.2022)"
   ]
  },
  {
   "cell_type": "markdown",
   "metadata": {},
   "source": [
    "# Data Science Test - Part I - Intro\n",
    "\n",
    "----\n",
    "\n",
    "The following notebooks presents the complete dataset analysis, exploration and pre-processing steps required to implement a tailored machine learning model designed to **predict the total minutes** (`total_minutes` label) it takes to a shopper to complete a given order.\n",
    "\n",
    "For that, **3 different notebooks** were prepared for each task, as following:\n",
    "\n",
    "- **[1. ETL process notebook:](#https://github.com/tiagottmoraes/CS-s-Data-Science-Test/blob/main/1.ETL_-_Data_Science_Test.ipynb)** Complete ETL (data wrangling) process of the provided datasets, including feature engineering, feature transformations, and data standardizations, necessary to carry out all the statistics tests necessaries in the next phase;\n",
    "\n",
    "- **[2. EDA notebook:](#https://github.com/tiagottmoraes/CS-s-Data-Science-Test/blob/main/2.EDA_-_Data_Science_Test.ipynb)** Statistical exploration and understanding of the pre-processed dataset. Needed to define the best machine learning strategy for the target Label;\n",
    "\n",
    "- **[3. Machine Learning Model development notebook:](#https://github.com/tiagottmoraes/CS-s-Data-Science-Test/blob/main/3.ML_Model_-_Data_Science_Test.ipynb)** Build, train and test a ML model that takes in the process the dataset, generates a model and deploy it with unseen data to generate predictions (\"total_minutes\" label)\n",
    "<br />\n",
    "<br />\n",
    "\n",
    "For this test goal, 4 different datasets were provided, each of them with different types of features and volume of data. \n",
    "\n",
    "**order_products.csv (198500 rows)**\n",
    "\n",
    "*order_id*: ID of the order<br />\n",
    "*product_id*: ID of the product<br />\n",
    "*quantity*: The quantity ordered of this product<br />\n",
    "*buy_unit*: The unit of the product (KG/UN)\n",
    "\n",
    "**orders.csv (10000 rows)**\n",
    "\n",
    "*order_id*: ID of the order<br />\n",
    "*lat*: The latitude of the delivery location<br />\n",
    "*lng*: The longitude of the delivery location<br />\n",
    "*promised_time*: The delivery time promised to the user<br />\n",
    "*on_demand*: If true, the order was promised to be delivered in less than X minutes<br />\n",
    "*shopper_id*: ID representing the shopper completed the order<br />\n",
    "*store_branch_id*: ID of the store branch<br />\n",
    "***total_minutes***: The total minutes it took to complete the order (label)\n",
    "\n",
    "**shopper.csv (2864 rows)**\n",
    "\n",
    "*shopper_id*: ID of the shopper<br />\n",
    "*seniority*: The experience level of the shopper<br />\n",
    "*found_rate*: Percentage of products found by shopper historical<br />\n",
    "*picking_speed*: Historical picking speed, products pr minutes<br />\n",
    "*accepted_rate*: Percentage of orders historically accepted by shopper<br />\n",
    "*rating*: client rating of shopper\n",
    "\n",
    "**storebranch.csv (476 rows)**\n",
    "\n",
    "*store_branch_id*: ID of the store branch<br />\n",
    "*store*: ID representing the store<br />\n",
    "*lat*: Latitude of the branch location<br />\n",
    "*lng*: Longitude of the branch location\n",
    "<br />\n",
    "<br />\n"
   ]
  },
  {
   "cell_type": "markdown",
   "metadata": {},
   "source": [
    "# 1. ETL process - Data wrangling, featute engineering and data standardization\n",
    "\n",
    "\n",
    "----"
   ]
  },
  {
   "cell_type": "markdown",
   "metadata": {},
   "source": [
    "## 1. Importing necessary modules"
   ]
  },
  {
   "cell_type": "code",
   "execution_count": 1,
   "metadata": {},
   "outputs": [],
   "source": [
    "import pandas as pd\n",
    "import numpy as np\n",
    "from geopy import Point\n",
    "from geopy.distance import distance"
   ]
  },
  {
   "cell_type": "markdown",
   "metadata": {},
   "source": [
    "#### 1.1 Understanding primary keys between tables\n",
    "\n",
    "Before start loading the datasets, let's take a look at how the tables are connected to each other and have a better undestanding of case at hand.\n",
    "\n"
   ]
  },
  {
   "cell_type": "markdown",
   "metadata": {},
   "source": [
    "<center>\n",
    "    <a href=img><img src = \"https://github.com/tiagottmoraes/CS-s-Data-Science-Test/blob/main/entity_mapping.PNG?raw=true\" width=\"800\"  />\n",
    "</center>"
   ]
  },
  {
   "cell_type": "markdown",
   "metadata": {},
   "source": [
    "As we can see from the entity map above, primary keys from \"storebranch.csv\", \"order_product.csv\" , \"shopper_ID.csv\" can be found in the \"orders.csv\", which happens to be the table where the label (\"total_minutes\") is located. In this case, the better approach would be to unify (merge) all tables together, using the primary keys, into the table \"order.csv\". "
   ]
  },
  {
   "cell_type": "markdown",
   "metadata": {},
   "source": [
    "## 2. Importing datasets"
   ]
  },
  {
   "cell_type": "markdown",
   "metadata": {},
   "source": [
    "### 2.1 Loading dataset \"order_prod.csv\""
   ]
  },
  {
   "cell_type": "markdown",
   "metadata": {},
   "source": [
    "After loading the order_prod.csv into a dataframe called **df_ordprod**, let's look at the first five rows using the `head()` function:"
   ]
  },
  {
   "cell_type": "code",
   "execution_count": 2,
   "metadata": {},
   "outputs": [
    {
     "data": {
      "text/html": [
       "<div>\n",
       "<style scoped>\n",
       "    .dataframe tbody tr th:only-of-type {\n",
       "        vertical-align: middle;\n",
       "    }\n",
       "\n",
       "    .dataframe tbody tr th {\n",
       "        vertical-align: top;\n",
       "    }\n",
       "\n",
       "    .dataframe thead th {\n",
       "        text-align: right;\n",
       "    }\n",
       "</style>\n",
       "<table border=\"1\" class=\"dataframe\">\n",
       "  <thead>\n",
       "    <tr style=\"text-align: right;\">\n",
       "      <th></th>\n",
       "      <th>order_id</th>\n",
       "      <th>product_id</th>\n",
       "      <th>quantity</th>\n",
       "      <th>buy_unit</th>\n",
       "    </tr>\n",
       "  </thead>\n",
       "  <tbody>\n",
       "    <tr>\n",
       "      <th>0</th>\n",
       "      <td>47099653730fb1b76537fc10ad876255</td>\n",
       "      <td>c1244453d731c77416cb4766e3bd76cb</td>\n",
       "      <td>1.0</td>\n",
       "      <td>UN</td>\n",
       "    </tr>\n",
       "    <tr>\n",
       "      <th>1</th>\n",
       "      <td>689d8866915acf87e851c2591a23a82f</td>\n",
       "      <td>43cc2b100bec640fe563cd16f2db669f</td>\n",
       "      <td>1.0</td>\n",
       "      <td>KG</td>\n",
       "    </tr>\n",
       "    <tr>\n",
       "      <th>2</th>\n",
       "      <td>f26d16bf6f38c9e31d0be877f4013a9e</td>\n",
       "      <td>b8f880759d014134e272d881d49989a2</td>\n",
       "      <td>1.0</td>\n",
       "      <td>UN</td>\n",
       "    </tr>\n",
       "    <tr>\n",
       "      <th>3</th>\n",
       "      <td>161ccc896835ab41761b0e726becb6b1</td>\n",
       "      <td>dbc062b9bef805d27a6f4bea7edfe1f1</td>\n",
       "      <td>1.0</td>\n",
       "      <td>UN</td>\n",
       "    </tr>\n",
       "    <tr>\n",
       "      <th>4</th>\n",
       "      <td>4713deca10bb5db98fae150b52d61fc0</td>\n",
       "      <td>93a060f269bb569398921100f84c519a</td>\n",
       "      <td>2.0</td>\n",
       "      <td>UN</td>\n",
       "    </tr>\n",
       "  </tbody>\n",
       "</table>\n",
       "</div>"
      ],
      "text/plain": [
       "                           order_id                        product_id  \\\n",
       "0  47099653730fb1b76537fc10ad876255  c1244453d731c77416cb4766e3bd76cb   \n",
       "1  689d8866915acf87e851c2591a23a82f  43cc2b100bec640fe563cd16f2db669f   \n",
       "2  f26d16bf6f38c9e31d0be877f4013a9e  b8f880759d014134e272d881d49989a2   \n",
       "3  161ccc896835ab41761b0e726becb6b1  dbc062b9bef805d27a6f4bea7edfe1f1   \n",
       "4  4713deca10bb5db98fae150b52d61fc0  93a060f269bb569398921100f84c519a   \n",
       "\n",
       "   quantity buy_unit  \n",
       "0       1.0       UN  \n",
       "1       1.0       KG  \n",
       "2       1.0       UN  \n",
       "3       1.0       UN  \n",
       "4       2.0       UN  "
      ]
     },
     "execution_count": 2,
     "metadata": {},
     "output_type": "execute_result"
    }
   ],
   "source": [
    "## Order_products\n",
    "filename_ordprod = \"https://raw.githubusercontent.com/tiagottmoraes/CS-s-Data-Science-Test/main/data/order_products.csv\"\n",
    "df_ordprod = pd.read_csv(filename_ordprod)\n",
    "df_ordprod.head()\n"
   ]
  },
  {
   "cell_type": "markdown",
   "metadata": {},
   "source": [
    "Checking missing data in df_ordprod:"
   ]
  },
  {
   "cell_type": "code",
   "execution_count": 3,
   "metadata": {},
   "outputs": [
    {
     "name": "stdout",
     "output_type": "stream",
     "text": [
      "order_id\n",
      "False    198500\n",
      "Name: order_id, dtype: int64\n",
      "\n",
      "product_id\n",
      "False    198500\n",
      "Name: product_id, dtype: int64\n",
      "\n",
      "quantity\n",
      "False    198500\n",
      "Name: quantity, dtype: int64\n",
      "\n",
      "buy_unit\n",
      "False    198500\n",
      "Name: buy_unit, dtype: int64\n",
      "\n"
     ]
    }
   ],
   "source": [
    "missing_data_order = df_ordprod.isnull()\n",
    "for column in missing_data_order.columns.values.tolist():\n",
    "    print(column)\n",
    "    print(missing_data_order[column].value_counts())\n",
    "    print(\"\")"
   ]
  },
  {
   "cell_type": "markdown",
   "metadata": {},
   "source": [
    "NOTE: No missing values were found within this dataframe "
   ]
  },
  {
   "cell_type": "markdown",
   "metadata": {},
   "source": [
    "2.1.1 Feature engineering"
   ]
  },
  {
   "cell_type": "code",
   "execution_count": 4,
   "metadata": {},
   "outputs": [
    {
     "name": "stdout",
     "output_type": "stream",
     "text": [
      "Unique products listed: 15422 \n",
      "Unique orders listed: 9978\n"
     ]
    }
   ],
   "source": [
    "print('Unique products listed:', df_ordprod['product_id'].nunique(),'\\n'\n",
    "      'Unique orders listed:', df_ordprod['order_id'].nunique())"
   ]
  },
  {
   "cell_type": "markdown",
   "metadata": {},
   "source": [
    "The number of products is much bigger than the number of orders made, which is to be expected, since a single order takes many products. With that prospect in mind, an assumption made from now on is that, **what defines the complexity of a given order is the number of unique products, not the the quantity of each product**.<br />\n",
    "<br />\n",
    "A simple example that illustrates this: an order consisting of 12 different products (one item per product) demands much more attention and movement (and most likely *time*) from a shopper than what an order consisting of only 3 products, but with several items per product would.<br />\n",
    "<br />\n",
    "With that in mind, the \"df_ordprod\" was _grouped by the order_ID feature_, since that will give us the number of unique products present in each order, hence, giving us the indicator that is most likely linked to the complexity of a given order (which, in turn, makes orders take more time to be completed)."
   ]
  },
  {
   "cell_type": "code",
   "execution_count": 5,
   "metadata": {},
   "outputs": [
    {
     "data": {
      "text/html": [
       "<div>\n",
       "<style scoped>\n",
       "    .dataframe tbody tr th:only-of-type {\n",
       "        vertical-align: middle;\n",
       "    }\n",
       "\n",
       "    .dataframe tbody tr th {\n",
       "        vertical-align: top;\n",
       "    }\n",
       "\n",
       "    .dataframe thead th {\n",
       "        text-align: right;\n",
       "    }\n",
       "</style>\n",
       "<table border=\"1\" class=\"dataframe\">\n",
       "  <thead>\n",
       "    <tr style=\"text-align: right;\">\n",
       "      <th></th>\n",
       "      <th>order_id</th>\n",
       "      <th>order_size</th>\n",
       "      <th>quantity</th>\n",
       "      <th>buy_unit</th>\n",
       "    </tr>\n",
       "  </thead>\n",
       "  <tbody>\n",
       "    <tr>\n",
       "      <th>0</th>\n",
       "      <td>0004a3841c1eeb6c6e77585a941c21e0</td>\n",
       "      <td>4</td>\n",
       "      <td>4</td>\n",
       "      <td>4</td>\n",
       "    </tr>\n",
       "    <tr>\n",
       "      <th>1</th>\n",
       "      <td>0005a6ecbbde1e8d273f5577bcff2c9c</td>\n",
       "      <td>1</td>\n",
       "      <td>1</td>\n",
       "      <td>1</td>\n",
       "    </tr>\n",
       "    <tr>\n",
       "      <th>2</th>\n",
       "      <td>0007baeb6700fc203be2d1f1e11222d7</td>\n",
       "      <td>22</td>\n",
       "      <td>22</td>\n",
       "      <td>22</td>\n",
       "    </tr>\n",
       "    <tr>\n",
       "      <th>3</th>\n",
       "      <td>0012195a6a8ca9ec308a3010eeea8ebc</td>\n",
       "      <td>11</td>\n",
       "      <td>11</td>\n",
       "      <td>11</td>\n",
       "    </tr>\n",
       "    <tr>\n",
       "      <th>4</th>\n",
       "      <td>0013011fa72b498b9feb84f4e7104980</td>\n",
       "      <td>44</td>\n",
       "      <td>44</td>\n",
       "      <td>44</td>\n",
       "    </tr>\n",
       "  </tbody>\n",
       "</table>\n",
       "</div>"
      ],
      "text/plain": [
       "                           order_id  order_size  quantity  buy_unit\n",
       "0  0004a3841c1eeb6c6e77585a941c21e0           4         4         4\n",
       "1  0005a6ecbbde1e8d273f5577bcff2c9c           1         1         1\n",
       "2  0007baeb6700fc203be2d1f1e11222d7          22        22        22\n",
       "3  0012195a6a8ca9ec308a3010eeea8ebc          11        11        11\n",
       "4  0013011fa72b498b9feb84f4e7104980          44        44        44"
      ]
     },
     "execution_count": 5,
     "metadata": {},
     "output_type": "execute_result"
    }
   ],
   "source": [
    "df_ordprod = df_ordprod.groupby([\"order_id\"], as_index=False).count()\n",
    "df_ordprod.rename(columns={'product_id':'order_size'}, inplace=True)\n",
    "df_ordprod.head()"
   ]
  },
  {
   "cell_type": "markdown",
   "metadata": {},
   "source": [
    "NOTE: `product_id` was renamed to `order_size`, since it better represents the number of unique products (list of items) contained in each order"
   ]
  },
  {
   "cell_type": "markdown",
   "metadata": {},
   "source": [
    "### 2.2 Loading dataset \"shopper.csv\""
   ]
  },
  {
   "cell_type": "markdown",
   "metadata": {},
   "source": [
    "After loading the shoppers.csv into a dataframe called **df_shop**, let's look at the first five rows using the `head()` function:"
   ]
  },
  {
   "cell_type": "code",
   "execution_count": 6,
   "metadata": {},
   "outputs": [
    {
     "data": {
      "text/html": [
       "<div>\n",
       "<style scoped>\n",
       "    .dataframe tbody tr th:only-of-type {\n",
       "        vertical-align: middle;\n",
       "    }\n",
       "\n",
       "    .dataframe tbody tr th {\n",
       "        vertical-align: top;\n",
       "    }\n",
       "\n",
       "    .dataframe thead th {\n",
       "        text-align: right;\n",
       "    }\n",
       "</style>\n",
       "<table border=\"1\" class=\"dataframe\">\n",
       "  <thead>\n",
       "    <tr style=\"text-align: right;\">\n",
       "      <th></th>\n",
       "      <th>shopper_id</th>\n",
       "      <th>seniority</th>\n",
       "      <th>found_rate</th>\n",
       "      <th>picking_speed</th>\n",
       "      <th>accepted_rate</th>\n",
       "      <th>rating</th>\n",
       "    </tr>\n",
       "  </thead>\n",
       "  <tbody>\n",
       "    <tr>\n",
       "      <th>0</th>\n",
       "      <td>1fc20b0bdf697ac13dd6a15cbd2fe60a</td>\n",
       "      <td>41dc7c9e385c4d2b6c1f7836973951bf</td>\n",
       "      <td>0.8606</td>\n",
       "      <td>1.94</td>\n",
       "      <td>1.00</td>\n",
       "      <td>4.87</td>\n",
       "    </tr>\n",
       "    <tr>\n",
       "      <th>1</th>\n",
       "      <td>e1c679ac73a69c01981fdd3c5ab8beda</td>\n",
       "      <td>6c90661e6d2c7579f5ce337c3391dbb9</td>\n",
       "      <td>0.8446</td>\n",
       "      <td>1.23</td>\n",
       "      <td>0.92</td>\n",
       "      <td>4.92</td>\n",
       "    </tr>\n",
       "    <tr>\n",
       "      <th>2</th>\n",
       "      <td>09d369c66ca86ebeffacb133410c5ee1</td>\n",
       "      <td>6c90661e6d2c7579f5ce337c3391dbb9</td>\n",
       "      <td>0.8559</td>\n",
       "      <td>1.56</td>\n",
       "      <td>1.00</td>\n",
       "      <td>4.88</td>\n",
       "    </tr>\n",
       "    <tr>\n",
       "      <th>3</th>\n",
       "      <td>db39866e62b95bb04ebb1e470f2d1347</td>\n",
       "      <td>50e13ee63f086c2fe84229348bc91b5b</td>\n",
       "      <td>NaN</td>\n",
       "      <td>2.41</td>\n",
       "      <td>NaN</td>\n",
       "      <td>NaN</td>\n",
       "    </tr>\n",
       "    <tr>\n",
       "      <th>4</th>\n",
       "      <td>8efbc238660053b19f00ca431144fdae</td>\n",
       "      <td>6c90661e6d2c7579f5ce337c3391dbb9</td>\n",
       "      <td>0.8770</td>\n",
       "      <td>1.31</td>\n",
       "      <td>0.92</td>\n",
       "      <td>4.88</td>\n",
       "    </tr>\n",
       "  </tbody>\n",
       "</table>\n",
       "</div>"
      ],
      "text/plain": [
       "                         shopper_id                         seniority  \\\n",
       "0  1fc20b0bdf697ac13dd6a15cbd2fe60a  41dc7c9e385c4d2b6c1f7836973951bf   \n",
       "1  e1c679ac73a69c01981fdd3c5ab8beda  6c90661e6d2c7579f5ce337c3391dbb9   \n",
       "2  09d369c66ca86ebeffacb133410c5ee1  6c90661e6d2c7579f5ce337c3391dbb9   \n",
       "3  db39866e62b95bb04ebb1e470f2d1347  50e13ee63f086c2fe84229348bc91b5b   \n",
       "4  8efbc238660053b19f00ca431144fdae  6c90661e6d2c7579f5ce337c3391dbb9   \n",
       "\n",
       "   found_rate  picking_speed  accepted_rate  rating  \n",
       "0      0.8606           1.94           1.00    4.87  \n",
       "1      0.8446           1.23           0.92    4.92  \n",
       "2      0.8559           1.56           1.00    4.88  \n",
       "3         NaN           2.41            NaN     NaN  \n",
       "4      0.8770           1.31           0.92    4.88  "
      ]
     },
     "execution_count": 6,
     "metadata": {},
     "output_type": "execute_result"
    }
   ],
   "source": [
    "## Shopper\n",
    "filename_shop = \"https://raw.githubusercontent.com/tiagottmoraes/CS-s-Data-Science-Test/main/data/shoppers.csv\"\n",
    "df_shop = pd.read_csv(filename_shop)\n",
    "df_shop.head()"
   ]
  },
  {
   "cell_type": "markdown",
   "metadata": {},
   "source": [
    "Checking missing data in df_shop:"
   ]
  },
  {
   "cell_type": "code",
   "execution_count": 7,
   "metadata": {},
   "outputs": [
    {
     "name": "stdout",
     "output_type": "stream",
     "text": [
      "shopper_id\n",
      "False    2864\n",
      "Name: shopper_id, dtype: int64\n",
      "\n",
      "seniority\n",
      "False    2864\n",
      "Name: seniority, dtype: int64\n",
      "\n",
      "found_rate\n",
      "False    2763\n",
      "True      101\n",
      "Name: found_rate, dtype: int64\n",
      "\n",
      "picking_speed\n",
      "False    2864\n",
      "Name: picking_speed, dtype: int64\n",
      "\n",
      "accepted_rate\n",
      "False    2837\n",
      "True       27\n",
      "Name: accepted_rate, dtype: int64\n",
      "\n",
      "rating\n",
      "False    2780\n",
      "True       84\n",
      "Name: rating, dtype: int64\n",
      "\n"
     ]
    }
   ],
   "source": [
    "missing_data_order = df_shop.isnull()\n",
    "for column in missing_data_order.columns.values.tolist():\n",
    "    print(column)\n",
    "    print(missing_data_order[column].value_counts())\n",
    "    print(\"\")"
   ]
  },
  {
   "cell_type": "markdown",
   "metadata": {},
   "source": [
    "NOTE: There were found:\n",
    "- 101 NaN elements in the `found_rate` feature\n",
    "- 27 NaN elements in the `accepted_rate` feature\n",
    "- 84 NaN elements in the `rating` feature"
   ]
  },
  {
   "cell_type": "code",
   "execution_count": 8,
   "metadata": {},
   "outputs": [
    {
     "name": "stdout",
     "output_type": "stream",
     "text": [
      "Unique shoppers listed: 2864 \n",
      "Unique seniority listed: 4\n"
     ]
    }
   ],
   "source": [
    "print('Unique shoppers listed:', df_shop['shopper_id'].nunique(),'\\n' \n",
    "      'Unique seniority listed:', df_shop['seniority'].nunique())"
   ]
  },
  {
   "cell_type": "markdown",
   "metadata": {},
   "source": [
    "Despite being anonymized, the `seniority` feature consists of only 4 different classes. In order to help clarify this feature and its relationship with other elements in this dataframe, the original hash code was replaced by random letters (T, I, M, W) and had its data type replaced by categorical."
   ]
  },
  {
   "cell_type": "code",
   "execution_count": 9,
   "metadata": {},
   "outputs": [
    {
     "data": {
      "text/plain": [
       "array(['41dc7c9e385c4d2b6c1f7836973951bf',\n",
       "       '6c90661e6d2c7579f5ce337c3391dbb9',\n",
       "       '50e13ee63f086c2fe84229348bc91b5b',\n",
       "       'bb29b8d0d196b5db5a5350e5e3ae2b1f'], dtype=object)"
      ]
     },
     "execution_count": 9,
     "metadata": {},
     "output_type": "execute_result"
    }
   ],
   "source": [
    "df_shop['seniority'].unique()"
   ]
  },
  {
   "cell_type": "code",
   "execution_count": 10,
   "metadata": {},
   "outputs": [],
   "source": [
    "df_shop.replace('41dc7c9e385c4d2b6c1f7836973951bf', 'T', inplace=True)\n",
    "df_shop.replace('6c90661e6d2c7579f5ce337c3391dbb9','I', inplace=True)\n",
    "df_shop.replace('50e13ee63f086c2fe84229348bc91b5b','M', inplace=True)\n",
    "df_shop.replace('bb29b8d0d196b5db5a5350e5e3ae2b1f','W', inplace=True)"
   ]
  },
  {
   "cell_type": "code",
   "execution_count": 11,
   "metadata": {},
   "outputs": [
    {
     "data": {
      "text/plain": [
       "I    1643\n",
       "M     719\n",
       "T     440\n",
       "W      62\n",
       "Name: seniority, dtype: int64"
      ]
     },
     "execution_count": 11,
     "metadata": {},
     "output_type": "execute_result"
    }
   ],
   "source": [
    "# Counting the number of shoppers in each seniority class\n",
    "df_shop['seniority'].value_counts()"
   ]
  },
  {
   "cell_type": "code",
   "execution_count": 12,
   "metadata": {},
   "outputs": [
    {
     "data": {
      "text/html": [
       "<div>\n",
       "<style scoped>\n",
       "    .dataframe tbody tr th:only-of-type {\n",
       "        vertical-align: middle;\n",
       "    }\n",
       "\n",
       "    .dataframe tbody tr th {\n",
       "        vertical-align: top;\n",
       "    }\n",
       "\n",
       "    .dataframe thead th {\n",
       "        text-align: right;\n",
       "    }\n",
       "</style>\n",
       "<table border=\"1\" class=\"dataframe\">\n",
       "  <thead>\n",
       "    <tr style=\"text-align: right;\">\n",
       "      <th></th>\n",
       "      <th>shopper_id</th>\n",
       "      <th>seniority</th>\n",
       "      <th>found_rate</th>\n",
       "      <th>picking_speed</th>\n",
       "      <th>accepted_rate</th>\n",
       "      <th>rating</th>\n",
       "    </tr>\n",
       "  </thead>\n",
       "  <tbody>\n",
       "    <tr>\n",
       "      <th>1330</th>\n",
       "      <td>a4fcee64f446c56e2cb3a139933a328c</td>\n",
       "      <td>M</td>\n",
       "      <td>0.8523</td>\n",
       "      <td>1.54</td>\n",
       "      <td>0.68</td>\n",
       "      <td>4.80</td>\n",
       "    </tr>\n",
       "    <tr>\n",
       "      <th>1771</th>\n",
       "      <td>35f775685bcdd04f74365b995f3010d8</td>\n",
       "      <td>I</td>\n",
       "      <td>0.8412</td>\n",
       "      <td>2.00</td>\n",
       "      <td>0.96</td>\n",
       "      <td>4.88</td>\n",
       "    </tr>\n",
       "  </tbody>\n",
       "</table>\n",
       "</div>"
      ],
      "text/plain": [
       "                            shopper_id seniority  found_rate  picking_speed  \\\n",
       "1330  a4fcee64f446c56e2cb3a139933a328c         M      0.8523           1.54   \n",
       "1771  35f775685bcdd04f74365b995f3010d8         I      0.8412           2.00   \n",
       "\n",
       "      accepted_rate  rating  \n",
       "1330           0.68    4.80  \n",
       "1771           0.96    4.88  "
      ]
     },
     "execution_count": 12,
     "metadata": {},
     "output_type": "execute_result"
    }
   ],
   "source": [
    "df_shop.sample(2)"
   ]
  },
  {
   "cell_type": "markdown",
   "metadata": {},
   "source": [
    "### 2.3 Loading dataset \"storebranch.csv\""
   ]
  },
  {
   "cell_type": "markdown",
   "metadata": {},
   "source": [
    "After loading the storebranch.csv into a dataframe called **df_store**, let's look at the first five rows using the `head()` function:"
   ]
  },
  {
   "cell_type": "code",
   "execution_count": 13,
   "metadata": {},
   "outputs": [
    {
     "data": {
      "text/html": [
       "<div>\n",
       "<style scoped>\n",
       "    .dataframe tbody tr th:only-of-type {\n",
       "        vertical-align: middle;\n",
       "    }\n",
       "\n",
       "    .dataframe tbody tr th {\n",
       "        vertical-align: top;\n",
       "    }\n",
       "\n",
       "    .dataframe thead th {\n",
       "        text-align: right;\n",
       "    }\n",
       "</style>\n",
       "<table border=\"1\" class=\"dataframe\">\n",
       "  <thead>\n",
       "    <tr style=\"text-align: right;\">\n",
       "      <th></th>\n",
       "      <th>store_branch_id</th>\n",
       "      <th>store_id</th>\n",
       "      <th>lat</th>\n",
       "      <th>lng</th>\n",
       "    </tr>\n",
       "  </thead>\n",
       "  <tbody>\n",
       "    <tr>\n",
       "      <th>0</th>\n",
       "      <td>aff1621254f7c1be92f64550478c56e6</td>\n",
       "      <td>92cc227532d17e56e07902b254dfad10</td>\n",
       "      <td>-33.422497</td>\n",
       "      <td>-70.609231</td>\n",
       "    </tr>\n",
       "    <tr>\n",
       "      <th>1</th>\n",
       "      <td>56352739f59643540a3a6e16985f62c7</td>\n",
       "      <td>0336dcbab05b9d5ad24f4333c7658a0e</td>\n",
       "      <td>-33.385484</td>\n",
       "      <td>-70.555579</td>\n",
       "    </tr>\n",
       "    <tr>\n",
       "      <th>2</th>\n",
       "      <td>7d04bbbe5494ae9d2f5a76aa1c00fa2f</td>\n",
       "      <td>9bf31c7ff062936a96d3c8bd1f8f2ff3</td>\n",
       "      <td>-33.416579</td>\n",
       "      <td>-70.565224</td>\n",
       "    </tr>\n",
       "    <tr>\n",
       "      <th>3</th>\n",
       "      <td>2b24d495052a8ce66358eb576b8912c8</td>\n",
       "      <td>c4ca4238a0b923820dcc509a6f75849b</td>\n",
       "      <td>-33.512578</td>\n",
       "      <td>-70.655952</td>\n",
       "    </tr>\n",
       "    <tr>\n",
       "      <th>4</th>\n",
       "      <td>5487315b1286f907165907aa8fc96619</td>\n",
       "      <td>d82c8d1619ad8176d665453cfb2e55f0</td>\n",
       "      <td>-33.347645</td>\n",
       "      <td>-70.542229</td>\n",
       "    </tr>\n",
       "  </tbody>\n",
       "</table>\n",
       "</div>"
      ],
      "text/plain": [
       "                    store_branch_id                          store_id  \\\n",
       "0  aff1621254f7c1be92f64550478c56e6  92cc227532d17e56e07902b254dfad10   \n",
       "1  56352739f59643540a3a6e16985f62c7  0336dcbab05b9d5ad24f4333c7658a0e   \n",
       "2  7d04bbbe5494ae9d2f5a76aa1c00fa2f  9bf31c7ff062936a96d3c8bd1f8f2ff3   \n",
       "3  2b24d495052a8ce66358eb576b8912c8  c4ca4238a0b923820dcc509a6f75849b   \n",
       "4  5487315b1286f907165907aa8fc96619  d82c8d1619ad8176d665453cfb2e55f0   \n",
       "\n",
       "         lat        lng  \n",
       "0 -33.422497 -70.609231  \n",
       "1 -33.385484 -70.555579  \n",
       "2 -33.416579 -70.565224  \n",
       "3 -33.512578 -70.655952  \n",
       "4 -33.347645 -70.542229  "
      ]
     },
     "execution_count": 13,
     "metadata": {},
     "output_type": "execute_result"
    }
   ],
   "source": [
    "## Storebranch\n",
    "filename_store = \"https://raw.githubusercontent.com/tiagottmoraes/CS-s-Data-Science-Test/main/data/storebranch.csv\"\n",
    "df_store = pd.read_csv(filename_store)\n",
    "df_store.head()"
   ]
  },
  {
   "cell_type": "markdown",
   "metadata": {},
   "source": [
    "Checking missing data in df_store:"
   ]
  },
  {
   "cell_type": "code",
   "execution_count": 14,
   "metadata": {},
   "outputs": [
    {
     "name": "stdout",
     "output_type": "stream",
     "text": [
      "store_branch_id\n",
      "False    476\n",
      "Name: store_branch_id, dtype: int64\n",
      "\n",
      "store_id\n",
      "False    476\n",
      "Name: store_id, dtype: int64\n",
      "\n",
      "lat\n",
      "False    476\n",
      "Name: lat, dtype: int64\n",
      "\n",
      "lng\n",
      "False    476\n",
      "Name: lng, dtype: int64\n",
      "\n"
     ]
    }
   ],
   "source": [
    "missing_data_order = df_store.isnull()\n",
    "for column in missing_data_order.columns.values.tolist():\n",
    "    print(column)\n",
    "    print(missing_data_order[column].value_counts())\n",
    "    print(\"\")"
   ]
  },
  {
   "cell_type": "markdown",
   "metadata": {},
   "source": [
    "NOTE: No missing values were found within this dataframe "
   ]
  },
  {
   "cell_type": "code",
   "execution_count": 15,
   "metadata": {},
   "outputs": [
    {
     "name": "stdout",
     "output_type": "stream",
     "text": [
      "Unique store_branch listed: 476 \n",
      "Unique store listed: 221\n"
     ]
    }
   ],
   "source": [
    "print('Unique store_branch listed:', df_store['store_branch_id'].nunique(),'\\n' 'Unique store listed:', df_store['store_id'].nunique())"
   ]
  },
  {
   "cell_type": "markdown",
   "metadata": {},
   "source": [
    "Considering that both \"storebranch.csv\" and \"orders.csv\" have different data on latitude and longitude coordinates but uses the same name convention, let's change both column's names to help differentiate them"
   ]
  },
  {
   "cell_type": "code",
   "execution_count": 16,
   "metadata": {},
   "outputs": [],
   "source": [
    "# renaming the columns\n",
    "df_store = df_store.rename(columns={'lat':'store_lat', 'lng':'store_long'})"
   ]
  },
  {
   "cell_type": "markdown",
   "metadata": {},
   "source": [
    "### 2.4 Loading dataset \"orders.csv\""
   ]
  },
  {
   "cell_type": "markdown",
   "metadata": {},
   "source": [
    "After loading the orders.csv into a dataframe called **df_order**, let's look at the first five rows using the `head()` function:"
   ]
  },
  {
   "cell_type": "code",
   "execution_count": 17,
   "metadata": {},
   "outputs": [
    {
     "data": {
      "text/html": [
       "<div>\n",
       "<style scoped>\n",
       "    .dataframe tbody tr th:only-of-type {\n",
       "        vertical-align: middle;\n",
       "    }\n",
       "\n",
       "    .dataframe tbody tr th {\n",
       "        vertical-align: top;\n",
       "    }\n",
       "\n",
       "    .dataframe thead th {\n",
       "        text-align: right;\n",
       "    }\n",
       "</style>\n",
       "<table border=\"1\" class=\"dataframe\">\n",
       "  <thead>\n",
       "    <tr style=\"text-align: right;\">\n",
       "      <th></th>\n",
       "      <th>order_id</th>\n",
       "      <th>lat</th>\n",
       "      <th>lng</th>\n",
       "      <th>promised_time</th>\n",
       "      <th>on_demand</th>\n",
       "      <th>shopper_id</th>\n",
       "      <th>store_branch_id</th>\n",
       "      <th>total_minutes</th>\n",
       "    </tr>\n",
       "  </thead>\n",
       "  <tbody>\n",
       "    <tr>\n",
       "      <th>0</th>\n",
       "      <td>e750294655c2c7c34d83cc3181c09de4</td>\n",
       "      <td>-33.501675</td>\n",
       "      <td>-70.579369</td>\n",
       "      <td>2019-10-18 20:48:00+00:00</td>\n",
       "      <td>True</td>\n",
       "      <td>e63bc83a1a952fa2b3cc9d558fb943cf</td>\n",
       "      <td>65ded5353c5ee48d0b7d48c591b8f430</td>\n",
       "      <td>67.684264</td>\n",
       "    </tr>\n",
       "    <tr>\n",
       "      <th>1</th>\n",
       "      <td>6581174846221cb6c467348e87f57641</td>\n",
       "      <td>-33.440584</td>\n",
       "      <td>-70.556283</td>\n",
       "      <td>2019-10-19 01:00:00+00:00</td>\n",
       "      <td>False</td>\n",
       "      <td>195f9e9d84a4ba9033c4b6a756334d8b</td>\n",
       "      <td>45fbc6d3e05ebd93369ce542e8f2322d</td>\n",
       "      <td>57.060632</td>\n",
       "    </tr>\n",
       "    <tr>\n",
       "      <th>2</th>\n",
       "      <td>3a226ea48debc0a7ae9950d5540f2f34</td>\n",
       "      <td>-32.987022</td>\n",
       "      <td>-71.544842</td>\n",
       "      <td>2019-10-19 14:54:00+00:00</td>\n",
       "      <td>True</td>\n",
       "      <td>a5b9ddc0d82e61582fca19ad43dbaacb</td>\n",
       "      <td>07563a3fe3bbe7e3ba84431ad9d055af</td>\n",
       "      <td>NaN</td>\n",
       "    </tr>\n",
       "    <tr>\n",
       "      <th>3</th>\n",
       "      <td>7d2ed03fe4966083e74b12694b1669d8</td>\n",
       "      <td>-33.328075</td>\n",
       "      <td>-70.512659</td>\n",
       "      <td>2019-10-18 21:47:00+00:00</td>\n",
       "      <td>True</td>\n",
       "      <td>d0b3f6bf7e249e5ebb8d3129341773a2</td>\n",
       "      <td>f1748d6b0fd9d439f71450117eba2725</td>\n",
       "      <td>52.067742</td>\n",
       "    </tr>\n",
       "    <tr>\n",
       "      <th>4</th>\n",
       "      <td>b4b2682d77118155fe4716300ccf7f39</td>\n",
       "      <td>-33.403239</td>\n",
       "      <td>-70.564020</td>\n",
       "      <td>2019-10-19 20:00:00+00:00</td>\n",
       "      <td>False</td>\n",
       "      <td>5c5199ce02f7b77caa9c2590a39ad27d</td>\n",
       "      <td>1f0e3dad99908345f7439f8ffabdffc4</td>\n",
       "      <td>140.724822</td>\n",
       "    </tr>\n",
       "  </tbody>\n",
       "</table>\n",
       "</div>"
      ],
      "text/plain": [
       "                           order_id        lat        lng  \\\n",
       "0  e750294655c2c7c34d83cc3181c09de4 -33.501675 -70.579369   \n",
       "1  6581174846221cb6c467348e87f57641 -33.440584 -70.556283   \n",
       "2  3a226ea48debc0a7ae9950d5540f2f34 -32.987022 -71.544842   \n",
       "3  7d2ed03fe4966083e74b12694b1669d8 -33.328075 -70.512659   \n",
       "4  b4b2682d77118155fe4716300ccf7f39 -33.403239 -70.564020   \n",
       "\n",
       "               promised_time  on_demand                        shopper_id  \\\n",
       "0  2019-10-18 20:48:00+00:00       True  e63bc83a1a952fa2b3cc9d558fb943cf   \n",
       "1  2019-10-19 01:00:00+00:00      False  195f9e9d84a4ba9033c4b6a756334d8b   \n",
       "2  2019-10-19 14:54:00+00:00       True  a5b9ddc0d82e61582fca19ad43dbaacb   \n",
       "3  2019-10-18 21:47:00+00:00       True  d0b3f6bf7e249e5ebb8d3129341773a2   \n",
       "4  2019-10-19 20:00:00+00:00      False  5c5199ce02f7b77caa9c2590a39ad27d   \n",
       "\n",
       "                    store_branch_id  total_minutes  \n",
       "0  65ded5353c5ee48d0b7d48c591b8f430      67.684264  \n",
       "1  45fbc6d3e05ebd93369ce542e8f2322d      57.060632  \n",
       "2  07563a3fe3bbe7e3ba84431ad9d055af            NaN  \n",
       "3  f1748d6b0fd9d439f71450117eba2725      52.067742  \n",
       "4  1f0e3dad99908345f7439f8ffabdffc4     140.724822  "
      ]
     },
     "execution_count": 17,
     "metadata": {},
     "output_type": "execute_result"
    }
   ],
   "source": [
    "## ORDERS - LABEL\n",
    "filename_ORDER = \"https://raw.githubusercontent.com/tiagottmoraes/CS-s-Data-Science-Test/main/data/orders.csv\"\n",
    "df_ORDER = pd.read_csv(filename_ORDER)\n",
    "df_ORDER.head()"
   ]
  },
  {
   "cell_type": "markdown",
   "metadata": {},
   "source": [
    "Checking missing data in df_ORDER:"
   ]
  },
  {
   "cell_type": "code",
   "execution_count": 18,
   "metadata": {},
   "outputs": [
    {
     "name": "stdout",
     "output_type": "stream",
     "text": [
      "order_id\n",
      "False    10000\n",
      "Name: order_id, dtype: int64\n",
      "\n",
      "lat\n",
      "False    10000\n",
      "Name: lat, dtype: int64\n",
      "\n",
      "lng\n",
      "False    10000\n",
      "Name: lng, dtype: int64\n",
      "\n",
      "promised_time\n",
      "False    10000\n",
      "Name: promised_time, dtype: int64\n",
      "\n",
      "on_demand\n",
      "False    10000\n",
      "Name: on_demand, dtype: int64\n",
      "\n",
      "shopper_id\n",
      "False    10000\n",
      "Name: shopper_id, dtype: int64\n",
      "\n",
      "store_branch_id\n",
      "False    10000\n",
      "Name: store_branch_id, dtype: int64\n",
      "\n",
      "total_minutes\n",
      "False    8000\n",
      "True     2000\n",
      "Name: total_minutes, dtype: int64\n",
      "\n"
     ]
    }
   ],
   "source": [
    "missing_data_order = df_ORDER.isnull()\n",
    "for column in missing_data_order.columns.values.tolist():\n",
    "    print(column)\n",
    "    print(missing_data_order[column].value_counts())\n",
    "    print(\"\")"
   ]
  },
  {
   "cell_type": "markdown",
   "metadata": {},
   "source": [
    "NOTE: No null values, EXCEPT for the label `total_minutes`. The rows containg those missing values in the label will be later set apart to be used during the predictions phase."
   ]
  },
  {
   "cell_type": "markdown",
   "metadata": {},
   "source": [
    "Considering that both \"storebranch.csv\" and \"orders.csv\" have different data on latitude and longitude coordinates but uses the same name convention, let's change both column's names to help differentiate them."
   ]
  },
  {
   "cell_type": "code",
   "execution_count": 19,
   "metadata": {},
   "outputs": [],
   "source": [
    "df_ORDER = df_ORDER.rename(columns={'lat':'delivery_lat', 'lng':'delivery_long'})"
   ]
  },
  {
   "cell_type": "markdown",
   "metadata": {},
   "source": [
    "### 2.5 Merging dataframes"
   ]
  },
  {
   "cell_type": "markdown",
   "metadata": {},
   "source": [
    "Merging dataframes using primary and foreign keys."
   ]
  },
  {
   "cell_type": "markdown",
   "metadata": {},
   "source": [
    "1. First, merge df_ordprod in df_ORDER, using `order_id` as primary keys:"
   ]
  },
  {
   "cell_type": "code",
   "execution_count": 20,
   "metadata": {},
   "outputs": [],
   "source": [
    "df_merge = pd.merge(df_ORDER, df_ordprod, on='order_id')"
   ]
  },
  {
   "cell_type": "markdown",
   "metadata": {},
   "source": [
    "2. Then, merge df_shop in df_merge (result from previous merge operation), using `shopper_id` as foreing keys:"
   ]
  },
  {
   "cell_type": "code",
   "execution_count": 21,
   "metadata": {},
   "outputs": [],
   "source": [
    "df_merge = pd.merge(df_merge, df_shop, on='shopper_id')"
   ]
  },
  {
   "cell_type": "markdown",
   "metadata": {},
   "source": [
    "3. Finally, merge df_store in df_merge (result from previous merge operation), using `store_branch_id` as foreing keys:"
   ]
  },
  {
   "cell_type": "code",
   "execution_count": 22,
   "metadata": {},
   "outputs": [],
   "source": [
    "df_merge = pd.merge(df_merge, df_store, on='store_branch_id')"
   ]
  },
  {
   "cell_type": "markdown",
   "metadata": {},
   "source": [
    "After merging and, then, sorting the features, we get the following dataframe:"
   ]
  },
  {
   "cell_type": "code",
   "execution_count": 23,
   "metadata": {},
   "outputs": [
    {
     "data": {
      "text/html": [
       "<div>\n",
       "<style scoped>\n",
       "    .dataframe tbody tr th:only-of-type {\n",
       "        vertical-align: middle;\n",
       "    }\n",
       "\n",
       "    .dataframe tbody tr th {\n",
       "        vertical-align: top;\n",
       "    }\n",
       "\n",
       "    .dataframe thead th {\n",
       "        text-align: right;\n",
       "    }\n",
       "</style>\n",
       "<table border=\"1\" class=\"dataframe\">\n",
       "  <thead>\n",
       "    <tr style=\"text-align: right;\">\n",
       "      <th></th>\n",
       "      <th>order_id</th>\n",
       "      <th>store_branch_id</th>\n",
       "      <th>store_lat</th>\n",
       "      <th>delivery_lat</th>\n",
       "      <th>store_long</th>\n",
       "      <th>delivery_long</th>\n",
       "      <th>promised_time</th>\n",
       "      <th>store_id</th>\n",
       "      <th>quantity</th>\n",
       "      <th>buy_unit</th>\n",
       "      <th>shopper_id</th>\n",
       "      <th>on_demand</th>\n",
       "      <th>seniority</th>\n",
       "      <th>order_size</th>\n",
       "      <th>found_rate</th>\n",
       "      <th>picking_speed</th>\n",
       "      <th>accepted_rate</th>\n",
       "      <th>rating</th>\n",
       "      <th>total_minutes</th>\n",
       "    </tr>\n",
       "  </thead>\n",
       "  <tbody>\n",
       "    <tr>\n",
       "      <th>3969</th>\n",
       "      <td>c8c701485342fb2bb6a4ab86ff676bb7</td>\n",
       "      <td>1f0e3dad99908345f7439f8ffabdffc4</td>\n",
       "      <td>-33.386547</td>\n",
       "      <td>-33.410071</td>\n",
       "      <td>-70.568075</td>\n",
       "      <td>-70.601992</td>\n",
       "      <td>2019-10-18 19:52:00+00:00</td>\n",
       "      <td>c4ca4238a0b923820dcc509a6f75849b</td>\n",
       "      <td>6</td>\n",
       "      <td>6</td>\n",
       "      <td>dbf135f439eff84590e75c40dee7f0ca</td>\n",
       "      <td>True</td>\n",
       "      <td>M</td>\n",
       "      <td>6</td>\n",
       "      <td>0.8328</td>\n",
       "      <td>1.72</td>\n",
       "      <td>0.809524</td>\n",
       "      <td>5.00</td>\n",
       "      <td>53.984836</td>\n",
       "    </tr>\n",
       "    <tr>\n",
       "      <th>8730</th>\n",
       "      <td>b6bc620e62976b5b6c15317ee50eecc6</td>\n",
       "      <td>fc221309746013ac554571fbd180e1c8</td>\n",
       "      <td>-33.025860</td>\n",
       "      <td>-33.019526</td>\n",
       "      <td>-71.547009</td>\n",
       "      <td>-71.551093</td>\n",
       "      <td>2019-10-19 15:30:00+00:00</td>\n",
       "      <td>c4ca4238a0b923820dcc509a6f75849b</td>\n",
       "      <td>26</td>\n",
       "      <td>26</td>\n",
       "      <td>152438539e5fddafe945cc69a7253f27</td>\n",
       "      <td>True</td>\n",
       "      <td>I</td>\n",
       "      <td>26</td>\n",
       "      <td>0.9009</td>\n",
       "      <td>1.42</td>\n",
       "      <td>1.000000</td>\n",
       "      <td>4.76</td>\n",
       "      <td>NaN</td>\n",
       "    </tr>\n",
       "  </tbody>\n",
       "</table>\n",
       "</div>"
      ],
      "text/plain": [
       "                              order_id                   store_branch_id  \\\n",
       "3969  c8c701485342fb2bb6a4ab86ff676bb7  1f0e3dad99908345f7439f8ffabdffc4   \n",
       "8730  b6bc620e62976b5b6c15317ee50eecc6  fc221309746013ac554571fbd180e1c8   \n",
       "\n",
       "      store_lat  delivery_lat  store_long  delivery_long  \\\n",
       "3969 -33.386547    -33.410071  -70.568075     -70.601992   \n",
       "8730 -33.025860    -33.019526  -71.547009     -71.551093   \n",
       "\n",
       "                  promised_time                          store_id  quantity  \\\n",
       "3969  2019-10-18 19:52:00+00:00  c4ca4238a0b923820dcc509a6f75849b         6   \n",
       "8730  2019-10-19 15:30:00+00:00  c4ca4238a0b923820dcc509a6f75849b        26   \n",
       "\n",
       "      buy_unit                        shopper_id  on_demand seniority  \\\n",
       "3969         6  dbf135f439eff84590e75c40dee7f0ca       True         M   \n",
       "8730        26  152438539e5fddafe945cc69a7253f27       True         I   \n",
       "\n",
       "      order_size  found_rate  picking_speed  accepted_rate  rating  \\\n",
       "3969           6      0.8328           1.72       0.809524    5.00   \n",
       "8730          26      0.9009           1.42       1.000000    4.76   \n",
       "\n",
       "      total_minutes  \n",
       "3969      53.984836  \n",
       "8730            NaN  "
      ]
     },
     "execution_count": 23,
     "metadata": {},
     "output_type": "execute_result"
    }
   ],
   "source": [
    "df_merge = df_merge.reindex(['order_id','store_branch_id','store_lat','delivery_lat','store_long','delivery_long','promised_time', 'store_id','quantity', 'buy_unit','shopper_id','on_demand','seniority', 'order_size', 'found_rate','picking_speed','accepted_rate','rating', 'total_minutes'], axis=1)\n",
    "pd.set_option('display.max_columns', None)\n",
    "df_merge.sample(2)"
   ]
  },
  {
   "cell_type": "markdown",
   "metadata": {},
   "source": [
    "## 3 Dealing with missing data"
   ]
  },
  {
   "cell_type": "markdown",
   "metadata": {},
   "source": [
    "### 3.1 Removing/Replacing missing values"
   ]
  },
  {
   "cell_type": "markdown",
   "metadata": {},
   "source": [
    "First, let's remove some unnecessary features, such as `promissed_time` (nothing to compare with), `store_id` (already used store_branch_id as primary key),`quantity` and `buy_unit` (both deprecated after grouping by `order_id`, as show in item 2.1)"
   ]
  },
  {
   "cell_type": "code",
   "execution_count": 24,
   "metadata": {},
   "outputs": [],
   "source": [
    "df_merge.drop(['promised_time', 'store_id','quantity', 'buy_unit'], axis=1, inplace=True)"
   ]
  },
  {
   "cell_type": "markdown",
   "metadata": {},
   "source": [
    "As shown before, some features presents missing values that must be addressed before we head to the exploratory analysis. \n"
   ]
  },
  {
   "cell_type": "code",
   "execution_count": 25,
   "metadata": {},
   "outputs": [
    {
     "data": {
      "text/html": [
       "<div>\n",
       "<style scoped>\n",
       "    .dataframe tbody tr th:only-of-type {\n",
       "        vertical-align: middle;\n",
       "    }\n",
       "\n",
       "    .dataframe tbody tr th {\n",
       "        vertical-align: top;\n",
       "    }\n",
       "\n",
       "    .dataframe thead th {\n",
       "        text-align: right;\n",
       "    }\n",
       "</style>\n",
       "<table border=\"1\" class=\"dataframe\">\n",
       "  <thead>\n",
       "    <tr style=\"text-align: right;\">\n",
       "      <th></th>\n",
       "      <th>order_id</th>\n",
       "      <th>store_branch_id</th>\n",
       "      <th>store_lat</th>\n",
       "      <th>delivery_lat</th>\n",
       "      <th>store_long</th>\n",
       "      <th>delivery_long</th>\n",
       "      <th>shopper_id</th>\n",
       "      <th>on_demand</th>\n",
       "      <th>seniority</th>\n",
       "      <th>order_size</th>\n",
       "      <th>found_rate</th>\n",
       "      <th>picking_speed</th>\n",
       "      <th>accepted_rate</th>\n",
       "      <th>rating</th>\n",
       "      <th>total_minutes</th>\n",
       "    </tr>\n",
       "  </thead>\n",
       "  <tbody>\n",
       "    <tr>\n",
       "      <th>1909</th>\n",
       "      <td>e9676bebf330e133df398dc2fc3e9582</td>\n",
       "      <td>1679091c5a880faf6fb5e6087eb1b2dc</td>\n",
       "      <td>-33.370765</td>\n",
       "      <td>-33.330598</td>\n",
       "      <td>-70.51242</td>\n",
       "      <td>-70.540262</td>\n",
       "      <td>feb307a85642ff0971e8f7313797d1e3</td>\n",
       "      <td>False</td>\n",
       "      <td>M</td>\n",
       "      <td>24</td>\n",
       "      <td>0.8415</td>\n",
       "      <td>3.71</td>\n",
       "      <td>0.80</td>\n",
       "      <td>4.70</td>\n",
       "      <td>94.568225</td>\n",
       "    </tr>\n",
       "    <tr>\n",
       "      <th>1313</th>\n",
       "      <td>3e00a6151f5e8a8639c0b2bff29e4f29</td>\n",
       "      <td>1679091c5a880faf6fb5e6087eb1b2dc</td>\n",
       "      <td>-33.370765</td>\n",
       "      <td>-33.331474</td>\n",
       "      <td>-70.51242</td>\n",
       "      <td>-70.507553</td>\n",
       "      <td>9775595b5e536a7337d45a96108f9db0</td>\n",
       "      <td>True</td>\n",
       "      <td>I</td>\n",
       "      <td>15</td>\n",
       "      <td>0.8803</td>\n",
       "      <td>0.96</td>\n",
       "      <td>0.96</td>\n",
       "      <td>4.88</td>\n",
       "      <td>36.793124</td>\n",
       "    </tr>\n",
       "  </tbody>\n",
       "</table>\n",
       "</div>"
      ],
      "text/plain": [
       "                              order_id                   store_branch_id  \\\n",
       "1909  e9676bebf330e133df398dc2fc3e9582  1679091c5a880faf6fb5e6087eb1b2dc   \n",
       "1313  3e00a6151f5e8a8639c0b2bff29e4f29  1679091c5a880faf6fb5e6087eb1b2dc   \n",
       "\n",
       "      store_lat  delivery_lat  store_long  delivery_long  \\\n",
       "1909 -33.370765    -33.330598   -70.51242     -70.540262   \n",
       "1313 -33.370765    -33.331474   -70.51242     -70.507553   \n",
       "\n",
       "                            shopper_id  on_demand seniority  order_size  \\\n",
       "1909  feb307a85642ff0971e8f7313797d1e3      False         M          24   \n",
       "1313  9775595b5e536a7337d45a96108f9db0       True         I          15   \n",
       "\n",
       "      found_rate  picking_speed  accepted_rate  rating  total_minutes  \n",
       "1909      0.8415           3.71           0.80    4.70      94.568225  \n",
       "1313      0.8803           0.96           0.96    4.88      36.793124  "
      ]
     },
     "execution_count": 25,
     "metadata": {},
     "output_type": "execute_result"
    }
   ],
   "source": [
    "df_merge.sample(2)"
   ]
  },
  {
   "cell_type": "code",
   "execution_count": 26,
   "metadata": {},
   "outputs": [
    {
     "name": "stdout",
     "output_type": "stream",
     "text": [
      "<class 'pandas.core.frame.DataFrame'>\n",
      "Int64Index: 9978 entries, 0 to 9977\n",
      "Data columns (total 15 columns):\n",
      " #   Column           Non-Null Count  Dtype  \n",
      "---  ------           --------------  -----  \n",
      " 0   order_id         9978 non-null   object \n",
      " 1   store_branch_id  9978 non-null   object \n",
      " 2   store_lat        9978 non-null   float64\n",
      " 3   delivery_lat     9978 non-null   float64\n",
      " 4   store_long       9978 non-null   float64\n",
      " 5   delivery_long    9978 non-null   float64\n",
      " 6   shopper_id       9978 non-null   object \n",
      " 7   on_demand        9978 non-null   bool   \n",
      " 8   seniority        9978 non-null   object \n",
      " 9   order_size       9978 non-null   int64  \n",
      " 10  found_rate       9779 non-null   float64\n",
      " 11  picking_speed    9978 non-null   float64\n",
      " 12  accepted_rate    9932 non-null   float64\n",
      " 13  rating           9816 non-null   float64\n",
      " 14  total_minutes    7983 non-null   float64\n",
      "dtypes: bool(1), float64(9), int64(1), object(4)\n",
      "memory usage: 1.2+ MB\n"
     ]
    }
   ],
   "source": [
    "#checking the overall distribution and volume of the dataframe\n",
    "df_merge.info()"
   ]
  },
  {
   "cell_type": "code",
   "execution_count": 27,
   "metadata": {},
   "outputs": [
    {
     "name": "stdout",
     "output_type": "stream",
     "text": [
      " \n",
      "Total number of NaN items present in the columns of the DataFrame 'df_merge': \n",
      "\n",
      " order_id              0\n",
      "store_branch_id       0\n",
      "store_lat             0\n",
      "delivery_lat          0\n",
      "store_long            0\n",
      "delivery_long         0\n",
      "shopper_id            0\n",
      "on_demand             0\n",
      "seniority             0\n",
      "order_size            0\n",
      "found_rate          199\n",
      "picking_speed         0\n",
      "accepted_rate        46\n",
      "rating              162\n",
      "total_minutes      1995\n",
      "dtype: int64\n"
     ]
    }
   ],
   "source": [
    "#checking missing values in merged dataframe\n",
    "print(\" \\nTotal number of NaN items present in the columns of the DataFrame 'df_merge': \\n\\n\", df_merge.isnull().sum())"
   ]
  },
  {
   "cell_type": "markdown",
   "metadata": {},
   "source": [
    "As stated before, the `total_minutes` label will be set apart to be used in the preditions phase, so it won't have any new values imputed. For the rest of features (`found_rate`, `accepted_rate` and `rating`), all missing values will be imputed by using their respectives average values in the series."
   ]
  },
  {
   "cell_type": "code",
   "execution_count": 28,
   "metadata": {},
   "outputs": [
    {
     "name": "stdout",
     "output_type": "stream",
     "text": [
      "Average of found_rate: 0.8633177727784027\n",
      "Average of accepted_rate: 0.9170133784336325\n",
      "Average of rating: 4.849341890790547\n"
     ]
    }
   ],
   "source": [
    "# calculating the averages\n",
    "avg_found = df_merge['found_rate'].mean(axis=0)\n",
    "avg_accept = df_merge['accepted_rate'].mean(axis=0)\n",
    "avg_rate = df_merge['rating'].mean(axis=0)\n",
    "print(\"Average of found_rate:\", avg_found )\n",
    "print(\"Average of accepted_rate:\", avg_accept )\n",
    "print(\"Average of rating:\", avg_rate )\n"
   ]
  },
  {
   "cell_type": "code",
   "execution_count": 29,
   "metadata": {},
   "outputs": [],
   "source": [
    "# replacing the NaN with the average values\n",
    "df_merge['found_rate'].replace(np.nan, avg_found, inplace=True)\n",
    "df_merge['accepted_rate'].replace(np.nan, avg_accept, inplace=True)\n",
    "df_merge['rating'].replace(np.nan, avg_rate, inplace=True)"
   ]
  },
  {
   "cell_type": "code",
   "execution_count": 30,
   "metadata": {},
   "outputs": [
    {
     "name": "stdout",
     "output_type": "stream",
     "text": [
      " \n",
      "Total number of NaN items present in the columns of the DataFrame 'df_merge': \n",
      "\n",
      " order_id              0\n",
      "store_branch_id       0\n",
      "store_lat             0\n",
      "delivery_lat          0\n",
      "store_long            0\n",
      "delivery_long         0\n",
      "shopper_id            0\n",
      "on_demand             0\n",
      "seniority             0\n",
      "order_size            0\n",
      "found_rate            0\n",
      "picking_speed         0\n",
      "accepted_rate         0\n",
      "rating                0\n",
      "total_minutes      1995\n",
      "dtype: int64\n"
     ]
    }
   ],
   "source": [
    "print(\" \\nTotal number of NaN items present in the columns of the DataFrame 'df_merge': \\n\\n\", df_merge.isnull().sum())"
   ]
  },
  {
   "cell_type": "markdown",
   "metadata": {},
   "source": [
    "NOTE: All missing values removed from the desired the features"
   ]
  },
  {
   "cell_type": "markdown",
   "metadata": {},
   "source": [
    "### 3.2 Feature transformation"
   ]
  },
  {
   "cell_type": "markdown",
   "metadata": {},
   "source": [
    "Geopy library can calculate straight distances between two points using only their geographic coordinates. First, let's change the latitude and longitude values and convert it into a single geographic point using Geopy's `Point` function."
   ]
  },
  {
   "cell_type": "code",
   "execution_count": 31,
   "metadata": {},
   "outputs": [
    {
     "data": {
      "text/html": [
       "<div>\n",
       "<style scoped>\n",
       "    .dataframe tbody tr th:only-of-type {\n",
       "        vertical-align: middle;\n",
       "    }\n",
       "\n",
       "    .dataframe tbody tr th {\n",
       "        vertical-align: top;\n",
       "    }\n",
       "\n",
       "    .dataframe thead th {\n",
       "        text-align: right;\n",
       "    }\n",
       "</style>\n",
       "<table border=\"1\" class=\"dataframe\">\n",
       "  <thead>\n",
       "    <tr style=\"text-align: right;\">\n",
       "      <th></th>\n",
       "      <th>order_id</th>\n",
       "      <th>store_branch_id</th>\n",
       "      <th>store_lat</th>\n",
       "      <th>delivery_lat</th>\n",
       "      <th>store_long</th>\n",
       "      <th>delivery_long</th>\n",
       "      <th>shopper_id</th>\n",
       "      <th>on_demand</th>\n",
       "      <th>seniority</th>\n",
       "      <th>order_size</th>\n",
       "      <th>found_rate</th>\n",
       "      <th>picking_speed</th>\n",
       "      <th>accepted_rate</th>\n",
       "      <th>rating</th>\n",
       "      <th>total_minutes</th>\n",
       "      <th>store_coord</th>\n",
       "      <th>delivery_coord</th>\n",
       "    </tr>\n",
       "  </thead>\n",
       "  <tbody>\n",
       "    <tr>\n",
       "      <th>6945</th>\n",
       "      <td>d78fca4a0e17ba1f1ec82d798713d1d9</td>\n",
       "      <td>3871bd64012152bfb53fdf04b401193f</td>\n",
       "      <td>-33.451695</td>\n",
       "      <td>-33.434842</td>\n",
       "      <td>-70.69216</td>\n",
       "      <td>-70.645977</td>\n",
       "      <td>63f835f9f8f2df8f65056e1d6ab0b095</td>\n",
       "      <td>False</td>\n",
       "      <td>M</td>\n",
       "      <td>28</td>\n",
       "      <td>0.8603</td>\n",
       "      <td>2.05</td>\n",
       "      <td>0.84</td>\n",
       "      <td>4.68</td>\n",
       "      <td>NaN</td>\n",
       "      <td>33 27m 6.102s S, 70 41m 31.776s W</td>\n",
       "      <td>33 26m 5.43018s S, 70 38m 45.5173s W</td>\n",
       "    </tr>\n",
       "  </tbody>\n",
       "</table>\n",
       "</div>"
      ],
      "text/plain": [
       "                              order_id                   store_branch_id  \\\n",
       "6945  d78fca4a0e17ba1f1ec82d798713d1d9  3871bd64012152bfb53fdf04b401193f   \n",
       "\n",
       "      store_lat  delivery_lat  store_long  delivery_long  \\\n",
       "6945 -33.451695    -33.434842   -70.69216     -70.645977   \n",
       "\n",
       "                            shopper_id  on_demand seniority  order_size  \\\n",
       "6945  63f835f9f8f2df8f65056e1d6ab0b095      False         M          28   \n",
       "\n",
       "      found_rate  picking_speed  accepted_rate  rating  total_minutes  \\\n",
       "6945      0.8603           2.05           0.84    4.68            NaN   \n",
       "\n",
       "                            store_coord                        delivery_coord  \n",
       "6945  33 27m 6.102s S, 70 41m 31.776s W  33 26m 5.43018s S, 70 38m 45.5173s W  "
      ]
     },
     "execution_count": 31,
     "metadata": {},
     "output_type": "execute_result"
    }
   ],
   "source": [
    "df_merge['store_coord'] = df_merge.apply(lambda row: Point(latitude=row['store_lat'], longitude=row['store_long']), axis=1)\n",
    "df_merge['delivery_coord'] = df_merge.apply(lambda row: Point(latitude=row['delivery_lat'], longitude=row['delivery_long']), axis=1)\n",
    "df_merge.sample(1)"
   ]
  },
  {
   "cell_type": "markdown",
   "metadata": {},
   "source": [
    "Finally, using Geopy's `Distance` function, we can obtain the straight line distance (km) between two given points."
   ]
  },
  {
   "cell_type": "code",
   "execution_count": 32,
   "metadata": {},
   "outputs": [],
   "source": [
    "#calculating the distance between the store and the delivery point, using their coordinates\n",
    "df_merge['distance_km'] = df_merge.apply(lambda row: distance(row['delivery_coord'], row['store_coord']).km , axis=1)"
   ]
  },
  {
   "cell_type": "code",
   "execution_count": 33,
   "metadata": {},
   "outputs": [
    {
     "data": {
      "text/html": [
       "<div>\n",
       "<style scoped>\n",
       "    .dataframe tbody tr th:only-of-type {\n",
       "        vertical-align: middle;\n",
       "    }\n",
       "\n",
       "    .dataframe tbody tr th {\n",
       "        vertical-align: top;\n",
       "    }\n",
       "\n",
       "    .dataframe thead th {\n",
       "        text-align: right;\n",
       "    }\n",
       "</style>\n",
       "<table border=\"1\" class=\"dataframe\">\n",
       "  <thead>\n",
       "    <tr style=\"text-align: right;\">\n",
       "      <th></th>\n",
       "      <th>order_id</th>\n",
       "      <th>store_branch_id</th>\n",
       "      <th>shopper_id</th>\n",
       "      <th>store_lat</th>\n",
       "      <th>store_long</th>\n",
       "      <th>delivery_lat</th>\n",
       "      <th>delivery_long</th>\n",
       "      <th>on_demand</th>\n",
       "      <th>seniority</th>\n",
       "      <th>order_size</th>\n",
       "      <th>found_rate</th>\n",
       "      <th>picking_speed</th>\n",
       "      <th>accepted_rate</th>\n",
       "      <th>rating</th>\n",
       "      <th>distance_km</th>\n",
       "      <th>total_minutes</th>\n",
       "    </tr>\n",
       "  </thead>\n",
       "  <tbody>\n",
       "    <tr>\n",
       "      <th>2416</th>\n",
       "      <td>eb65122907217827bfcf100585b60ccc</td>\n",
       "      <td>1f0e3dad99908345f7439f8ffabdffc4</td>\n",
       "      <td>a28fd761edde758c15d7d3b009e59127</td>\n",
       "      <td>-33.386547</td>\n",
       "      <td>-70.568075</td>\n",
       "      <td>-33.412339</td>\n",
       "      <td>-70.599511</td>\n",
       "      <td>False</td>\n",
       "      <td>I</td>\n",
       "      <td>11</td>\n",
       "      <td>0.8513</td>\n",
       "      <td>1.11</td>\n",
       "      <td>0.92</td>\n",
       "      <td>4.48</td>\n",
       "      <td>4.090946</td>\n",
       "      <td>58.854046</td>\n",
       "    </tr>\n",
       "    <tr>\n",
       "      <th>2673</th>\n",
       "      <td>4396e85e89b1d129dee499b41a3d69b9</td>\n",
       "      <td>1f0e3dad99908345f7439f8ffabdffc4</td>\n",
       "      <td>7ea65fbea6bfac1906d8200d12790ecf</td>\n",
       "      <td>-33.386547</td>\n",
       "      <td>-70.568075</td>\n",
       "      <td>-33.345674</td>\n",
       "      <td>-70.555144</td>\n",
       "      <td>True</td>\n",
       "      <td>M</td>\n",
       "      <td>9</td>\n",
       "      <td>0.8499</td>\n",
       "      <td>2.10</td>\n",
       "      <td>0.60</td>\n",
       "      <td>4.92</td>\n",
       "      <td>4.690294</td>\n",
       "      <td>66.575289</td>\n",
       "    </tr>\n",
       "  </tbody>\n",
       "</table>\n",
       "</div>"
      ],
      "text/plain": [
       "                              order_id                   store_branch_id  \\\n",
       "2416  eb65122907217827bfcf100585b60ccc  1f0e3dad99908345f7439f8ffabdffc4   \n",
       "2673  4396e85e89b1d129dee499b41a3d69b9  1f0e3dad99908345f7439f8ffabdffc4   \n",
       "\n",
       "                            shopper_id  store_lat  store_long  delivery_lat  \\\n",
       "2416  a28fd761edde758c15d7d3b009e59127 -33.386547  -70.568075    -33.412339   \n",
       "2673  7ea65fbea6bfac1906d8200d12790ecf -33.386547  -70.568075    -33.345674   \n",
       "\n",
       "      delivery_long  on_demand seniority  order_size  found_rate  \\\n",
       "2416     -70.599511      False         I          11      0.8513   \n",
       "2673     -70.555144       True         M           9      0.8499   \n",
       "\n",
       "      picking_speed  accepted_rate  rating  distance_km  total_minutes  \n",
       "2416           1.11           0.92    4.48     4.090946      58.854046  \n",
       "2673           2.10           0.60    4.92     4.690294      66.575289  "
      ]
     },
     "execution_count": 33,
     "metadata": {},
     "output_type": "execute_result"
    }
   ],
   "source": [
    "#removing coordinate data and renaming the newly found distance\n",
    "df_merge.drop(['delivery_coord', 'store_coord'], axis=1, inplace=True)\n",
    "df_merge = df_merge.reindex(['order_id','store_branch_id','shopper_id','store_lat', 'store_long', 'delivery_lat', 'delivery_long','on_demand','seniority', 'order_size', 'found_rate','picking_speed','accepted_rate','rating','distance_km','total_minutes'], axis=1)\n",
    "df_merge.sample(2)"
   ]
  },
  {
   "cell_type": "markdown",
   "metadata": {},
   "source": [
    "One last transformation to be carried out is the `on_demand` feature, which is currently a boolean. Since booleans aren't good matchs when when working with machine learning models, we'll simply replace \"True\"=1 and \"False\"=0"
   ]
  },
  {
   "cell_type": "code",
   "execution_count": 34,
   "metadata": {},
   "outputs": [
    {
     "data": {
      "text/plain": [
       "dtype('bool')"
      ]
     },
     "execution_count": 34,
     "metadata": {},
     "output_type": "execute_result"
    }
   ],
   "source": [
    "df_merge['on_demand'].dtypes"
   ]
  },
  {
   "cell_type": "code",
   "execution_count": 35,
   "metadata": {},
   "outputs": [],
   "source": [
    "# True = 1, False = 0\n",
    "df_merge['on_demand'].replace(True,1, inplace=True)\n",
    "df_merge['on_demand'].replace(False,0, inplace=True)"
   ]
  },
  {
   "cell_type": "code",
   "execution_count": 36,
   "metadata": {},
   "outputs": [
    {
     "data": {
      "text/html": [
       "<div>\n",
       "<style scoped>\n",
       "    .dataframe tbody tr th:only-of-type {\n",
       "        vertical-align: middle;\n",
       "    }\n",
       "\n",
       "    .dataframe tbody tr th {\n",
       "        vertical-align: top;\n",
       "    }\n",
       "\n",
       "    .dataframe thead th {\n",
       "        text-align: right;\n",
       "    }\n",
       "</style>\n",
       "<table border=\"1\" class=\"dataframe\">\n",
       "  <thead>\n",
       "    <tr style=\"text-align: right;\">\n",
       "      <th></th>\n",
       "      <th>order_id</th>\n",
       "      <th>store_branch_id</th>\n",
       "      <th>shopper_id</th>\n",
       "      <th>store_lat</th>\n",
       "      <th>store_long</th>\n",
       "      <th>delivery_lat</th>\n",
       "      <th>delivery_long</th>\n",
       "      <th>on_demand</th>\n",
       "      <th>seniority</th>\n",
       "      <th>order_size</th>\n",
       "      <th>found_rate</th>\n",
       "      <th>picking_speed</th>\n",
       "      <th>accepted_rate</th>\n",
       "      <th>rating</th>\n",
       "      <th>distance_km</th>\n",
       "      <th>total_minutes</th>\n",
       "    </tr>\n",
       "  </thead>\n",
       "  <tbody>\n",
       "    <tr>\n",
       "      <th>5841</th>\n",
       "      <td>4e786091de5e9aa42152c2c1272240bb</td>\n",
       "      <td>e4da3b7fbbce2345d7772b0674a318d5</td>\n",
       "      <td>46fc164f717faf263059b8e6795997b1</td>\n",
       "      <td>-33.474000</td>\n",
       "      <td>-70.599000</td>\n",
       "      <td>-33.451854</td>\n",
       "      <td>-70.620939</td>\n",
       "      <td>0</td>\n",
       "      <td>T</td>\n",
       "      <td>23</td>\n",
       "      <td>0.8399</td>\n",
       "      <td>2.30</td>\n",
       "      <td>0.880000</td>\n",
       "      <td>4.76</td>\n",
       "      <td>3.192598</td>\n",
       "      <td>110.457847</td>\n",
       "    </tr>\n",
       "    <tr>\n",
       "      <th>3458</th>\n",
       "      <td>042cc9aa11d6b60d2f8436d59999667a</td>\n",
       "      <td>1f0e3dad99908345f7439f8ffabdffc4</td>\n",
       "      <td>8de2be9e2590b3068e79448c8168dbfc</td>\n",
       "      <td>-33.386547</td>\n",
       "      <td>-70.568075</td>\n",
       "      <td>-33.399804</td>\n",
       "      <td>-70.555730</td>\n",
       "      <td>1</td>\n",
       "      <td>I</td>\n",
       "      <td>12</td>\n",
       "      <td>0.8569</td>\n",
       "      <td>1.16</td>\n",
       "      <td>0.960000</td>\n",
       "      <td>4.44</td>\n",
       "      <td>1.865763</td>\n",
       "      <td>NaN</td>\n",
       "    </tr>\n",
       "    <tr>\n",
       "      <th>5587</th>\n",
       "      <td>b03a6f75eb0fb637233d383f1f90ae46</td>\n",
       "      <td>5751ec3e9a4feab575962e78e006250d</td>\n",
       "      <td>17cdf25a78747a4bf394229edff2796b</td>\n",
       "      <td>-33.463001</td>\n",
       "      <td>-70.575301</td>\n",
       "      <td>-33.442619</td>\n",
       "      <td>-70.583245</td>\n",
       "      <td>0</td>\n",
       "      <td>I</td>\n",
       "      <td>26</td>\n",
       "      <td>0.8533</td>\n",
       "      <td>1.80</td>\n",
       "      <td>0.880000</td>\n",
       "      <td>4.80</td>\n",
       "      <td>2.378203</td>\n",
       "      <td>82.491363</td>\n",
       "    </tr>\n",
       "    <tr>\n",
       "      <th>6036</th>\n",
       "      <td>8959df04c168ee235b1034b66601c402</td>\n",
       "      <td>45c48cce2e2d7fbdea1afc51c7c6ad26</td>\n",
       "      <td>9837a36ac71dfb01ea32bd2492b99a15</td>\n",
       "      <td>-33.431283</td>\n",
       "      <td>-70.578740</td>\n",
       "      <td>-33.424384</td>\n",
       "      <td>-70.602069</td>\n",
       "      <td>0</td>\n",
       "      <td>M</td>\n",
       "      <td>12</td>\n",
       "      <td>0.8788</td>\n",
       "      <td>2.31</td>\n",
       "      <td>0.777778</td>\n",
       "      <td>5.00</td>\n",
       "      <td>2.300510</td>\n",
       "      <td>105.981658</td>\n",
       "    </tr>\n",
       "  </tbody>\n",
       "</table>\n",
       "</div>"
      ],
      "text/plain": [
       "                              order_id                   store_branch_id  \\\n",
       "5841  4e786091de5e9aa42152c2c1272240bb  e4da3b7fbbce2345d7772b0674a318d5   \n",
       "3458  042cc9aa11d6b60d2f8436d59999667a  1f0e3dad99908345f7439f8ffabdffc4   \n",
       "5587  b03a6f75eb0fb637233d383f1f90ae46  5751ec3e9a4feab575962e78e006250d   \n",
       "6036  8959df04c168ee235b1034b66601c402  45c48cce2e2d7fbdea1afc51c7c6ad26   \n",
       "\n",
       "                            shopper_id  store_lat  store_long  delivery_lat  \\\n",
       "5841  46fc164f717faf263059b8e6795997b1 -33.474000  -70.599000    -33.451854   \n",
       "3458  8de2be9e2590b3068e79448c8168dbfc -33.386547  -70.568075    -33.399804   \n",
       "5587  17cdf25a78747a4bf394229edff2796b -33.463001  -70.575301    -33.442619   \n",
       "6036  9837a36ac71dfb01ea32bd2492b99a15 -33.431283  -70.578740    -33.424384   \n",
       "\n",
       "      delivery_long  on_demand seniority  order_size  found_rate  \\\n",
       "5841     -70.620939          0         T          23      0.8399   \n",
       "3458     -70.555730          1         I          12      0.8569   \n",
       "5587     -70.583245          0         I          26      0.8533   \n",
       "6036     -70.602069          0         M          12      0.8788   \n",
       "\n",
       "      picking_speed  accepted_rate  rating  distance_km  total_minutes  \n",
       "5841           2.30       0.880000    4.76     3.192598     110.457847  \n",
       "3458           1.16       0.960000    4.44     1.865763            NaN  \n",
       "5587           1.80       0.880000    4.80     2.378203      82.491363  \n",
       "6036           2.31       0.777778    5.00     2.300510     105.981658  "
      ]
     },
     "execution_count": 36,
     "metadata": {},
     "output_type": "execute_result"
    }
   ],
   "source": [
    "df_merge.sample(4)"
   ]
  },
  {
   "cell_type": "markdown",
   "metadata": {},
   "source": [
    "# 4 Exporting datasets"
   ]
  },
  {
   "cell_type": "markdown",
   "metadata": {},
   "source": [
    "4.1 Exporting test dataset (`total_minutes` = NaN) using `pd.isna`"
   ]
  },
  {
   "cell_type": "code",
   "execution_count": 42,
   "metadata": {},
   "outputs": [],
   "source": [
    "# pd.isna returns only a dataframe with the missing values on the \"total_minutes\" column\n",
    "df_TEST = df_merge.loc[(pd.isna(df_merge['total_minutes']))]\n",
    "df_TEST.to_csv('https://raw.githubusercontent.com/tiagottmoraes/CS-s-Data-Science-Test/main/data/df_TEST.csv')"
   ]
  },
  {
   "cell_type": "markdown",
   "metadata": {},
   "source": [
    "4.2 Exporting exploration/training dataset (`total_minutes` != NaN) using `pd.notna`"
   ]
  },
  {
   "cell_type": "code",
   "execution_count": 43,
   "metadata": {},
   "outputs": [],
   "source": [
    "# pd.notna returns only a dataframe with the non-missing values on the \"total_minutes\" column\n",
    "df_ETL = df_merge.loc[(pd.notna(df_merge['total_minutes']))]\n",
    "df_ETL.to_csv('https://raw.githubusercontent.com/tiagottmoraes/CS-s-Data-Science-Test/main/data/df_ETL.csv')"
   ]
  },
  {
   "cell_type": "code",
   "execution_count": null,
   "metadata": {},
   "outputs": [
    {
     "data": {
      "text/html": [
       "<div>\n",
       "<style scoped>\n",
       "    .dataframe tbody tr th:only-of-type {\n",
       "        vertical-align: middle;\n",
       "    }\n",
       "\n",
       "    .dataframe tbody tr th {\n",
       "        vertical-align: top;\n",
       "    }\n",
       "\n",
       "    .dataframe thead th {\n",
       "        text-align: right;\n",
       "    }\n",
       "</style>\n",
       "<table border=\"1\" class=\"dataframe\">\n",
       "  <thead>\n",
       "    <tr style=\"text-align: right;\">\n",
       "      <th></th>\n",
       "      <th>order_id</th>\n",
       "      <th>store_branch_id</th>\n",
       "      <th>shopper_id</th>\n",
       "      <th>store_lat</th>\n",
       "      <th>store_long</th>\n",
       "      <th>delivery_lat</th>\n",
       "      <th>delivery_long</th>\n",
       "      <th>on_demand</th>\n",
       "      <th>seniority</th>\n",
       "      <th>order_size</th>\n",
       "      <th>found_rate</th>\n",
       "      <th>picking_speed</th>\n",
       "      <th>accepted_rate</th>\n",
       "      <th>rating</th>\n",
       "      <th>distance_km</th>\n",
       "      <th>total_minutes</th>\n",
       "    </tr>\n",
       "  </thead>\n",
       "  <tbody>\n",
       "    <tr>\n",
       "      <th>3558</th>\n",
       "      <td>334cbb1c721dacc623d837072ecf03e7</td>\n",
       "      <td>1f0e3dad99908345f7439f8ffabdffc4</td>\n",
       "      <td>fe5370d6c2b59eb3f900e27d4dcb9aa6</td>\n",
       "      <td>-33.386547</td>\n",
       "      <td>-70.568075</td>\n",
       "      <td>-33.392402</td>\n",
       "      <td>-70.595779</td>\n",
       "      <td>0</td>\n",
       "      <td>I</td>\n",
       "      <td>22</td>\n",
       "      <td>0.8746</td>\n",
       "      <td>1.26</td>\n",
       "      <td>1.00</td>\n",
       "      <td>4.96</td>\n",
       "      <td>2.658082</td>\n",
       "      <td>84.904933</td>\n",
       "    </tr>\n",
       "    <tr>\n",
       "      <th>5191</th>\n",
       "      <td>e0f5794a352e2ed8a6fd9bf1947a5501</td>\n",
       "      <td>5751ec3e9a4feab575962e78e006250d</td>\n",
       "      <td>d26a3af08e9fe33e63632c93264a64c3</td>\n",
       "      <td>-33.463001</td>\n",
       "      <td>-70.575301</td>\n",
       "      <td>-33.436009</td>\n",
       "      <td>-70.606657</td>\n",
       "      <td>1</td>\n",
       "      <td>M</td>\n",
       "      <td>10</td>\n",
       "      <td>0.8533</td>\n",
       "      <td>1.57</td>\n",
       "      <td>0.84</td>\n",
       "      <td>4.96</td>\n",
       "      <td>4.178776</td>\n",
       "      <td>57.791939</td>\n",
       "    </tr>\n",
       "    <tr>\n",
       "      <th>7675</th>\n",
       "      <td>416eb3fe2ce343153be8c73edbcec3fe</td>\n",
       "      <td>cd00692c3bfe59267d5ecfac5310286c</td>\n",
       "      <td>de78db80e61fa19425ae055fd98a04f5</td>\n",
       "      <td>-33.391386</td>\n",
       "      <td>-70.546601</td>\n",
       "      <td>-33.375630</td>\n",
       "      <td>-70.546374</td>\n",
       "      <td>0</td>\n",
       "      <td>T</td>\n",
       "      <td>2</td>\n",
       "      <td>0.8755</td>\n",
       "      <td>2.11</td>\n",
       "      <td>1.00</td>\n",
       "      <td>4.96</td>\n",
       "      <td>1.747701</td>\n",
       "      <td>51.478628</td>\n",
       "    </tr>\n",
       "    <tr>\n",
       "      <th>8185</th>\n",
       "      <td>ab5c14c8325ba3374b110802978e4c43</td>\n",
       "      <td>298f95e1bf9136124592c8d4825a06fc</td>\n",
       "      <td>8386a689ebc114f3379c971ab3e163cf</td>\n",
       "      <td>-36.817707</td>\n",
       "      <td>-73.033122</td>\n",
       "      <td>-36.865921</td>\n",
       "      <td>-73.100072</td>\n",
       "      <td>0</td>\n",
       "      <td>M</td>\n",
       "      <td>16</td>\n",
       "      <td>0.8642</td>\n",
       "      <td>1.67</td>\n",
       "      <td>0.80</td>\n",
       "      <td>4.96</td>\n",
       "      <td>8.018033</td>\n",
       "      <td>68.722987</td>\n",
       "    </tr>\n",
       "    <tr>\n",
       "      <th>1444</th>\n",
       "      <td>d374f458ece79b6a48b994fd5b57d9f8</td>\n",
       "      <td>1679091c5a880faf6fb5e6087eb1b2dc</td>\n",
       "      <td>239c0301a20e0906a021bf39d25556d1</td>\n",
       "      <td>-33.370765</td>\n",
       "      <td>-70.512420</td>\n",
       "      <td>-33.348537</td>\n",
       "      <td>-70.547610</td>\n",
       "      <td>1</td>\n",
       "      <td>T</td>\n",
       "      <td>20</td>\n",
       "      <td>0.8494</td>\n",
       "      <td>1.72</td>\n",
       "      <td>0.96</td>\n",
       "      <td>4.64</td>\n",
       "      <td>4.099372</td>\n",
       "      <td>82.613804</td>\n",
       "    </tr>\n",
       "  </tbody>\n",
       "</table>\n",
       "</div>"
      ],
      "text/plain": [
       "                              order_id                   store_branch_id  \\\n",
       "3558  334cbb1c721dacc623d837072ecf03e7  1f0e3dad99908345f7439f8ffabdffc4   \n",
       "5191  e0f5794a352e2ed8a6fd9bf1947a5501  5751ec3e9a4feab575962e78e006250d   \n",
       "7675  416eb3fe2ce343153be8c73edbcec3fe  cd00692c3bfe59267d5ecfac5310286c   \n",
       "8185  ab5c14c8325ba3374b110802978e4c43  298f95e1bf9136124592c8d4825a06fc   \n",
       "1444  d374f458ece79b6a48b994fd5b57d9f8  1679091c5a880faf6fb5e6087eb1b2dc   \n",
       "\n",
       "                            shopper_id  store_lat  store_long  delivery_lat  \\\n",
       "3558  fe5370d6c2b59eb3f900e27d4dcb9aa6 -33.386547  -70.568075    -33.392402   \n",
       "5191  d26a3af08e9fe33e63632c93264a64c3 -33.463001  -70.575301    -33.436009   \n",
       "7675  de78db80e61fa19425ae055fd98a04f5 -33.391386  -70.546601    -33.375630   \n",
       "8185  8386a689ebc114f3379c971ab3e163cf -36.817707  -73.033122    -36.865921   \n",
       "1444  239c0301a20e0906a021bf39d25556d1 -33.370765  -70.512420    -33.348537   \n",
       "\n",
       "      delivery_long  on_demand seniority  order_size  found_rate  \\\n",
       "3558     -70.595779          0         I          22      0.8746   \n",
       "5191     -70.606657          1         M          10      0.8533   \n",
       "7675     -70.546374          0         T           2      0.8755   \n",
       "8185     -73.100072          0         M          16      0.8642   \n",
       "1444     -70.547610          1         T          20      0.8494   \n",
       "\n",
       "      picking_speed  accepted_rate  rating  distance_km  total_minutes  \n",
       "3558           1.26           1.00    4.96     2.658082      84.904933  \n",
       "5191           1.57           0.84    4.96     4.178776      57.791939  \n",
       "7675           2.11           1.00    4.96     1.747701      51.478628  \n",
       "8185           1.67           0.80    4.96     8.018033      68.722987  \n",
       "1444           1.72           0.96    4.64     4.099372      82.613804  "
      ]
     },
     "execution_count": 39,
     "metadata": {},
     "output_type": "execute_result"
    }
   ],
   "source": [
    "#final dataset before EDA and ML modeling\n",
    "df_ETL.sample(5)"
   ]
  },
  {
   "cell_type": "markdown",
   "metadata": {},
   "source": [
    "This concludes the ETL analysis. The next notebook **[2.EDA_-_Data_Science_Test.ipynb](#https://github.com/tiagottmoraes/CS-s-Data-Science-Test/blob/main/2.EDA_-_Data_Science_Test.ipynb)**, which presents exploratory statistical analysis on the processed dataframe."
   ]
  }
 ],
 "metadata": {
  "interpreter": {
   "hash": "3b7fe9b675e268ef82517985ff54749325a0dd76c33378a0a8fb0c05b54b375d"
  },
  "kernelspec": {
   "display_name": "Python 3.9.7 64-bit",
   "language": "python",
   "name": "python3"
  },
  "language_info": {
   "codemirror_mode": {
    "name": "ipython",
    "version": 3
   },
   "file_extension": ".py",
   "mimetype": "text/x-python",
   "name": "python",
   "nbconvert_exporter": "python",
   "pygments_lexer": "ipython3",
   "version": "3.9.7"
  },
  "orig_nbformat": 4
 },
 "nbformat": 4,
 "nbformat_minor": 2
}
